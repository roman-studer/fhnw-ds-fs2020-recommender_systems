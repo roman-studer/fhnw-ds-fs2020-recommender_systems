{
 "cells": [
  {
   "cell_type": "markdown",
   "metadata": {},
   "source": [
    "Autor: Roman Janic Studer "
   ]
  },
  {
   "cell_type": "code",
   "execution_count": 2,
   "metadata": {},
   "outputs": [],
   "source": [
    "import pandas as pd\n",
    "import numpy as np\n",
    "import csv\n",
    "import pickle\n",
    "from pathlib import Path"
   ]
  },
  {
   "cell_type": "markdown",
   "metadata": {},
   "source": [
    "# Product Reduction using a Rating\n",
    "------\n",
    "This Notebook is used to create a List of all products, rate them and eliminate up to 80% of the \"weakest\" products. (Rating should not be used for a recommender at a later state)"
   ]
  },
  {
   "cell_type": "code",
   "execution_count": 3,
   "metadata": {},
   "outputs": [
    {
     "data": {
      "text/html": [
       "<div>\n",
       "<style scoped>\n",
       "    .dataframe tbody tr th:only-of-type {\n",
       "        vertical-align: middle;\n",
       "    }\n",
       "\n",
       "    .dataframe tbody tr th {\n",
       "        vertical-align: top;\n",
       "    }\n",
       "\n",
       "    .dataframe thead th {\n",
       "        text-align: right;\n",
       "    }\n",
       "</style>\n",
       "<table border=\"1\" class=\"dataframe\">\n",
       "  <thead>\n",
       "    <tr style=\"text-align: right;\">\n",
       "      <th></th>\n",
       "      <th>Unnamed: 0</th>\n",
       "      <th>order_id</th>\n",
       "      <th>user_id</th>\n",
       "      <th>eval_set</th>\n",
       "      <th>order_number</th>\n",
       "      <th>order_dow</th>\n",
       "      <th>order_hour_of_day</th>\n",
       "      <th>days_since_prior_order</th>\n",
       "      <th>product_id</th>\n",
       "      <th>add_to_cart_order</th>\n",
       "      <th>reordered</th>\n",
       "      <th>product_name</th>\n",
       "      <th>aisle_id</th>\n",
       "      <th>department_id</th>\n",
       "      <th>department</th>\n",
       "      <th>aisle</th>\n",
       "    </tr>\n",
       "  </thead>\n",
       "  <tbody>\n",
       "    <tr>\n",
       "      <th>0</th>\n",
       "      <td>1</td>\n",
       "      <td>2539329</td>\n",
       "      <td>1</td>\n",
       "      <td>prior</td>\n",
       "      <td>1</td>\n",
       "      <td>2</td>\n",
       "      <td>8</td>\n",
       "      <td>NaN</td>\n",
       "      <td>196</td>\n",
       "      <td>1</td>\n",
       "      <td>0</td>\n",
       "      <td>Soda</td>\n",
       "      <td>77</td>\n",
       "      <td>7</td>\n",
       "      <td>beverages</td>\n",
       "      <td>soft drinks</td>\n",
       "    </tr>\n",
       "    <tr>\n",
       "      <th>1</th>\n",
       "      <td>2</td>\n",
       "      <td>2539329</td>\n",
       "      <td>1</td>\n",
       "      <td>prior</td>\n",
       "      <td>1</td>\n",
       "      <td>2</td>\n",
       "      <td>8</td>\n",
       "      <td>NaN</td>\n",
       "      <td>14084</td>\n",
       "      <td>2</td>\n",
       "      <td>0</td>\n",
       "      <td>Organic Unsweetened Vanilla Almond Milk</td>\n",
       "      <td>91</td>\n",
       "      <td>16</td>\n",
       "      <td>dairy eggs</td>\n",
       "      <td>soy lactosefree</td>\n",
       "    </tr>\n",
       "    <tr>\n",
       "      <th>2</th>\n",
       "      <td>3</td>\n",
       "      <td>2539329</td>\n",
       "      <td>1</td>\n",
       "      <td>prior</td>\n",
       "      <td>1</td>\n",
       "      <td>2</td>\n",
       "      <td>8</td>\n",
       "      <td>NaN</td>\n",
       "      <td>12427</td>\n",
       "      <td>3</td>\n",
       "      <td>0</td>\n",
       "      <td>Original Beef Jerky</td>\n",
       "      <td>23</td>\n",
       "      <td>19</td>\n",
       "      <td>snacks</td>\n",
       "      <td>popcorn jerky</td>\n",
       "    </tr>\n",
       "    <tr>\n",
       "      <th>3</th>\n",
       "      <td>4</td>\n",
       "      <td>2539329</td>\n",
       "      <td>1</td>\n",
       "      <td>prior</td>\n",
       "      <td>1</td>\n",
       "      <td>2</td>\n",
       "      <td>8</td>\n",
       "      <td>NaN</td>\n",
       "      <td>26088</td>\n",
       "      <td>4</td>\n",
       "      <td>0</td>\n",
       "      <td>Aged White Cheddar Popcorn</td>\n",
       "      <td>23</td>\n",
       "      <td>19</td>\n",
       "      <td>snacks</td>\n",
       "      <td>popcorn jerky</td>\n",
       "    </tr>\n",
       "    <tr>\n",
       "      <th>4</th>\n",
       "      <td>5</td>\n",
       "      <td>2539329</td>\n",
       "      <td>1</td>\n",
       "      <td>prior</td>\n",
       "      <td>1</td>\n",
       "      <td>2</td>\n",
       "      <td>8</td>\n",
       "      <td>NaN</td>\n",
       "      <td>26405</td>\n",
       "      <td>5</td>\n",
       "      <td>0</td>\n",
       "      <td>XL Pick-A-Size Paper Towel Rolls</td>\n",
       "      <td>54</td>\n",
       "      <td>17</td>\n",
       "      <td>household</td>\n",
       "      <td>paper goods</td>\n",
       "    </tr>\n",
       "  </tbody>\n",
       "</table>\n",
       "</div>"
      ],
      "text/plain": [
       "   Unnamed: 0  order_id  user_id eval_set  order_number  order_dow  \\\n",
       "0           1   2539329        1    prior             1          2   \n",
       "1           2   2539329        1    prior             1          2   \n",
       "2           3   2539329        1    prior             1          2   \n",
       "3           4   2539329        1    prior             1          2   \n",
       "4           5   2539329        1    prior             1          2   \n",
       "\n",
       "   order_hour_of_day  days_since_prior_order  product_id  add_to_cart_order  \\\n",
       "0                  8                     NaN         196                  1   \n",
       "1                  8                     NaN       14084                  2   \n",
       "2                  8                     NaN       12427                  3   \n",
       "3                  8                     NaN       26088                  4   \n",
       "4                  8                     NaN       26405                  5   \n",
       "\n",
       "   reordered                             product_name  aisle_id  \\\n",
       "0          0                                     Soda        77   \n",
       "1          0  Organic Unsweetened Vanilla Almond Milk        91   \n",
       "2          0                      Original Beef Jerky        23   \n",
       "3          0               Aged White Cheddar Popcorn        23   \n",
       "4          0         XL Pick-A-Size Paper Towel Rolls        54   \n",
       "\n",
       "   department_id  department            aisle  \n",
       "0              7   beverages      soft drinks  \n",
       "1             16  dairy eggs  soy lactosefree  \n",
       "2             19      snacks    popcorn jerky  \n",
       "3             19      snacks    popcorn jerky  \n",
       "4             17   household      paper goods  "
      ]
     },
     "execution_count": 3,
     "metadata": {},
     "output_type": "execute_result"
    }
   ],
   "source": [
    "#load first few roads to get an overview of the data\n",
    "overview = pd.read_csv('Recommender4Retail.csv', nrows = 10)\n",
    "overview.head()"
   ]
  },
  {
   "cell_type": "code",
   "execution_count": 64,
   "metadata": {},
   "outputs": [
    {
     "data": {
      "text/html": [
       "<div>\n",
       "<style scoped>\n",
       "    .dataframe tbody tr th:only-of-type {\n",
       "        vertical-align: middle;\n",
       "    }\n",
       "\n",
       "    .dataframe tbody tr th {\n",
       "        vertical-align: top;\n",
       "    }\n",
       "\n",
       "    .dataframe thead th {\n",
       "        text-align: right;\n",
       "    }\n",
       "</style>\n",
       "<table border=\"1\" class=\"dataframe\">\n",
       "  <thead>\n",
       "    <tr style=\"text-align: right;\">\n",
       "      <th></th>\n",
       "      <th>Unnamed: 0</th>\n",
       "      <th>order_id</th>\n",
       "      <th>user_id</th>\n",
       "      <th>eval_set</th>\n",
       "      <th>order_number</th>\n",
       "      <th>order_dow</th>\n",
       "      <th>order_hour_of_day</th>\n",
       "      <th>days_since_prior_order</th>\n",
       "      <th>product_id</th>\n",
       "      <th>add_to_cart_order</th>\n",
       "      <th>reordered</th>\n",
       "      <th>product_name</th>\n",
       "      <th>aisle_id</th>\n",
       "      <th>department_id</th>\n",
       "      <th>department</th>\n",
       "      <th>aisle</th>\n",
       "    </tr>\n",
       "  </thead>\n",
       "  <tbody>\n",
       "    <tr>\n",
       "      <th>1015401</th>\n",
       "      <td>1015402</td>\n",
       "      <td>1542362</td>\n",
       "      <td>6301</td>\n",
       "      <td>prior</td>\n",
       "      <td>4</td>\n",
       "      <td>2</td>\n",
       "      <td>14</td>\n",
       "      <td>15.0</td>\n",
       "      <td>24849</td>\n",
       "      <td>14</td>\n",
       "      <td>0</td>\n",
       "      <td>Cheese &amp; Fresh Herb Flatbread Pizza</td>\n",
       "      <td>79</td>\n",
       "      <td>1</td>\n",
       "      <td>frozen</td>\n",
       "      <td>frozen pizza</td>\n",
       "    </tr>\n",
       "  </tbody>\n",
       "</table>\n",
       "</div>"
      ],
      "text/plain": [
       "         Unnamed: 0  order_id  user_id eval_set  order_number  order_dow  \\\n",
       "1015401     1015402   1542362     6301    prior             4          2   \n",
       "\n",
       "         order_hour_of_day  days_since_prior_order  product_id  \\\n",
       "1015401                 14                    15.0       24849   \n",
       "\n",
       "         add_to_cart_order  reordered                         product_name  \\\n",
       "1015401                 14          0  Cheese & Fresh Herb Flatbread Pizza   \n",
       "\n",
       "         aisle_id  department_id department         aisle  \n",
       "1015401        79              1     frozen  frozen pizza  "
      ]
     },
     "execution_count": 64,
     "metadata": {},
     "output_type": "execute_result"
    }
   ],
   "source": [
    "overview.loc[overview.product_id == 24849]"
   ]
  },
  {
   "cell_type": "markdown",
   "metadata": {},
   "source": [
    "### Extract a list of Products and Orders out of a DataFrame\n",
    "----\n",
    "The following code-blocks are used to extract all unique values for a certain column (in our case `product_id`). \n",
    "The difficulty here is that the dataset is to large to be loaded at once. Because the extraction of the unique values for a large dataset takes some time I decided to save the created lists as a pickle file to be able to load them in after a restart of the notebook."
   ]
  },
  {
   "cell_type": "code",
   "execution_count": 3,
   "metadata": {},
   "outputs": [],
   "source": [
    "def extract_unique_values(data,column, chunksize=None):\n",
    "    \"\"\"\n",
    "    Extracts the unique values for a certain column in a dataframe\n",
    "    \n",
    "    :param str, data is the path to a csv\n",
    "    :column str, column to be filtered\n",
    "    :chunksize int, defines the size of a batch to load\n",
    "    \n",
    "    :return list, of all unique values\n",
    "    \"\"\"\n",
    "    products = []\n",
    "    \n",
    "    for chunk in pd.read_csv(data, chunksize=chunksize):\n",
    "        \n",
    "        # could be optimized \n",
    "        t = chunk[column].value_counts()\n",
    "        t = pd.DataFrame(t).reset_index()\n",
    "        t = t.rename(columns={'index': 'product'})\n",
    "        \n",
    "        for val in t['product'].values.tolist():\n",
    "            products.append(val)\n",
    "    list_set = set(products)\n",
    "    unique_val = list(list_set)\n",
    "    \n",
    "    return unique_val"
   ]
  },
  {
   "cell_type": "markdown",
   "metadata": {},
   "source": [
    "#### Use function to create a list of unique products and unique orders"
   ]
  },
  {
   "cell_type": "code",
   "execution_count": 4,
   "metadata": {},
   "outputs": [],
   "source": [
    "if Path('product_ids.pkl').is_file():\n",
    "    pass\n",
    "else:\n",
    "    extract_unique_values('Recommender4Retail.csv', 'product_id', chunksize=10_000)\n",
    "    with open('product_ids.pkl', 'wb') as f:\n",
    "        pickle.dump(products, f)\n",
    "\n",
    "# load saved data to \n",
    "with open('product_ids.pkl', 'rb') as f:\n",
    "    products = pickle.load(f);"
   ]
  },
  {
   "cell_type": "code",
   "execution_count": 5,
   "metadata": {},
   "outputs": [],
   "source": [
    "if Path('order_ids.pkl').is_file():\n",
    "    pass\n",
    "else:\n",
    "    extract_unique_values('Recommender4Retail.csv', 'order_id', chunksize=10_000)\n",
    "    with open('order_ids.pkl', 'wb') as f:\n",
    "        pickle.dump(orders, f)\n",
    "        \n",
    "# load saved data to \n",
    "with open('order_ids.pkl', 'rb') as f:\n",
    "    orders = pickle.load(f);"
   ]
  },
  {
   "cell_type": "code",
   "execution_count": 6,
   "metadata": {},
   "outputs": [
    {
     "data": {
      "text/plain": [
       "'Total number of Products in Recommender4Retail.csv: 49685'"
      ]
     },
     "execution_count": 6,
     "metadata": {},
     "output_type": "execute_result"
    }
   ],
   "source": [
    "f'Total number of Products in Recommender4Retail.csv: {len(products)}' \n",
    "# Products: 49_685"
   ]
  },
  {
   "cell_type": "code",
   "execution_count": 65,
   "metadata": {},
   "outputs": [
    {
     "data": {
      "text/plain": [
       "'Total number of Customers in Recommender4Reteail.csv: 3346083'"
      ]
     },
     "execution_count": 65,
     "metadata": {},
     "output_type": "execute_result"
    }
   ],
   "source": [
    "f'Total number of Customers in Recommender4Reteail.csv: {len(orders)}' \n",
    "# Orders: 3_346_083"
   ]
  },
  {
   "cell_type": "markdown",
   "metadata": {},
   "source": [
    "### Create DataFrame as a basis for a rating\n",
    "----\n",
    "The code above created two lists called `products` and `orders` representing all products and orders in the dataset. With this information, we can calculate a rating for every product. The function `calc_product_order_reorder_df` creates a DataFrame containing columns which contain information that can be used to create a rating of the product.\n",
    "\n",
    "- `index` = product id\n",
    "- `n_orders` = number of orders for the product\n",
    "- `n_users` = number of users that ordered the product\n",
    "- `n_reorders` = number of reorders for the product"
   ]
  },
  {
   "cell_type": "code",
   "execution_count": 14,
   "metadata": {},
   "outputs": [],
   "source": [
    "def calc_product_order_reorder_count():\n",
    "    %timeit\n",
    "    chunks = pd.read_csv(\"Recommender4Retail.csv\",chunksize=10_000)\n",
    "    subsets = [chunk.groupby('product_id').agg({'product_id':'count',\n",
    "                                                'user_id': 'nunique',\n",
    "                                                'reordered':'sum'}) for chunk in chunks]\n",
    "\n",
    "    df = pd.concat(subsets).groupby(level=0).sum()\n",
    "    \n",
    "    df.reset_index(inplace=True, drop=True)\n",
    "    df.rename(columns={\"product_id\": \"n_orders\", \"user_id\": \"n_users\", 'reordered': \"n_reorders\"}, inplace=True)\n",
    "    return df"
   ]
  },
  {
   "cell_type": "code",
   "execution_count": 15,
   "metadata": {},
   "outputs": [],
   "source": [
    "df = calc_product_order_reorder_count()"
   ]
  },
  {
   "cell_type": "code",
   "execution_count": 19,
   "metadata": {},
   "outputs": [
    {
     "data": {
      "text/html": [
       "<div>\n",
       "<style scoped>\n",
       "    .dataframe tbody tr th:only-of-type {\n",
       "        vertical-align: middle;\n",
       "    }\n",
       "\n",
       "    .dataframe tbody tr th {\n",
       "        vertical-align: top;\n",
       "    }\n",
       "\n",
       "    .dataframe thead th {\n",
       "        text-align: right;\n",
       "    }\n",
       "</style>\n",
       "<table border=\"1\" class=\"dataframe\">\n",
       "  <thead>\n",
       "    <tr style=\"text-align: right;\">\n",
       "      <th></th>\n",
       "      <th>n_orders</th>\n",
       "      <th>n_users</th>\n",
       "      <th>n_reorders</th>\n",
       "    </tr>\n",
       "  </thead>\n",
       "  <tbody>\n",
       "    <tr>\n",
       "      <th>0</th>\n",
       "      <td>1928</td>\n",
       "      <td>746</td>\n",
       "      <td>1185</td>\n",
       "    </tr>\n",
       "    <tr>\n",
       "      <th>1</th>\n",
       "      <td>94</td>\n",
       "      <td>81</td>\n",
       "      <td>13</td>\n",
       "    </tr>\n",
       "    <tr>\n",
       "      <th>2</th>\n",
       "      <td>283</td>\n",
       "      <td>74</td>\n",
       "      <td>209</td>\n",
       "    </tr>\n",
       "    <tr>\n",
       "      <th>3</th>\n",
       "      <td>351</td>\n",
       "      <td>190</td>\n",
       "      <td>161</td>\n",
       "    </tr>\n",
       "    <tr>\n",
       "      <th>4</th>\n",
       "      <td>16</td>\n",
       "      <td>6</td>\n",
       "      <td>10</td>\n",
       "    </tr>\n",
       "  </tbody>\n",
       "</table>\n",
       "</div>"
      ],
      "text/plain": [
       "   n_orders  n_users  n_reorders\n",
       "0      1928      746        1185\n",
       "1        94       81          13\n",
       "2       283       74         209\n",
       "3       351      190         161\n",
       "4        16        6          10"
      ]
     },
     "execution_count": 19,
     "metadata": {},
     "output_type": "execute_result"
    }
   ],
   "source": [
    "df.head()"
   ]
  },
  {
   "cell_type": "code",
   "execution_count": 11,
   "metadata": {},
   "outputs": [
    {
     "name": "stdout",
     "output_type": "stream",
     "text": [
      "Number of Products in list: 49685\n"
     ]
    }
   ],
   "source": [
    "# sanity check: \n",
    "print(f'Number of Products in list: {len(df)}') # should be 49685 -> correct"
   ]
  },
  {
   "cell_type": "markdown",
   "metadata": {},
   "source": [
    "### Calcuate the Support of the Products and implement it into a rating formula\n",
    "-----\n",
    "\n",
    "The Apriori - Algoritmn works with two probabilistic measurements which rate the assoziationrules: Support and Confidence. The support represents the probability of an item being in a basket. We use the basic idea of the support to calculate a Rating for every product containing information about how often the product has been bought, how many customers bought the product, and how many of those customers reordered the product. This gives us the \"rating\" formula below:"
   ]
  },
  {
   "cell_type": "markdown",
   "metadata": {},
   "source": [
    "#### Mathematical Approach\n",
    "To callculate the support we need a Multiset $$X = \\text{Product for every transaction}$$ containing all ordered products. \n",
    "\n",
    "The formula to calculate the Support can be written as follows:\n",
    "$$\n",
    "support(x\\in X) =  \\frac{|\\forall x \\in X|}{|X|}\n",
    "$$\n",
    "\n",
    "Or in writing:\n",
    "$$\n",
    "support(\\text{Product}) =  \\frac{\\text{Number of Buys of the Product}}{\\text{Total number of transactions}}\n",
    "$$\n",
    "\n",
    "Rating formula:\n",
    "$$\n",
    "rating(\\text{Product}) =  \\text{normalized}( \\frac{\\text{Number of Buys of the Product}}{\\text{Total number of transactions}}+\\frac{\\text{Number of Customers for the Product}}{\\text{Total number of Customers}}+\\frac{\\text{Number of Reorders of the Product}}{\\text{Total number of Reorders}} )\n",
    "$$"
   ]
  },
  {
   "cell_type": "code",
   "execution_count": 20,
   "metadata": {},
   "outputs": [
    {
     "data": {
      "text/html": [
       "<div>\n",
       "<style scoped>\n",
       "    .dataframe tbody tr th:only-of-type {\n",
       "        vertical-align: middle;\n",
       "    }\n",
       "\n",
       "    .dataframe tbody tr th {\n",
       "        vertical-align: top;\n",
       "    }\n",
       "\n",
       "    .dataframe thead th {\n",
       "        text-align: right;\n",
       "    }\n",
       "</style>\n",
       "<table border=\"1\" class=\"dataframe\">\n",
       "  <thead>\n",
       "    <tr style=\"text-align: right;\">\n",
       "      <th></th>\n",
       "      <th>n_orders</th>\n",
       "      <th>n_users</th>\n",
       "      <th>n_reorders</th>\n",
       "      <th>rating</th>\n",
       "    </tr>\n",
       "  </thead>\n",
       "  <tbody>\n",
       "    <tr>\n",
       "      <th>0</th>\n",
       "      <td>1928</td>\n",
       "      <td>746</td>\n",
       "      <td>1185</td>\n",
       "      <td>0.003679</td>\n",
       "    </tr>\n",
       "    <tr>\n",
       "      <th>1</th>\n",
       "      <td>94</td>\n",
       "      <td>81</td>\n",
       "      <td>13</td>\n",
       "      <td>0.000153</td>\n",
       "    </tr>\n",
       "    <tr>\n",
       "      <th>2</th>\n",
       "      <td>283</td>\n",
       "      <td>74</td>\n",
       "      <td>209</td>\n",
       "      <td>0.000558</td>\n",
       "    </tr>\n",
       "    <tr>\n",
       "      <th>3</th>\n",
       "      <td>351</td>\n",
       "      <td>190</td>\n",
       "      <td>161</td>\n",
       "      <td>0.000638</td>\n",
       "    </tr>\n",
       "    <tr>\n",
       "      <th>4</th>\n",
       "      <td>16</td>\n",
       "      <td>6</td>\n",
       "      <td>10</td>\n",
       "      <td>0.000029</td>\n",
       "    </tr>\n",
       "  </tbody>\n",
       "</table>\n",
       "</div>"
      ],
      "text/plain": [
       "   n_orders  n_users  n_reorders    rating\n",
       "0      1928      746        1185  0.003679\n",
       "1        94       81          13  0.000153\n",
       "2       283       74         209  0.000558\n",
       "3       351      190         161  0.000638\n",
       "4        16        6          10  0.000029"
      ]
     },
     "execution_count": 20,
     "metadata": {},
     "output_type": "execute_result"
    }
   ],
   "source": [
    "# calculate rating\n",
    "n_orders = sum(df['n_orders'])\n",
    "n_customers = sum(df['n_users'])\n",
    "n_reorders = sum(df['n_reorders'])\n",
    "df['rating']= df['n_orders']/n_orders + df['n_users']/n_orders + df['n_reorders']/n_reorders\n",
    "\n",
    "# normalize rating\n",
    "df['rating'] = (df['rating']-df['rating'].min())/(df['rating'].max()-df['rating'].min())\n",
    "\n",
    "df.head()"
   ]
  },
  {
   "cell_type": "markdown",
   "metadata": {},
   "source": [
    "### Drop \"weak\" products\n",
    "----\n",
    "With the now calculated support for each product, we can now evaluate and sort the products. This allows us to remove  weak, rarely purchased products."
   ]
  },
  {
   "cell_type": "code",
   "execution_count": 22,
   "metadata": {},
   "outputs": [],
   "source": [
    "def drop_products(df, rate=0.8):\n",
    "    \"\"\"\n",
    "    Function drops a predefined percentage of products\n",
    "    \n",
    "    :param df: pandas dataframe\n",
    "    :param rate: float that definies how many products should be dropped (percentage)\n",
    "    :return df: DataFrame containing all the product_id's to keep\n",
    "    \"\"\"\n",
    "    # sort values:\n",
    "    df.sort_values('rating', ascending=False, inplace=True)\n",
    "    \n",
    "    # calculate condition to drop\n",
    "    rows_to_drop = int(len(df)*rate)\n",
    "    df = df.drop(df.tail(rows_to_drop).index)\n",
    "    \n",
    "    return df"
   ]
  },
  {
   "cell_type": "code",
   "execution_count": 23,
   "metadata": {},
   "outputs": [],
   "source": [
    "reduced_df = drop_products(df);"
   ]
  },
  {
   "cell_type": "code",
   "execution_count": 24,
   "metadata": {},
   "outputs": [
    {
     "name": "stdout",
     "output_type": "stream",
     "text": [
      "<class 'pandas.core.frame.DataFrame'>\n",
      "Int64Index: 9937 entries, 24849 to 35637\n",
      "Data columns (total 4 columns):\n",
      "n_orders      9937 non-null int64\n",
      "n_users       9937 non-null int64\n",
      "n_reorders    9937 non-null int64\n",
      "rating        9937 non-null float64\n",
      "dtypes: float64(1), int64(3)\n",
      "memory usage: 388.2 KB\n"
     ]
    }
   ],
   "source": [
    "reduced_df.info()"
   ]
  },
  {
   "cell_type": "code",
   "execution_count": 29,
   "metadata": {},
   "outputs": [
    {
     "data": {
      "text/html": [
       "<div>\n",
       "<style scoped>\n",
       "    .dataframe tbody tr th:only-of-type {\n",
       "        vertical-align: middle;\n",
       "    }\n",
       "\n",
       "    .dataframe tbody tr th {\n",
       "        vertical-align: top;\n",
       "    }\n",
       "\n",
       "    .dataframe thead th {\n",
       "        text-align: right;\n",
       "    }\n",
       "</style>\n",
       "<table border=\"1\" class=\"dataframe\">\n",
       "  <thead>\n",
       "    <tr style=\"text-align: right;\">\n",
       "      <th></th>\n",
       "      <th>n_orders</th>\n",
       "      <th>n_users</th>\n",
       "      <th>n_reorders</th>\n",
       "      <th>rating</th>\n",
       "    </tr>\n",
       "  </thead>\n",
       "  <tbody>\n",
       "    <tr>\n",
       "      <th>24849</th>\n",
       "      <td>491291</td>\n",
       "      <td>77103</td>\n",
       "      <td>415166</td>\n",
       "      <td>1.000000</td>\n",
       "    </tr>\n",
       "    <tr>\n",
       "      <th>13173</th>\n",
       "      <td>394930</td>\n",
       "      <td>66470</td>\n",
       "      <td>329275</td>\n",
       "      <td>0.801447</td>\n",
       "    </tr>\n",
       "    <tr>\n",
       "      <th>21134</th>\n",
       "      <td>275577</td>\n",
       "      <td>61951</td>\n",
       "      <td>214448</td>\n",
       "      <td>0.551073</td>\n",
       "    </tr>\n",
       "    <tr>\n",
       "      <th>21900</th>\n",
       "      <td>251705</td>\n",
       "      <td>57455</td>\n",
       "      <td>194939</td>\n",
       "      <td>0.502778</td>\n",
       "    </tr>\n",
       "    <tr>\n",
       "      <th>47205</th>\n",
       "      <td>220877</td>\n",
       "      <td>45291</td>\n",
       "      <td>176173</td>\n",
       "      <td>0.443976</td>\n",
       "    </tr>\n",
       "  </tbody>\n",
       "</table>\n",
       "</div>"
      ],
      "text/plain": [
       "       n_orders  n_users  n_reorders    rating\n",
       "24849    491291    77103      415166  1.000000\n",
       "13173    394930    66470      329275  0.801447\n",
       "21134    275577    61951      214448  0.551073\n",
       "21900    251705    57455      194939  0.502778\n",
       "47205    220877    45291      176173  0.443976"
      ]
     },
     "execution_count": 29,
     "metadata": {},
     "output_type": "execute_result"
    }
   ],
   "source": [
    "reduced_df.head()"
   ]
  },
  {
   "cell_type": "code",
   "execution_count": 26,
   "metadata": {},
   "outputs": [],
   "source": [
    "# list of products to keep:\n",
    "good_products = reduced_df.index.tolist()"
   ]
  },
  {
   "cell_type": "code",
   "execution_count": 27,
   "metadata": {},
   "outputs": [],
   "source": [
    "# drop columns with bad products\n",
    "if Path('rating.csv').is_file():\n",
    "    pass\n",
    "else:\n",
    "    chunks = pd.read_csv('Recommender4Retail.csv', chunksize=10_000)\n",
    "    for chunk in chunks:\n",
    "        chunk = chunk[chunk['product_id'].isin(good_products)]\n",
    "\n",
    "        if Path('rating.csv').is_file():\n",
    "            chunk.to_csv('rating.csv', mode='a', header=False)\n",
    "        else:\n",
    "            chunk.to_csv('rating.csv', mode='a', header=True)"
   ]
  }
 ],
 "metadata": {
  "kernelspec": {
   "display_name": "Python 3",
   "language": "python",
   "name": "python3"
  },
  "language_info": {
   "codemirror_mode": {
    "name": "ipython",
    "version": 3
   },
   "file_extension": ".py",
   "mimetype": "text/x-python",
   "name": "python",
   "nbconvert_exporter": "python",
   "pygments_lexer": "ipython3",
   "version": "3.7.3"
  }
 },
 "nbformat": 4,
 "nbformat_minor": 4
}
