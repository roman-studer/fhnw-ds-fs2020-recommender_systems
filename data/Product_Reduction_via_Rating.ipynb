{
 "cells": [
  {
   "cell_type": "markdown",
   "metadata": {},
   "source": [
    "Autor: Roman Studer "
   ]
  },
  {
   "cell_type": "code",
   "execution_count": 2,
   "metadata": {},
   "outputs": [],
   "source": [
    "import pandas as pd\n",
    "import numpy as np\n",
    "import csv\n",
    "import pickle\n",
    "from pathlib import Path"
   ]
  },
  {
   "cell_type": "markdown",
   "metadata": {},
   "source": [
    "# Product Reduction using a Rating\n",
    "------\n",
    "This Notebook is used to create a List of all products, rate them and eliminate up to 80% of the \"weakest\" products. (Rating should not be used for a recommender at a later state)"
   ]
  },
  {
   "cell_type": "code",
   "execution_count": 3,
   "metadata": {},
   "outputs": [],
   "source": [
    "#load first few roads to get an overview of the data\n",
    "overview = pd.read_csv('Recommender4Retail.csv', nrows = 10)\n",
    "overview.head()\n",
    "df = pd.read_csv('Recommender4Retail.csv', nrows = 1_000_000)"
   ]
  },
  {
   "cell_type": "markdown",
   "metadata": {},
   "source": [
    "### Extract a list of Products and Orders out of a DataFrame\n",
    "----\n",
    "The following code-blocks are used to extract all unique values for a certain column (in our case `product_name`). \n",
    "The difficulty here is that the dataset is to large to be loaded at once. Because the extraction of the unique values for a large dataset takes some time I decided to save the created lists as a pickle file to be able to load them in after a restart of the notebook."
   ]
  },
  {
   "cell_type": "code",
   "execution_count": 3,
   "metadata": {},
   "outputs": [],
   "source": [
    "def extract_unique_values(data,column, chunksize=None):\n",
    "    \"\"\"\n",
    "    Extracts the unique values for a certain column in a dataframe\n",
    "    \n",
    "    :param str, data is the path to a csv\n",
    "    :column str, column to be filtered\n",
    "    :chunksize int, defines the size of a batch to load\n",
    "    \n",
    "    :return list, of all unique values\n",
    "    \"\"\"\n",
    "    products = []\n",
    "    \n",
    "    for chunk in pd.read_csv(data, chunksize=chunksize):\n",
    "        \n",
    "        # could be optimized \n",
    "        t = chunk[column].value_counts()\n",
    "        t = pd.DataFrame(t).reset_index()\n",
    "        t = t.rename(columns={'index': 'product'})\n",
    "        \n",
    "        for val in t['product'].values.tolist():\n",
    "            products.append(val)\n",
    "    list_set = set(products)\n",
    "    unique_val = list(list_set)\n",
    "    \n",
    "    return unique_val"
   ]
  },
  {
   "cell_type": "markdown",
   "metadata": {},
   "source": [
    "#### Use function to create a list of unique products and unique orders"
   ]
  },
  {
   "cell_type": "code",
   "execution_count": 4,
   "metadata": {},
   "outputs": [],
   "source": [
    "if Path('product_ids.pkl').is_file():\n",
    "    pass\n",
    "else:\n",
    "    products = extract_unique_values('Recommender4Retail.csv', 'product_name', chunksize=10_000)\n",
    "    with open('product_ids.pkl', 'wb') as f:\n",
    "        pickle.dump(products, f)\n",
    "\n",
    "# load saved data to \n",
    "with open('product_ids.pkl', 'rb') as f:\n",
    "    products = pickle.load(f);"
   ]
  },
  {
   "cell_type": "code",
   "execution_count": 5,
   "metadata": {},
   "outputs": [],
   "source": [
    "if Path('order_ids.pkl').is_file():\n",
    "    pass\n",
    "else:\n",
    "    orders = extract_unique_values('Recommender4Retail.csv', 'order_id', chunksize=10_000)\n",
    "    with open('order_ids.pkl', 'wb') as f:\n",
    "        pickle.dump(orders, f)\n",
    "        \n",
    "# load saved data to \n",
    "with open('order_ids.pkl', 'rb') as f:\n",
    "    orders = pickle.load(f);"
   ]
  },
  {
   "cell_type": "code",
   "execution_count": 6,
   "metadata": {},
   "outputs": [
    {
     "data": {
      "text/plain": [
       "'Total number of Products in Recommender4Retail.csv: 31330'"
      ]
     },
     "execution_count": 6,
     "metadata": {},
     "output_type": "execute_result"
    }
   ],
   "source": [
    "f'Total number of Products in Recommender4Retail.csv: {len(products)}' \n",
    "# Products: 49_685"
   ]
  },
  {
   "cell_type": "code",
   "execution_count": 7,
   "metadata": {},
   "outputs": [
    {
     "data": {
      "text/plain": [
       "'Total number of Customers in Recommender4Reteail.csv: 3346083'"
      ]
     },
     "execution_count": 7,
     "metadata": {},
     "output_type": "execute_result"
    }
   ],
   "source": [
    "f'Total number of Customers in Recommender4Reteail.csv: {len(orders)}' \n",
    "# Orders: 3_346_083"
   ]
  },
  {
   "cell_type": "markdown",
   "metadata": {},
   "source": [
    "### Create DataFrame as a basis for a rating\n",
    "----\n",
    "The code above created two lists called `products` and `orders` representing all products and orders in the dataset. With this information, we can calculate a rating for every product. The function `calc_product_order_reorder_df` creates a DataFrame containing columns which contain information that can be used to create a rating of the product.\n",
    "\n",
    "- `index` = product id\n",
    "- `n_orders` = number of orders for the product\n",
    "- `n_users` = number of users that ordered the product\n",
    "- `n_reorders` = number of reorders for the product"
   ]
  },
  {
   "cell_type": "code",
   "execution_count": 8,
   "metadata": {},
   "outputs": [],
   "source": [
    "def calc_product_order_reorder_count():\n",
    "    chunks = pd.read_csv(\"Recommender4Retail.csv\",chunksize=10_000)\n",
    "    subsets = [chunk.groupby('product_name').agg({'product_name':'count',\n",
    "                                                'user_id': 'nunique',\n",
    "                                                'reordered':'sum'}) for chunk in chunks]\n",
    "\n",
    "    df = pd.concat(subsets).groupby(level=0).sum()\n",
    "    \n",
    "    df.reset_index(inplace=True, drop=True)\n",
    "    df.rename(columns={\"product_name\": \"n_orders\", \"user_id\": \"n_users\", 'reordered': \"n_reorders\"}, inplace=True)\n",
    "    return df"
   ]
  },
  {
   "cell_type": "code",
   "execution_count": 9,
   "metadata": {},
   "outputs": [],
   "source": [
    "df = calc_product_order_reorder_count()"
   ]
  },
  {
   "cell_type": "code",
   "execution_count": 10,
   "metadata": {},
   "outputs": [
    {
     "data": {
      "text/html": [
       "<div>\n",
       "<style scoped>\n",
       "    .dataframe tbody tr th:only-of-type {\n",
       "        vertical-align: middle;\n",
       "    }\n",
       "\n",
       "    .dataframe tbody tr th {\n",
       "        vertical-align: top;\n",
       "    }\n",
       "\n",
       "    .dataframe thead th {\n",
       "        text-align: right;\n",
       "    }\n",
       "</style>\n",
       "<table border=\"1\" class=\"dataframe\">\n",
       "  <thead>\n",
       "    <tr style=\"text-align: right;\">\n",
       "      <th></th>\n",
       "      <th>n_orders</th>\n",
       "      <th>n_users</th>\n",
       "      <th>n_reorders</th>\n",
       "    </tr>\n",
       "  </thead>\n",
       "  <tbody>\n",
       "    <tr>\n",
       "      <th>0</th>\n",
       "      <td>25</td>\n",
       "      <td>13</td>\n",
       "      <td>12</td>\n",
       "    </tr>\n",
       "    <tr>\n",
       "      <th>1</th>\n",
       "      <td>2</td>\n",
       "      <td>2</td>\n",
       "      <td>0</td>\n",
       "    </tr>\n",
       "    <tr>\n",
       "      <th>2</th>\n",
       "      <td>26</td>\n",
       "      <td>5</td>\n",
       "      <td>21</td>\n",
       "    </tr>\n",
       "    <tr>\n",
       "      <th>3</th>\n",
       "      <td>5</td>\n",
       "      <td>3</td>\n",
       "      <td>2</td>\n",
       "    </tr>\n",
       "    <tr>\n",
       "      <th>4</th>\n",
       "      <td>6</td>\n",
       "      <td>3</td>\n",
       "      <td>3</td>\n",
       "    </tr>\n",
       "  </tbody>\n",
       "</table>\n",
       "</div>"
      ],
      "text/plain": [
       "   n_orders  n_users  n_reorders\n",
       "0        25       13          12\n",
       "1         2        2           0\n",
       "2        26        5          21\n",
       "3         5        3           2\n",
       "4         6        3           3"
      ]
     },
     "execution_count": 10,
     "metadata": {},
     "output_type": "execute_result"
    }
   ],
   "source": [
    "df.head()"
   ]
  },
  {
   "cell_type": "code",
   "execution_count": 11,
   "metadata": {},
   "outputs": [
    {
     "name": "stdout",
     "output_type": "stream",
     "text": [
      "Number of Products in list: 31330\n"
     ]
    }
   ],
   "source": [
    "# sanity check: \n",
    "print(f'Number of Products in list: {len(df)}') # should be 49685 -> correct"
   ]
  },
  {
   "cell_type": "markdown",
   "metadata": {},
   "source": [
    "### Calcuate the Support of the Products and implement it into a rating formula\n",
    "-----\n",
    "\n",
    "The Apriori - Algoritmn works with two probabilistic measurements which rate the assoziationrules: Support and Confidence. The support represents the probability of an item being in a basket. We use the basic idea of the support to calculate a Rating for every product containing information about how often the product has been bought, how many customers bought the product, and how many of those customers reordered the product. This gives us the \"rating\" formula below:"
   ]
  },
  {
   "cell_type": "markdown",
   "metadata": {},
   "source": [
    "#### Mathematical Approach\n",
    "To callculate the support we need a Multiset $$X = \\text{Product for every transaction}$$ containing all ordered products. \n",
    "\n",
    "The formula to calculate the Support can be written as follows:\n",
    "$$\n",
    "support(x\\in X) =  \\frac{|\\forall x \\in X|}{|X|}\n",
    "$$\n",
    "\n",
    "Or in writing:\n",
    "$$\n",
    "support(\\text{Product}) =  \\frac{\\text{Number of Buys of the Product}}{\\text{Total number of transactions}}\n",
    "$$\n",
    "\n",
    "Rating formula:\n",
    "$$\n",
    "rating(\\text{Product}) =  \\text{normalized}( \\frac{\\text{Number of Buys of the Product}}{\\text{Total number of transactions}}+\\frac{\\text{Number of Customers for the Product}}{\\text{Total number of Customers}}+\\frac{\\text{Number of Reorders of the Product}}{\\text{Total number of Reorders}} )\n",
    "$$"
   ]
  },
  {
   "cell_type": "code",
   "execution_count": 12,
   "metadata": {},
   "outputs": [
    {
     "data": {
      "text/html": [
       "<div>\n",
       "<style scoped>\n",
       "    .dataframe tbody tr th:only-of-type {\n",
       "        vertical-align: middle;\n",
       "    }\n",
       "\n",
       "    .dataframe tbody tr th {\n",
       "        vertical-align: top;\n",
       "    }\n",
       "\n",
       "    .dataframe thead th {\n",
       "        text-align: right;\n",
       "    }\n",
       "</style>\n",
       "<table border=\"1\" class=\"dataframe\">\n",
       "  <thead>\n",
       "    <tr style=\"text-align: right;\">\n",
       "      <th></th>\n",
       "      <th>n_orders</th>\n",
       "      <th>n_users</th>\n",
       "      <th>n_reorders</th>\n",
       "      <th>rating</th>\n",
       "    </tr>\n",
       "  </thead>\n",
       "  <tbody>\n",
       "    <tr>\n",
       "      <th>0</th>\n",
       "      <td>25</td>\n",
       "      <td>13</td>\n",
       "      <td>12</td>\n",
       "      <td>0.001585</td>\n",
       "    </tr>\n",
       "    <tr>\n",
       "      <th>1</th>\n",
       "      <td>2</td>\n",
       "      <td>2</td>\n",
       "      <td>0</td>\n",
       "      <td>0.000056</td>\n",
       "    </tr>\n",
       "    <tr>\n",
       "      <th>2</th>\n",
       "      <td>26</td>\n",
       "      <td>5</td>\n",
       "      <td>21</td>\n",
       "      <td>0.001816</td>\n",
       "    </tr>\n",
       "    <tr>\n",
       "      <th>3</th>\n",
       "      <td>5</td>\n",
       "      <td>3</td>\n",
       "      <td>2</td>\n",
       "      <td>0.000264</td>\n",
       "    </tr>\n",
       "    <tr>\n",
       "      <th>4</th>\n",
       "      <td>6</td>\n",
       "      <td>3</td>\n",
       "      <td>3</td>\n",
       "      <td>0.000340</td>\n",
       "    </tr>\n",
       "  </tbody>\n",
       "</table>\n",
       "</div>"
      ],
      "text/plain": [
       "   n_orders  n_users  n_reorders    rating\n",
       "0        25       13          12  0.001585\n",
       "1         2        2           0  0.000056\n",
       "2        26        5          21  0.001816\n",
       "3         5        3           2  0.000264\n",
       "4         6        3           3  0.000340"
      ]
     },
     "execution_count": 12,
     "metadata": {},
     "output_type": "execute_result"
    }
   ],
   "source": [
    "# calculate rating\n",
    "n_orders = sum(df['n_orders'])\n",
    "n_customers = sum(df['n_users'])\n",
    "n_reorders = sum(df['n_reorders'])\n",
    "df['rating']= df['n_orders']/n_orders + df['n_users']/n_orders + df['n_reorders']/n_reorders\n",
    "\n",
    "# normalize rating\n",
    "df['rating'] = (df['rating']-df['rating'].min())/(df['rating'].max()-df['rating'].min())\n",
    "\n",
    "df.head()"
   ]
  },
  {
   "cell_type": "markdown",
   "metadata": {},
   "source": [
    "### Drop \"weak\" products\n",
    "----\n",
    "With the now calculated support for each product, we can now evaluate and sort the products. This allows us to remove  weak, rarely purchased products."
   ]
  },
  {
   "cell_type": "code",
   "execution_count": 13,
   "metadata": {},
   "outputs": [],
   "source": [
    "def drop_products(df, rate=0.8):\n",
    "    \"\"\"\n",
    "    Function drops a predefined percentage of products\n",
    "    \n",
    "    :param df: pandas dataframe\n",
    "    :param rate: float that definies how many products should be dropped (percentage)\n",
    "    :return df: DataFrame containing all the product_name's to keep\n",
    "    \"\"\"\n",
    "    # sort values:\n",
    "    df.sort_values('rating', ascending=False, inplace=True)\n",
    "    \n",
    "    # calculate condition to drop\n",
    "    rows_to_drop = int(len(df)*rate)\n",
    "    df = df.drop(df.tail(rows_to_drop).index)\n",
    "    \n",
    "    return df"
   ]
  },
  {
   "cell_type": "code",
   "execution_count": 14,
   "metadata": {},
   "outputs": [],
   "source": [
    "reduced_df = drop_products(df);"
   ]
  },
  {
   "cell_type": "code",
   "execution_count": 15,
   "metadata": {},
   "outputs": [
    {
     "name": "stdout",
     "output_type": "stream",
     "text": [
      "<class 'pandas.core.frame.DataFrame'>\n",
      "Int64Index: 6266 entries, 2227 to 10946\n",
      "Data columns (total 4 columns):\n",
      "n_orders      6266 non-null int64\n",
      "n_users       6266 non-null int64\n",
      "n_reorders    6266 non-null int64\n",
      "rating        6266 non-null float64\n",
      "dtypes: float64(1), int64(3)\n",
      "memory usage: 244.8 KB\n"
     ]
    }
   ],
   "source": [
    "reduced_df.info()"
   ]
  },
  {
   "cell_type": "code",
   "execution_count": 16,
   "metadata": {},
   "outputs": [
    {
     "data": {
      "text/html": [
       "<div>\n",
       "<style scoped>\n",
       "    .dataframe tbody tr th:only-of-type {\n",
       "        vertical-align: middle;\n",
       "    }\n",
       "\n",
       "    .dataframe tbody tr th {\n",
       "        vertical-align: top;\n",
       "    }\n",
       "\n",
       "    .dataframe thead th {\n",
       "        text-align: right;\n",
       "    }\n",
       "</style>\n",
       "<table border=\"1\" class=\"dataframe\">\n",
       "  <thead>\n",
       "    <tr style=\"text-align: right;\">\n",
       "      <th></th>\n",
       "      <th>n_orders</th>\n",
       "      <th>n_users</th>\n",
       "      <th>n_reorders</th>\n",
       "      <th>rating</th>\n",
       "    </tr>\n",
       "  </thead>\n",
       "  <tbody>\n",
       "    <tr>\n",
       "      <th>2227</th>\n",
       "      <td>13760</td>\n",
       "      <td>2244</td>\n",
       "      <td>11543</td>\n",
       "      <td>1.000000</td>\n",
       "    </tr>\n",
       "    <tr>\n",
       "      <th>2084</th>\n",
       "      <td>11715</td>\n",
       "      <td>1976</td>\n",
       "      <td>9758</td>\n",
       "      <td>0.849907</td>\n",
       "    </tr>\n",
       "    <tr>\n",
       "      <th>20229</th>\n",
       "      <td>8300</td>\n",
       "      <td>1877</td>\n",
       "      <td>6451</td>\n",
       "      <td>0.593540</td>\n",
       "    </tr>\n",
       "    <tr>\n",
       "      <th>17867</th>\n",
       "      <td>7280</td>\n",
       "      <td>1711</td>\n",
       "      <td>5593</td>\n",
       "      <td>0.519307</td>\n",
       "    </tr>\n",
       "    <tr>\n",
       "      <th>18969</th>\n",
       "      <td>6970</td>\n",
       "      <td>1400</td>\n",
       "      <td>5590</td>\n",
       "      <td>0.501686</td>\n",
       "    </tr>\n",
       "  </tbody>\n",
       "</table>\n",
       "</div>"
      ],
      "text/plain": [
       "       n_orders  n_users  n_reorders    rating\n",
       "2227      13760     2244       11543  1.000000\n",
       "2084      11715     1976        9758  0.849907\n",
       "20229      8300     1877        6451  0.593540\n",
       "17867      7280     1711        5593  0.519307\n",
       "18969      6970     1400        5590  0.501686"
      ]
     },
     "execution_count": 16,
     "metadata": {},
     "output_type": "execute_result"
    }
   ],
   "source": [
    "reduced_df.head()"
   ]
  },
  {
   "cell_type": "code",
   "execution_count": 17,
   "metadata": {},
   "outputs": [],
   "source": [
    "# list of products to keep:\n",
    "good_products = reduced_df.index.tolist()"
   ]
  },
  {
   "cell_type": "code",
   "execution_count": 18,
   "metadata": {},
   "outputs": [],
   "source": [
    "# drop columns with bad products\n",
    "if Path('rating.csv').is_file():\n",
    "    pass\n",
    "else:\n",
    "    chunks = pd.read_csv('Recommender4Retail.csv', chunksize=10_000)\n",
    "    for chunk in chunks:\n",
    "        chunk = chunk[chunk['product_name'].isin(good_products)]\n",
    "\n",
    "        if Path('rating.csv').is_file():\n",
    "            chunk.to_csv('rating.csv', mode='a', header=False)\n",
    "        else:\n",
    "            chunk.to_csv('rating.csv', mode='a', header=True)"
   ]
  },
  {
   "cell_type": "markdown",
   "metadata": {},
   "source": [
    "## User reduction using \"number of orders\"\n",
    "----\n",
    "Many users only use a Service once in their lifetime. Now this is a potential problem. How should we recommend a Product to a user that we don't know. One Option, which is always available, is to just recommend the most commen products. We see this in onlinestores under the tag 'Most popular products' or in rankings like 'Top 10 products for [insert activity here]'. This is fairly easy to implement. The recommender on the other hand can't make much use of these users. To train the recommender on users that actually have some value for the recommender, we drop users below a certain threshold."
   ]
  },
  {
   "cell_type": "code",
   "execution_count": 76,
   "metadata": {},
   "outputs": [
    {
     "data": {
      "text/html": [
       "<div>\n",
       "<style scoped>\n",
       "    .dataframe tbody tr th:only-of-type {\n",
       "        vertical-align: middle;\n",
       "    }\n",
       "\n",
       "    .dataframe tbody tr th {\n",
       "        vertical-align: top;\n",
       "    }\n",
       "\n",
       "    .dataframe thead th {\n",
       "        text-align: right;\n",
       "    }\n",
       "</style>\n",
       "<table border=\"1\" class=\"dataframe\">\n",
       "  <thead>\n",
       "    <tr style=\"text-align: right;\">\n",
       "      <th></th>\n",
       "      <th>Unnamed: 0</th>\n",
       "      <th>user_id</th>\n",
       "      <th>order_id</th>\n",
       "      <th>product_name</th>\n",
       "      <th>reordered</th>\n",
       "      <th>aisle_id</th>\n",
       "    </tr>\n",
       "  </thead>\n",
       "  <tbody>\n",
       "    <tr>\n",
       "      <th>0</th>\n",
       "      <td>0</td>\n",
       "      <td>1</td>\n",
       "      <td>2539329</td>\n",
       "      <td>Soda</td>\n",
       "      <td>0</td>\n",
       "      <td>77</td>\n",
       "    </tr>\n",
       "    <tr>\n",
       "      <th>1</th>\n",
       "      <td>1</td>\n",
       "      <td>1</td>\n",
       "      <td>2539329</td>\n",
       "      <td>Organic Unsweetened Vanilla Almond Milk</td>\n",
       "      <td>0</td>\n",
       "      <td>91</td>\n",
       "    </tr>\n",
       "    <tr>\n",
       "      <th>2</th>\n",
       "      <td>2</td>\n",
       "      <td>1</td>\n",
       "      <td>2539329</td>\n",
       "      <td>Original Beef Jerky</td>\n",
       "      <td>0</td>\n",
       "      <td>23</td>\n",
       "    </tr>\n",
       "    <tr>\n",
       "      <th>3</th>\n",
       "      <td>3</td>\n",
       "      <td>1</td>\n",
       "      <td>2539329</td>\n",
       "      <td>Aged White Cheddar Popcorn</td>\n",
       "      <td>0</td>\n",
       "      <td>23</td>\n",
       "    </tr>\n",
       "    <tr>\n",
       "      <th>4</th>\n",
       "      <td>4</td>\n",
       "      <td>1</td>\n",
       "      <td>2539329</td>\n",
       "      <td>XL Pick-A-Size Paper Towel Rolls</td>\n",
       "      <td>0</td>\n",
       "      <td>54</td>\n",
       "    </tr>\n",
       "  </tbody>\n",
       "</table>\n",
       "</div>"
      ],
      "text/plain": [
       "   Unnamed: 0  user_id  order_id                             product_name  \\\n",
       "0           0        1   2539329                                     Soda   \n",
       "1           1        1   2539329  Organic Unsweetened Vanilla Almond Milk   \n",
       "2           2        1   2539329                      Original Beef Jerky   \n",
       "3           3        1   2539329               Aged White Cheddar Popcorn   \n",
       "4           4        1   2539329         XL Pick-A-Size Paper Towel Rolls   \n",
       "\n",
       "   reordered  aisle_id  \n",
       "0          0        77  \n",
       "1          0        91  \n",
       "2          0        23  \n",
       "3          0        23  \n",
       "4          0        54  "
      ]
     },
     "execution_count": 76,
     "metadata": {},
     "output_type": "execute_result"
    }
   ],
   "source": [
    "df = pd.read_csv('Recommender4Retail.csv', nrows = 1_000_000)\n",
    "df.head()"
   ]
  },
  {
   "cell_type": "code",
   "execution_count": 77,
   "metadata": {},
   "outputs": [
    {
     "name": "stdout",
     "output_type": "stream",
     "text": [
      "Length of grouped DataFrame: 6212\n"
     ]
    },
    {
     "data": {
      "text/html": [
       "<div>\n",
       "<style scoped>\n",
       "    .dataframe tbody tr th:only-of-type {\n",
       "        vertical-align: middle;\n",
       "    }\n",
       "\n",
       "    .dataframe tbody tr th {\n",
       "        vertical-align: top;\n",
       "    }\n",
       "\n",
       "    .dataframe thead th {\n",
       "        text-align: right;\n",
       "    }\n",
       "</style>\n",
       "<table border=\"1\" class=\"dataframe\">\n",
       "  <thead>\n",
       "    <tr style=\"text-align: right;\">\n",
       "      <th></th>\n",
       "      <th>user_id</th>\n",
       "      <th>order_id</th>\n",
       "    </tr>\n",
       "  </thead>\n",
       "  <tbody>\n",
       "    <tr>\n",
       "      <th>0</th>\n",
       "      <td>1</td>\n",
       "      <td>11</td>\n",
       "    </tr>\n",
       "    <tr>\n",
       "      <th>1</th>\n",
       "      <td>2</td>\n",
       "      <td>15</td>\n",
       "    </tr>\n",
       "    <tr>\n",
       "      <th>2</th>\n",
       "      <td>3</td>\n",
       "      <td>12</td>\n",
       "    </tr>\n",
       "    <tr>\n",
       "      <th>3</th>\n",
       "      <td>4</td>\n",
       "      <td>5</td>\n",
       "    </tr>\n",
       "    <tr>\n",
       "      <th>4</th>\n",
       "      <td>5</td>\n",
       "      <td>5</td>\n",
       "    </tr>\n",
       "  </tbody>\n",
       "</table>\n",
       "</div>"
      ],
      "text/plain": [
       "   user_id  order_id\n",
       "0        1        11\n",
       "1        2        15\n",
       "2        3        12\n",
       "3        4         5\n",
       "4        5         5"
      ]
     },
     "execution_count": 77,
     "metadata": {},
     "output_type": "execute_result"
    }
   ],
   "source": [
    "#group by user_id and count number of orders\n",
    "df_grouped = df.groupby('user_id').agg({'order_id': 'nunique'}).reset_index()\n",
    "print(f'Length of grouped DataFrame: {len(df_grouped)}')\n",
    "df_grouped.head()"
   ]
  },
  {
   "cell_type": "code",
   "execution_count": 100,
   "metadata": {},
   "outputs": [
    {
     "name": "stdout",
     "output_type": "stream",
     "text": [
      "Length of grouped DataFrame: 3855\n"
     ]
    }
   ],
   "source": [
    "#drop customer with order_id count below n:\n",
    "n = 8\n",
    "df_user = df_grouped.loc[df_grouped.order_id >= n]\n",
    "print(f'Length of grouped DataFrame: {len(df_user)}')"
   ]
  },
  {
   "cell_type": "code",
   "execution_count": 101,
   "metadata": {},
   "outputs": [
    {
     "name": "stdout",
     "output_type": "stream",
     "text": [
      "Length DataFrame before: 1000000\n",
      "Length DataFrame after: 886136\n"
     ]
    }
   ],
   "source": [
    "# drop transactions\n",
    "print(f\"Length DataFrame before: {len(df)}\")\n",
    "users = df_user.user_id.to_list()\n",
    "df_selected = df[df.user_id.isin(users)]\n",
    "print(f\"Length DataFrame after: {len(df_selected)}\")"
   ]
  },
  {
   "cell_type": "code",
   "execution_count": 103,
   "metadata": {},
   "outputs": [
    {
     "data": {
      "text/html": [
       "<div>\n",
       "<style scoped>\n",
       "    .dataframe tbody tr th:only-of-type {\n",
       "        vertical-align: middle;\n",
       "    }\n",
       "\n",
       "    .dataframe tbody tr th {\n",
       "        vertical-align: top;\n",
       "    }\n",
       "\n",
       "    .dataframe thead th {\n",
       "        text-align: right;\n",
       "    }\n",
       "</style>\n",
       "<table border=\"1\" class=\"dataframe\">\n",
       "  <thead>\n",
       "    <tr style=\"text-align: right;\">\n",
       "      <th></th>\n",
       "      <th>Unnamed: 0</th>\n",
       "      <th>user_id</th>\n",
       "      <th>order_id</th>\n",
       "      <th>product_name</th>\n",
       "      <th>reordered</th>\n",
       "      <th>aisle_id</th>\n",
       "    </tr>\n",
       "  </thead>\n",
       "  <tbody>\n",
       "    <tr>\n",
       "      <th>0</th>\n",
       "      <td>0</td>\n",
       "      <td>1</td>\n",
       "      <td>2539329</td>\n",
       "      <td>Soda</td>\n",
       "      <td>0</td>\n",
       "      <td>77</td>\n",
       "    </tr>\n",
       "    <tr>\n",
       "      <th>1</th>\n",
       "      <td>1</td>\n",
       "      <td>1</td>\n",
       "      <td>2539329</td>\n",
       "      <td>Organic Unsweetened Vanilla Almond Milk</td>\n",
       "      <td>0</td>\n",
       "      <td>91</td>\n",
       "    </tr>\n",
       "    <tr>\n",
       "      <th>2</th>\n",
       "      <td>2</td>\n",
       "      <td>1</td>\n",
       "      <td>2539329</td>\n",
       "      <td>Original Beef Jerky</td>\n",
       "      <td>0</td>\n",
       "      <td>23</td>\n",
       "    </tr>\n",
       "    <tr>\n",
       "      <th>3</th>\n",
       "      <td>3</td>\n",
       "      <td>1</td>\n",
       "      <td>2539329</td>\n",
       "      <td>Aged White Cheddar Popcorn</td>\n",
       "      <td>0</td>\n",
       "      <td>23</td>\n",
       "    </tr>\n",
       "    <tr>\n",
       "      <th>4</th>\n",
       "      <td>4</td>\n",
       "      <td>1</td>\n",
       "      <td>2539329</td>\n",
       "      <td>XL Pick-A-Size Paper Towel Rolls</td>\n",
       "      <td>0</td>\n",
       "      <td>54</td>\n",
       "    </tr>\n",
       "  </tbody>\n",
       "</table>\n",
       "</div>"
      ],
      "text/plain": [
       "   Unnamed: 0  user_id  order_id                             product_name  \\\n",
       "0           0        1   2539329                                     Soda   \n",
       "1           1        1   2539329  Organic Unsweetened Vanilla Almond Milk   \n",
       "2           2        1   2539329                      Original Beef Jerky   \n",
       "3           3        1   2539329               Aged White Cheddar Popcorn   \n",
       "4           4        1   2539329         XL Pick-A-Size Paper Towel Rolls   \n",
       "\n",
       "   reordered  aisle_id  \n",
       "0          0        77  \n",
       "1          0        91  \n",
       "2          0        23  \n",
       "3          0        23  \n",
       "4          0        54  "
      ]
     },
     "execution_count": 103,
     "metadata": {},
     "output_type": "execute_result"
    }
   ],
   "source": [
    "df_selected.head()"
   ]
  }
 ],
 "metadata": {
  "kernelspec": {
   "display_name": "Python 3",
   "language": "python",
   "name": "python3"
  },
  "language_info": {
   "codemirror_mode": {
    "name": "ipython",
    "version": 3
   },
   "file_extension": ".py",
   "mimetype": "text/x-python",
   "name": "python",
   "nbconvert_exporter": "python",
   "pygments_lexer": "ipython3",
   "version": "3.7.3"
  }
 },
 "nbformat": 4,
 "nbformat_minor": 4
}
