{
 "cells": [
  {
   "cell_type": "markdown",
   "metadata": {},
   "source": [
    "Autor: Roman Janic Studer "
   ]
  },
  {
   "cell_type": "code",
   "execution_count": 1,
   "metadata": {},
   "outputs": [],
   "source": [
    "import pandas as pd\n",
    "import numpy as np\n",
    "import csv\n",
    "import pickle\n",
    "from pathlib import Path"
   ]
  },
  {
   "cell_type": "markdown",
   "metadata": {},
   "source": [
    "# Product Reduction using a Rating\n",
    "------\n",
    "This Notebook is used to create a List of all Products and eliminate up to 80% of the \"weakest\" products. (Rating should not be used for a recommender at a later state)"
   ]
  },
  {
   "cell_type": "code",
   "execution_count": 2,
   "metadata": {},
   "outputs": [
    {
     "data": {
      "text/html": [
       "<div>\n",
       "<style scoped>\n",
       "    .dataframe tbody tr th:only-of-type {\n",
       "        vertical-align: middle;\n",
       "    }\n",
       "\n",
       "    .dataframe tbody tr th {\n",
       "        vertical-align: top;\n",
       "    }\n",
       "\n",
       "    .dataframe thead th {\n",
       "        text-align: right;\n",
       "    }\n",
       "</style>\n",
       "<table border=\"1\" class=\"dataframe\">\n",
       "  <thead>\n",
       "    <tr style=\"text-align: right;\">\n",
       "      <th></th>\n",
       "      <th>Unnamed: 0</th>\n",
       "      <th>order_id</th>\n",
       "      <th>user_id</th>\n",
       "      <th>eval_set</th>\n",
       "      <th>order_number</th>\n",
       "      <th>order_dow</th>\n",
       "      <th>order_hour_of_day</th>\n",
       "      <th>days_since_prior_order</th>\n",
       "      <th>product_id</th>\n",
       "      <th>add_to_cart_order</th>\n",
       "      <th>reordered</th>\n",
       "      <th>product_name</th>\n",
       "      <th>aisle_id</th>\n",
       "      <th>department_id</th>\n",
       "      <th>department</th>\n",
       "      <th>aisle</th>\n",
       "    </tr>\n",
       "  </thead>\n",
       "  <tbody>\n",
       "    <tr>\n",
       "      <th>0</th>\n",
       "      <td>1</td>\n",
       "      <td>2539329</td>\n",
       "      <td>1</td>\n",
       "      <td>prior</td>\n",
       "      <td>1</td>\n",
       "      <td>2</td>\n",
       "      <td>8</td>\n",
       "      <td>NaN</td>\n",
       "      <td>196</td>\n",
       "      <td>1</td>\n",
       "      <td>0</td>\n",
       "      <td>Soda</td>\n",
       "      <td>77</td>\n",
       "      <td>7</td>\n",
       "      <td>beverages</td>\n",
       "      <td>soft drinks</td>\n",
       "    </tr>\n",
       "    <tr>\n",
       "      <th>1</th>\n",
       "      <td>2</td>\n",
       "      <td>2539329</td>\n",
       "      <td>1</td>\n",
       "      <td>prior</td>\n",
       "      <td>1</td>\n",
       "      <td>2</td>\n",
       "      <td>8</td>\n",
       "      <td>NaN</td>\n",
       "      <td>14084</td>\n",
       "      <td>2</td>\n",
       "      <td>0</td>\n",
       "      <td>Organic Unsweetened Vanilla Almond Milk</td>\n",
       "      <td>91</td>\n",
       "      <td>16</td>\n",
       "      <td>dairy eggs</td>\n",
       "      <td>soy lactosefree</td>\n",
       "    </tr>\n",
       "    <tr>\n",
       "      <th>2</th>\n",
       "      <td>3</td>\n",
       "      <td>2539329</td>\n",
       "      <td>1</td>\n",
       "      <td>prior</td>\n",
       "      <td>1</td>\n",
       "      <td>2</td>\n",
       "      <td>8</td>\n",
       "      <td>NaN</td>\n",
       "      <td>12427</td>\n",
       "      <td>3</td>\n",
       "      <td>0</td>\n",
       "      <td>Original Beef Jerky</td>\n",
       "      <td>23</td>\n",
       "      <td>19</td>\n",
       "      <td>snacks</td>\n",
       "      <td>popcorn jerky</td>\n",
       "    </tr>\n",
       "    <tr>\n",
       "      <th>3</th>\n",
       "      <td>4</td>\n",
       "      <td>2539329</td>\n",
       "      <td>1</td>\n",
       "      <td>prior</td>\n",
       "      <td>1</td>\n",
       "      <td>2</td>\n",
       "      <td>8</td>\n",
       "      <td>NaN</td>\n",
       "      <td>26088</td>\n",
       "      <td>4</td>\n",
       "      <td>0</td>\n",
       "      <td>Aged White Cheddar Popcorn</td>\n",
       "      <td>23</td>\n",
       "      <td>19</td>\n",
       "      <td>snacks</td>\n",
       "      <td>popcorn jerky</td>\n",
       "    </tr>\n",
       "    <tr>\n",
       "      <th>4</th>\n",
       "      <td>5</td>\n",
       "      <td>2539329</td>\n",
       "      <td>1</td>\n",
       "      <td>prior</td>\n",
       "      <td>1</td>\n",
       "      <td>2</td>\n",
       "      <td>8</td>\n",
       "      <td>NaN</td>\n",
       "      <td>26405</td>\n",
       "      <td>5</td>\n",
       "      <td>0</td>\n",
       "      <td>XL Pick-A-Size Paper Towel Rolls</td>\n",
       "      <td>54</td>\n",
       "      <td>17</td>\n",
       "      <td>household</td>\n",
       "      <td>paper goods</td>\n",
       "    </tr>\n",
       "  </tbody>\n",
       "</table>\n",
       "</div>"
      ],
      "text/plain": [
       "   Unnamed: 0  order_id  user_id eval_set  order_number  order_dow  \\\n",
       "0           1   2539329        1    prior             1          2   \n",
       "1           2   2539329        1    prior             1          2   \n",
       "2           3   2539329        1    prior             1          2   \n",
       "3           4   2539329        1    prior             1          2   \n",
       "4           5   2539329        1    prior             1          2   \n",
       "\n",
       "   order_hour_of_day  days_since_prior_order  product_id  add_to_cart_order  \\\n",
       "0                  8                     NaN         196                  1   \n",
       "1                  8                     NaN       14084                  2   \n",
       "2                  8                     NaN       12427                  3   \n",
       "3                  8                     NaN       26088                  4   \n",
       "4                  8                     NaN       26405                  5   \n",
       "\n",
       "   reordered                             product_name  aisle_id  \\\n",
       "0          0                                     Soda        77   \n",
       "1          0  Organic Unsweetened Vanilla Almond Milk        91   \n",
       "2          0                      Original Beef Jerky        23   \n",
       "3          0               Aged White Cheddar Popcorn        23   \n",
       "4          0         XL Pick-A-Size Paper Towel Rolls        54   \n",
       "\n",
       "   department_id  department            aisle  \n",
       "0              7   beverages      soft drinks  \n",
       "1             16  dairy eggs  soy lactosefree  \n",
       "2             19      snacks    popcorn jerky  \n",
       "3             19      snacks    popcorn jerky  \n",
       "4             17   household      paper goods  "
      ]
     },
     "execution_count": 2,
     "metadata": {},
     "output_type": "execute_result"
    }
   ],
   "source": [
    "#load first few roads to get an overview of the data\n",
    "overview = pd.read_csv('Recommender4Retail.csv', nrows = 6)\n",
    "overview.head()"
   ]
  },
  {
   "cell_type": "markdown",
   "metadata": {},
   "source": [
    "### Extract a list of Products and Orders out of a DataFrame\n",
    "----\n",
    "The following code-blocks are used to extract all unique values for a certain column (in our case `product_id`). \n",
    "The difficulty here is that the dataset is to large to be loaded at once. Because the extraction of the unique values for a large dataset takes some time I decided to save the created lists as a pickle file to be able to load them in after a restart of the notebook."
   ]
  },
  {
   "cell_type": "code",
   "execution_count": 3,
   "metadata": {},
   "outputs": [],
   "source": [
    "def extract_unique_values(data,column, chunksize=None):\n",
    "    \"\"\"\n",
    "    Extracts the unique values for a certain column in a dataframe\n",
    "    \n",
    "    :param str, data is the path to a csv\n",
    "    :column str, column to be filtered\n",
    "    :chunksize int, defines the size of a batch to load\n",
    "    \n",
    "    :return list, of all unique values\n",
    "    \"\"\"\n",
    "    products = []\n",
    "    \n",
    "    for chunk in pd.read_csv(data, chunksize=chunksize):\n",
    "        \n",
    "        # could be optimized \n",
    "        t = chunk[column].value_counts()\n",
    "        t = pd.DataFrame(t).reset_index()\n",
    "        t = t.rename(columns={'index': 'product'})\n",
    "        \n",
    "        for val in t['product'].values.tolist():\n",
    "            products.append(val)\n",
    "    list_set = set(products)\n",
    "    unique_val = list(list_set)\n",
    "    \n",
    "    return unique_val"
   ]
  },
  {
   "cell_type": "code",
   "execution_count": 4,
   "metadata": {},
   "outputs": [],
   "source": [
    "# products = extract_unique_values('Recommender4Retail.csv', 'product_id', chunksize=10_000)"
   ]
  },
  {
   "cell_type": "code",
   "execution_count": 5,
   "metadata": {},
   "outputs": [
    {
     "data": {
      "text/plain": [
       "\"with open('product_ids.pkl', 'wb') as f:\\n    pickle.dump(products, f)\""
      ]
     },
     "execution_count": 5,
     "metadata": {},
     "output_type": "execute_result"
    }
   ],
   "source": [
    "\"\"\"with open('product_ids.pkl', 'wb') as f:\n",
    "    pickle.dump(products, f)\"\"\""
   ]
  },
  {
   "cell_type": "code",
   "execution_count": 6,
   "metadata": {},
   "outputs": [],
   "source": [
    "# orders = extract_unique_values('Recommender4Retail.csv', 'order_id', chunksize=10_000)"
   ]
  },
  {
   "cell_type": "code",
   "execution_count": 7,
   "metadata": {},
   "outputs": [
    {
     "data": {
      "text/plain": [
       "\"with open('order_ids.pkl', 'wb') as f:\\n    pickle.dump(orders, f)\""
      ]
     },
     "execution_count": 7,
     "metadata": {},
     "output_type": "execute_result"
    }
   ],
   "source": [
    "\"\"\"with open('order_ids.pkl', 'wb') as f:\n",
    "    pickle.dump(orders, f)\"\"\""
   ]
  },
  {
   "cell_type": "code",
   "execution_count": 8,
   "metadata": {},
   "outputs": [],
   "source": [
    "# load saved data to \n",
    "\n",
    "with open('product_ids.pkl', 'rb') as f:\n",
    "    products = pickle.load(f)\n",
    "\n",
    "with open('order_ids.pkl', 'rb') as f:\n",
    "    orders = pickle.load(f)"
   ]
  },
  {
   "cell_type": "code",
   "execution_count": 9,
   "metadata": {},
   "outputs": [
    {
     "data": {
      "text/plain": [
       "'Total number of Products in Recommender4Retail.csv: 49685'"
      ]
     },
     "execution_count": 9,
     "metadata": {},
     "output_type": "execute_result"
    }
   ],
   "source": [
    "f'Total number of Products in Recommender4Retail.csv: {len(products)}' \n",
    "# Products: 49_685"
   ]
  },
  {
   "cell_type": "code",
   "execution_count": 10,
   "metadata": {},
   "outputs": [
    {
     "data": {
      "text/plain": [
       "'Total number of Orders in Recommender4Reteail.csv: 3346083'"
      ]
     },
     "execution_count": 10,
     "metadata": {},
     "output_type": "execute_result"
    }
   ],
   "source": [
    "f'Total number of Orders in Recommender4Reteail.csv: {len(orders)}' \n",
    "# Orders: 3_346_083"
   ]
  },
  {
   "cell_type": "markdown",
   "metadata": {},
   "source": [
    "### Create DataFrame as a basis for a rating\n",
    "----\n",
    "The code above created two lists called `products` and `orders` representing all products and orders in the dataset. With this information, we can calculate a rating for every product. The function `calc_product_order_reorder_df` creates a DataFrame containing columns which contain information that can be used to create a rating of the product.\n",
    "\n",
    "- `index` = product_id\n",
    "- `product_id = "
   ]
  },
  {
   "cell_type": "code",
   "execution_count": 11,
   "metadata": {},
   "outputs": [],
   "source": [
    "def calc_product_order_reorder_count():\n",
    "    %timeit\n",
    "    chunks = pd.read_csv(\"Recommender4Retail.csv\",chunksize=10_000)\n",
    "    subsets = [chunk.groupby('product_id').agg({'product_id':'count',\n",
    "                                                'user_id': 'nunique',\n",
    "                                                'reordered':'sum'}) for chunk in chunks]\n",
    "\n",
    "    df = pd.concat(subsets).groupby(level=0).sum()\n",
    "    \n",
    "    df.reset_index(inplace=True, drop=True)\n",
    "    df.rename(columns={\"product_id\": \"n_orders\", \"user_id\": \"n_users\", 'reordered': \"n_reorders\"})\n",
    "    return product_order"
   ]
  },
  {
   "cell_type": "code",
   "execution_count": 12,
   "metadata": {},
   "outputs": [
    {
     "ename": "NameError",
     "evalue": "name 'product_order' is not defined",
     "output_type": "error",
     "traceback": [
      "\u001b[1;31m---------------------------------------------------------------------------\u001b[0m",
      "\u001b[1;31mNameError\u001b[0m                                 Traceback (most recent call last)",
      "\u001b[1;32m<ipython-input-12-8a01509b1050>\u001b[0m in \u001b[0;36m<module>\u001b[1;34m\u001b[0m\n\u001b[1;32m----> 1\u001b[1;33m \u001b[0mdf\u001b[0m \u001b[1;33m=\u001b[0m \u001b[0mcalc_product_order_reorder_count\u001b[0m\u001b[1;33m(\u001b[0m\u001b[1;33m)\u001b[0m\u001b[1;33m\u001b[0m\u001b[1;33m\u001b[0m\u001b[0m\n\u001b[0m",
      "\u001b[1;32m<ipython-input-11-6f9e6d938167>\u001b[0m in \u001b[0;36mcalc_product_order_reorder_count\u001b[1;34m()\u001b[0m\n\u001b[0;32m     10\u001b[0m     \u001b[0mdf\u001b[0m\u001b[1;33m.\u001b[0m\u001b[0mreset_index\u001b[0m\u001b[1;33m(\u001b[0m\u001b[0minplace\u001b[0m\u001b[1;33m=\u001b[0m\u001b[1;32mTrue\u001b[0m\u001b[1;33m,\u001b[0m \u001b[0mdrop\u001b[0m\u001b[1;33m=\u001b[0m\u001b[1;32mTrue\u001b[0m\u001b[1;33m)\u001b[0m\u001b[1;33m\u001b[0m\u001b[1;33m\u001b[0m\u001b[0m\n\u001b[0;32m     11\u001b[0m     \u001b[0mdf\u001b[0m\u001b[1;33m.\u001b[0m\u001b[0mrename\u001b[0m\u001b[1;33m(\u001b[0m\u001b[0mcolumns\u001b[0m\u001b[1;33m=\u001b[0m\u001b[1;33m{\u001b[0m\u001b[1;34m\"product_id\"\u001b[0m\u001b[1;33m:\u001b[0m \u001b[1;34m\"n_orders\"\u001b[0m\u001b[1;33m,\u001b[0m \u001b[1;34m\"user_id\"\u001b[0m\u001b[1;33m:\u001b[0m \u001b[1;34m\"n_users\"\u001b[0m\u001b[1;33m,\u001b[0m \u001b[1;34m'reordered'\u001b[0m\u001b[1;33m:\u001b[0m \u001b[1;34m\"n_reorders\"\u001b[0m\u001b[1;33m}\u001b[0m\u001b[1;33m)\u001b[0m\u001b[1;33m\u001b[0m\u001b[1;33m\u001b[0m\u001b[0m\n\u001b[1;32m---> 12\u001b[1;33m     \u001b[1;32mreturn\u001b[0m \u001b[0mproduct_order\u001b[0m\u001b[1;33m\u001b[0m\u001b[1;33m\u001b[0m\u001b[0m\n\u001b[0m",
      "\u001b[1;31mNameError\u001b[0m: name 'product_order' is not defined"
     ]
    }
   ],
   "source": [
    "df = calc_product_order_reorder_count()"
   ]
  },
  {
   "cell_type": "code",
   "execution_count": null,
   "metadata": {},
   "outputs": [],
   "source": [
    "df.head()"
   ]
  },
  {
   "cell_type": "code",
   "execution_count": null,
   "metadata": {},
   "outputs": [],
   "source": [
    "# sanity check: \n",
    "print(f'Number of Products in list: {len(df)}') #correct"
   ]
  },
  {
   "cell_type": "markdown",
   "metadata": {},
   "source": [
    "### Calcuate the Support of the Products and implement it into a rating formula\n",
    "-----\n",
    "\n",
    "The Apriori - Algoritmn works with two probabilistic measurements which rate the assoziationrules: Support and Confidence. The support represents the probability of an item being in a basket. We use the basic idea of the support to calculate a Rating for every product containing information about how often the product has been bought, how many customers bought the product, and how many of those customers reordered the product. This gives us the \"rating\" formula below:"
   ]
  },
  {
   "cell_type": "markdown",
   "metadata": {},
   "source": [
    "#### Mathematical Approach\n",
    "To callculate the support we need a Multiset $$X = \\text{Product for every transaction}$$ containing all ordered products. \n",
    "\n",
    "The formula to calculate the Support can be written as follows:\n",
    "$$\n",
    "support(x\\in X) =  \\frac{|\\forall x \\in X|}{|X|}\n",
    "$$\n",
    "\n",
    "Or in writing:\n",
    "$$\n",
    "support(\\text{Product}) =  \\frac{\\text{Number of Buys of the Product}}{\\text{Total number of transactions}}\n",
    "$$\n",
    "\n",
    "Rating formula:\n",
    "$$\n",
    "rating(\\text{Product}) =  \\text{normalized}( \\frac{\\text{Number of Buys of the Product}}{\\text{Total number of transactions}}+\\frac{\\text{Number of Customers for the Product}}{\\text{Total number of Customers}}+\\frac{\\text{Number of Reorders of the Product}}{\\text{Total number of Reorders}} )\n",
    "$$"
   ]
  },
  {
   "cell_type": "code",
   "execution_count": null,
   "metadata": {},
   "outputs": [],
   "source": [
    "n_orders = sum(df['n_orders'])\n",
    "n_customers = sum(df['n_users'])\n",
    "n_reorders = sum(df['n_reorders'])\n",
    "df['rating']= df['n_orders']/n_orders + df['n_users']/n_orders + df['n_reorders']/n_reorders\n",
    "# normalize rating\n",
    "df['rating'] = (df['rating']-df['rating'].min())/(df['rating'].max()-df['rating'].min())"
   ]
  },
  {
   "cell_type": "code",
   "execution_count": null,
   "metadata": {},
   "outputs": [],
   "source": [
    "df.head()"
   ]
  },
  {
   "cell_type": "markdown",
   "metadata": {},
   "source": [
    "### Drop \"weak\" products\n",
    "----\n",
    "With the now calculated support for each product, we can now evaluate and sort the products. This allows us to remove  weak, rarely purchased products."
   ]
  },
  {
   "cell_type": "code",
   "execution_count": null,
   "metadata": {},
   "outputs": [],
   "source": [
    "def drop_products(df, rate=0.8):\n",
    "    \"\"\"\n",
    "    Function drops a predefined percentage of products\n",
    "    \n",
    "    :param df: pandas dataframe\n",
    "    :param rate: float that definies how many products should be dropped (percentage)\n",
    "    :return df: DataFrame containing all the product_id's to keep\n",
    "    \"\"\"\n",
    "    # sort values:\n",
    "    df.sort_values('rating', ascending=False, inplace=True)\n",
    "    \n",
    "    # calculate condition to drop\n",
    "    rows_to_drop = int(len(df)*rate)\n",
    "    df = df.drop(df.tail(rows_to_drop).index)\n",
    "    \n",
    "    return df"
   ]
  },
  {
   "cell_type": "code",
   "execution_count": null,
   "metadata": {},
   "outputs": [],
   "source": [
    "reduced_df = drop_products(df);"
   ]
  },
  {
   "cell_type": "code",
   "execution_count": null,
   "metadata": {},
   "outputs": [],
   "source": [
    "reduced_df.info()"
   ]
  },
  {
   "cell_type": "code",
   "execution_count": null,
   "metadata": {},
   "outputs": [],
   "source": [
    "reduced_df.head()"
   ]
  },
  {
   "cell_type": "code",
   "execution_count": null,
   "metadata": {},
   "outputs": [],
   "source": [
    "# list of products to keep:\n",
    "good_products = reduced_df.index.tolist()"
   ]
  },
  {
   "cell_type": "code",
   "execution_count": null,
   "metadata": {},
   "outputs": [],
   "source": [
    "# drop columns with bad products\n",
    "if Path('rating.csv').is_file():\n",
    "    pass\n",
    "else:\n",
    "    chunks = pd.read_csv('Recommender4Retail.csv', chunksize=10_000)\n",
    "    for chunk in chunks:\n",
    "        chunk = chunk[chunk['product_id'].isin(good_products)]\n",
    "\n",
    "        if Path('rating.csv').is_file():\n",
    "            chunk.to_csv('rating.csv', mode='a', header=False)\n",
    "        else:\n",
    "            chunk.to_csv('rating.csv', mode='a', header=True)"
   ]
  },
  {
   "cell_type": "code",
   "execution_count": null,
   "metadata": {},
   "outputs": [],
   "source": [
    "df = pd.read_csv('rating.csv')"
   ]
  }
 ],
 "metadata": {
  "kernelspec": {
   "display_name": "Python 3",
   "language": "python",
   "name": "python3"
  },
  "language_info": {
   "codemirror_mode": {
    "name": "ipython",
    "version": 3
   },
   "file_extension": ".py",
   "mimetype": "text/x-python",
   "name": "python",
   "nbconvert_exporter": "python",
   "pygments_lexer": "ipython3",
   "version": "3.7.3"
  }
 },
 "nbformat": 4,
 "nbformat_minor": 4
}
