{
 "cells": [
  {
   "cell_type": "markdown",
   "metadata": {},
   "source": [
    "Autor: Roman Janic Studer "
   ]
  },
  {
   "cell_type": "code",
   "execution_count": 1,
   "metadata": {},
   "outputs": [],
   "source": [
    "import pandas as pd\n",
    "import numpy as np\n",
    "import csv\n",
    "import pickle"
   ]
  },
  {
   "cell_type": "markdown",
   "metadata": {},
   "source": [
    "# Product Reduction partially using the Apriori approach\n",
    "------\n",
    "This Notebook is used to create a List of all Products and eliminate up to 80% of the \"weakest\" products. (Rating should not be used for a recommender at a later state)"
   ]
  },
  {
   "cell_type": "code",
   "execution_count": 2,
   "metadata": {},
   "outputs": [
    {
     "data": {
      "text/html": [
       "<div>\n",
       "<style scoped>\n",
       "    .dataframe tbody tr th:only-of-type {\n",
       "        vertical-align: middle;\n",
       "    }\n",
       "\n",
       "    .dataframe tbody tr th {\n",
       "        vertical-align: top;\n",
       "    }\n",
       "\n",
       "    .dataframe thead th {\n",
       "        text-align: right;\n",
       "    }\n",
       "</style>\n",
       "<table border=\"1\" class=\"dataframe\">\n",
       "  <thead>\n",
       "    <tr style=\"text-align: right;\">\n",
       "      <th></th>\n",
       "      <th>Unnamed: 0</th>\n",
       "      <th>order_id</th>\n",
       "      <th>user_id</th>\n",
       "      <th>eval_set</th>\n",
       "      <th>order_number</th>\n",
       "      <th>order_dow</th>\n",
       "      <th>order_hour_of_day</th>\n",
       "      <th>days_since_prior_order</th>\n",
       "      <th>product_id</th>\n",
       "      <th>add_to_cart_order</th>\n",
       "      <th>reordered</th>\n",
       "      <th>product_name</th>\n",
       "      <th>aisle_id</th>\n",
       "      <th>department_id</th>\n",
       "      <th>department</th>\n",
       "      <th>aisle</th>\n",
       "    </tr>\n",
       "  </thead>\n",
       "  <tbody>\n",
       "    <tr>\n",
       "      <th>0</th>\n",
       "      <td>1</td>\n",
       "      <td>2539329</td>\n",
       "      <td>1</td>\n",
       "      <td>prior</td>\n",
       "      <td>1</td>\n",
       "      <td>2</td>\n",
       "      <td>8</td>\n",
       "      <td>NaN</td>\n",
       "      <td>196</td>\n",
       "      <td>1</td>\n",
       "      <td>0</td>\n",
       "      <td>Soda</td>\n",
       "      <td>77</td>\n",
       "      <td>7</td>\n",
       "      <td>beverages</td>\n",
       "      <td>soft drinks</td>\n",
       "    </tr>\n",
       "    <tr>\n",
       "      <th>1</th>\n",
       "      <td>2</td>\n",
       "      <td>2539329</td>\n",
       "      <td>1</td>\n",
       "      <td>prior</td>\n",
       "      <td>1</td>\n",
       "      <td>2</td>\n",
       "      <td>8</td>\n",
       "      <td>NaN</td>\n",
       "      <td>14084</td>\n",
       "      <td>2</td>\n",
       "      <td>0</td>\n",
       "      <td>Organic Unsweetened Vanilla Almond Milk</td>\n",
       "      <td>91</td>\n",
       "      <td>16</td>\n",
       "      <td>dairy eggs</td>\n",
       "      <td>soy lactosefree</td>\n",
       "    </tr>\n",
       "    <tr>\n",
       "      <th>2</th>\n",
       "      <td>3</td>\n",
       "      <td>2539329</td>\n",
       "      <td>1</td>\n",
       "      <td>prior</td>\n",
       "      <td>1</td>\n",
       "      <td>2</td>\n",
       "      <td>8</td>\n",
       "      <td>NaN</td>\n",
       "      <td>12427</td>\n",
       "      <td>3</td>\n",
       "      <td>0</td>\n",
       "      <td>Original Beef Jerky</td>\n",
       "      <td>23</td>\n",
       "      <td>19</td>\n",
       "      <td>snacks</td>\n",
       "      <td>popcorn jerky</td>\n",
       "    </tr>\n",
       "    <tr>\n",
       "      <th>3</th>\n",
       "      <td>4</td>\n",
       "      <td>2539329</td>\n",
       "      <td>1</td>\n",
       "      <td>prior</td>\n",
       "      <td>1</td>\n",
       "      <td>2</td>\n",
       "      <td>8</td>\n",
       "      <td>NaN</td>\n",
       "      <td>26088</td>\n",
       "      <td>4</td>\n",
       "      <td>0</td>\n",
       "      <td>Aged White Cheddar Popcorn</td>\n",
       "      <td>23</td>\n",
       "      <td>19</td>\n",
       "      <td>snacks</td>\n",
       "      <td>popcorn jerky</td>\n",
       "    </tr>\n",
       "    <tr>\n",
       "      <th>4</th>\n",
       "      <td>5</td>\n",
       "      <td>2539329</td>\n",
       "      <td>1</td>\n",
       "      <td>prior</td>\n",
       "      <td>1</td>\n",
       "      <td>2</td>\n",
       "      <td>8</td>\n",
       "      <td>NaN</td>\n",
       "      <td>26405</td>\n",
       "      <td>5</td>\n",
       "      <td>0</td>\n",
       "      <td>XL Pick-A-Size Paper Towel Rolls</td>\n",
       "      <td>54</td>\n",
       "      <td>17</td>\n",
       "      <td>household</td>\n",
       "      <td>paper goods</td>\n",
       "    </tr>\n",
       "  </tbody>\n",
       "</table>\n",
       "</div>"
      ],
      "text/plain": [
       "   Unnamed: 0  order_id  user_id eval_set  order_number  order_dow  \\\n",
       "0           1   2539329        1    prior             1          2   \n",
       "1           2   2539329        1    prior             1          2   \n",
       "2           3   2539329        1    prior             1          2   \n",
       "3           4   2539329        1    prior             1          2   \n",
       "4           5   2539329        1    prior             1          2   \n",
       "\n",
       "   order_hour_of_day  days_since_prior_order  product_id  add_to_cart_order  \\\n",
       "0                  8                     NaN         196                  1   \n",
       "1                  8                     NaN       14084                  2   \n",
       "2                  8                     NaN       12427                  3   \n",
       "3                  8                     NaN       26088                  4   \n",
       "4                  8                     NaN       26405                  5   \n",
       "\n",
       "   reordered                             product_name  aisle_id  \\\n",
       "0          0                                     Soda        77   \n",
       "1          0  Organic Unsweetened Vanilla Almond Milk        91   \n",
       "2          0                      Original Beef Jerky        23   \n",
       "3          0               Aged White Cheddar Popcorn        23   \n",
       "4          0         XL Pick-A-Size Paper Towel Rolls        54   \n",
       "\n",
       "   department_id  department            aisle  \n",
       "0              7   beverages      soft drinks  \n",
       "1             16  dairy eggs  soy lactosefree  \n",
       "2             19      snacks    popcorn jerky  \n",
       "3             19      snacks    popcorn jerky  \n",
       "4             17   household      paper goods  "
      ]
     },
     "execution_count": 2,
     "metadata": {},
     "output_type": "execute_result"
    }
   ],
   "source": [
    "#load first few roads\n",
    "overview = pd.read_csv('Recommender4Retail.csv', nrows = 10)\n",
    "overview.head()\n"
   ]
  },
  {
   "cell_type": "markdown",
   "metadata": {},
   "source": [
    "### Extract a list of Products and Orders out of a DataFrame\n",
    "----\n",
    "The following code-blocks are used to extract all unique values for a certain column (in our case `product_id`). \n",
    "The difficulty here is that the dataset is to large to be loaded at once. Because the extraction of the unique values for a large dataset takes some time I decided to save the created lists as a pickle file to be able to load them in after a restart of the notebook."
   ]
  },
  {
   "cell_type": "code",
   "execution_count": 3,
   "metadata": {},
   "outputs": [],
   "source": [
    "def extract_unique_values(data,column, chunksize=None):\n",
    "    \"\"\"\n",
    "    Extracts the unique values for a certain column in a dataframe\n",
    "    \n",
    "    :param str, data is the path to a csv\n",
    "    :column str, column to be filtered\n",
    "    :chunksize int, defines the size of a batch to load\n",
    "    \n",
    "    :return list, of all unique values\n",
    "    \"\"\"\n",
    "    products = []\n",
    "    \n",
    "    for chunk in pd.read_csv(data, chunksize=chunksize):\n",
    "        \n",
    "        # could be optimized \n",
    "        t = chunk[column].value_counts()\n",
    "        t = pd.DataFrame(t).reset_index()\n",
    "        t = t.rename(columns={'index': 'product'})\n",
    "        \n",
    "        for val in t['product'].values.tolist():\n",
    "            products.append(val)\n",
    "    list_set = set(products)\n",
    "    unique_val = list(list_set)\n",
    "    \n",
    "    return unique_val"
   ]
  },
  {
   "cell_type": "code",
   "execution_count": 4,
   "metadata": {},
   "outputs": [],
   "source": [
    "# products = extract_unique_values('Recommender4Retail.csv', 'product_id', chunksize=10_000)"
   ]
  },
  {
   "cell_type": "code",
   "execution_count": 5,
   "metadata": {},
   "outputs": [
    {
     "data": {
      "text/plain": [
       "\"with open('product_ids.pkl', 'wb') as f:\\n    pickle.dump(products, f)\""
      ]
     },
     "execution_count": 5,
     "metadata": {},
     "output_type": "execute_result"
    }
   ],
   "source": [
    "\"\"\"with open('product_ids.pkl', 'wb') as f:\n",
    "    pickle.dump(products, f)\"\"\""
   ]
  },
  {
   "cell_type": "code",
   "execution_count": 6,
   "metadata": {},
   "outputs": [],
   "source": [
    "# orders = extract_unique_values('Recommender4Retail.csv', 'order_id', chunksize=10_000)"
   ]
  },
  {
   "cell_type": "code",
   "execution_count": 7,
   "metadata": {},
   "outputs": [
    {
     "data": {
      "text/plain": [
       "\"with open('order_ids.pkl', 'wb') as f:\\n    pickle.dump(orders, f)\""
      ]
     },
     "execution_count": 7,
     "metadata": {},
     "output_type": "execute_result"
    }
   ],
   "source": [
    "\"\"\"with open('order_ids.pkl', 'wb') as f:\n",
    "    pickle.dump(orders, f)\"\"\""
   ]
  },
  {
   "cell_type": "code",
   "execution_count": 8,
   "metadata": {},
   "outputs": [],
   "source": [
    "# load saved data to \n",
    "\n",
    "with open('product_ids.pkl', 'rb') as f:\n",
    "    products = pickle.load(f)\n",
    "\n",
    "with open('order_ids.pkl', 'rb') as f:\n",
    "    orders = pickle.load(f)"
   ]
  },
  {
   "cell_type": "code",
   "execution_count": 9,
   "metadata": {},
   "outputs": [
    {
     "data": {
      "text/plain": [
       "'Total number of Products in Recommender4Retail.csv: 49685'"
      ]
     },
     "execution_count": 9,
     "metadata": {},
     "output_type": "execute_result"
    }
   ],
   "source": [
    "f'Total number of Products in Recommender4Retail.csv: {len(products)}' \n",
    "# Products: 49_685"
   ]
  },
  {
   "cell_type": "code",
   "execution_count": 10,
   "metadata": {},
   "outputs": [
    {
     "data": {
      "text/plain": [
       "'Total number of Orders in Recommender4Reteail.csv: 3346083'"
      ]
     },
     "execution_count": 10,
     "metadata": {},
     "output_type": "execute_result"
    }
   ],
   "source": [
    "f'Total number of Orders in Recommender4Reteail.csv: {len(orders)}' \n",
    "# Orders: 3_346_083"
   ]
  },
  {
   "cell_type": "markdown",
   "metadata": {},
   "source": [
    "### Populate Dataframe\n",
    "----\n",
    "The code above created two lists called `products` and `orders` representing all products and orders in the dataset. With this information, we can calculate the support for every product. The function `product_order_df` creates a DataFrame containing the columns `n_orders` which represents the amount of orders for every product(index = product_id) and `sup_product` which is a placeholder for the support of the product. "
   ]
  },
  {
   "cell_type": "code",
   "execution_count": 11,
   "metadata": {},
   "outputs": [],
   "source": [
    "def calc_product_count():\n",
    "    %timeit\n",
    "    chunks = pd.read_csv(\"Recommender4Retail.csv\",chunksize=10_000)\n",
    "    subsets = [chunk.groupby('product_id')['product_id'].agg(['count']) for chunk in chunks]\n",
    "\n",
    "    product_order = pd.concat(subsets).groupby(level=0).sum()\n",
    "    \n",
    "    product_order.reset_index(inplace=True)\n",
    "    return product_order\n",
    "\n",
    "# calc_product_count()"
   ]
  },
  {
   "cell_type": "code",
   "execution_count": 12,
   "metadata": {},
   "outputs": [
    {
     "data": {
      "text/plain": [
       "\"with open('product_n_order.pkl', 'wb') as f:\\n    pickle.dump(product_order, f)\""
      ]
     },
     "execution_count": 12,
     "metadata": {},
     "output_type": "execute_result"
    }
   ],
   "source": [
    "#save list\n",
    "\"\"\"with open('product_n_order.pkl', 'wb') as f:\n",
    "    pickle.dump(product_order, f)\"\"\""
   ]
  },
  {
   "cell_type": "code",
   "execution_count": 13,
   "metadata": {},
   "outputs": [
    {
     "data": {
      "text/plain": [
       "'Total number of Products bought: 33819106'"
      ]
     },
     "execution_count": 13,
     "metadata": {},
     "output_type": "execute_result"
    }
   ],
   "source": [
    "# load list\n",
    "with open('product_n_order.pkl', 'rb') as f:\n",
    "    product_order = pickle.load(f)\n",
    "\n",
    "n_product_order = product_order['count'].sum()\n",
    "'Total number of Products bought: {}'.format(n_product_order)"
   ]
  },
  {
   "cell_type": "markdown",
   "metadata": {},
   "source": [
    "### Calcuate the Support of the Products\n",
    "-----\n",
    "\n",
    "The Apriori - Algoritmn works with two probabilistic measurements which rate the assoziationrules: Support and Confidence. The Algorithmen expects the values `minsupp` and `minconf`. The support represents the probability of an item being in a basket."
   ]
  },
  {
   "cell_type": "markdown",
   "metadata": {},
   "source": [
    "#### Mathematical Approach\n",
    "To callculate the support we need a Multiset $$X = \\text{Every Product}$$ containing all ordered products\n",
    "\n",
    "$$\n",
    "support(x\\in X) =  \\frac{|\\forall x \\in X|}{|X|}\n",
    "$$\n",
    "\n",
    "Or in writing:\n",
    "$$\n",
    "support(\\text{Product}) =  \\frac{\\text{Number of Buys of the Product}}{\\text{Total number of transactions}}\n",
    "$$"
   ]
  },
  {
   "cell_type": "code",
   "execution_count": 14,
   "metadata": {},
   "outputs": [
    {
     "data": {
      "text/html": [
       "<div>\n",
       "<style scoped>\n",
       "    .dataframe tbody tr th:only-of-type {\n",
       "        vertical-align: middle;\n",
       "    }\n",
       "\n",
       "    .dataframe tbody tr th {\n",
       "        vertical-align: top;\n",
       "    }\n",
       "\n",
       "    .dataframe thead th {\n",
       "        text-align: right;\n",
       "    }\n",
       "</style>\n",
       "<table border=\"1\" class=\"dataframe\">\n",
       "  <thead>\n",
       "    <tr style=\"text-align: right;\">\n",
       "      <th></th>\n",
       "      <th>product_id</th>\n",
       "      <th>count</th>\n",
       "      <th>sup_product</th>\n",
       "    </tr>\n",
       "  </thead>\n",
       "  <tbody>\n",
       "    <tr>\n",
       "      <th>0</th>\n",
       "      <td>1</td>\n",
       "      <td>1928</td>\n",
       "      <td>5.700919e-05</td>\n",
       "    </tr>\n",
       "    <tr>\n",
       "      <th>1</th>\n",
       "      <td>2</td>\n",
       "      <td>94</td>\n",
       "      <td>2.779494e-06</td>\n",
       "    </tr>\n",
       "    <tr>\n",
       "      <th>2</th>\n",
       "      <td>3</td>\n",
       "      <td>283</td>\n",
       "      <td>8.368051e-06</td>\n",
       "    </tr>\n",
       "    <tr>\n",
       "      <th>3</th>\n",
       "      <td>4</td>\n",
       "      <td>351</td>\n",
       "      <td>1.037875e-05</td>\n",
       "    </tr>\n",
       "    <tr>\n",
       "      <th>4</th>\n",
       "      <td>5</td>\n",
       "      <td>16</td>\n",
       "      <td>4.731054e-07</td>\n",
       "    </tr>\n",
       "  </tbody>\n",
       "</table>\n",
       "</div>"
      ],
      "text/plain": [
       "   product_id  count   sup_product\n",
       "0           1   1928  5.700919e-05\n",
       "1           2     94  2.779494e-06\n",
       "2           3    283  8.368051e-06\n",
       "3           4    351  1.037875e-05\n",
       "4           5     16  4.731054e-07"
      ]
     },
     "execution_count": 14,
     "metadata": {},
     "output_type": "execute_result"
    }
   ],
   "source": [
    "product_order['sup_product'] = product_order['count']/n_product_order # support for product\n",
    "product_order.head()"
   ]
  },
  {
   "cell_type": "code",
   "execution_count": 15,
   "metadata": {},
   "outputs": [],
   "source": [
    "# Normalize support values\n",
    "\n",
    "product_order['sup_product'] = (product_order['sup_product']-product_order['sup_product'].min())/(product_order['sup_product'].max()-product_order['sup_product'].min())"
   ]
  },
  {
   "cell_type": "code",
   "execution_count": 16,
   "metadata": {},
   "outputs": [
    {
     "data": {
      "text/html": [
       "<div>\n",
       "<style scoped>\n",
       "    .dataframe tbody tr th:only-of-type {\n",
       "        vertical-align: middle;\n",
       "    }\n",
       "\n",
       "    .dataframe tbody tr th {\n",
       "        vertical-align: top;\n",
       "    }\n",
       "\n",
       "    .dataframe thead th {\n",
       "        text-align: right;\n",
       "    }\n",
       "</style>\n",
       "<table border=\"1\" class=\"dataframe\">\n",
       "  <thead>\n",
       "    <tr style=\"text-align: right;\">\n",
       "      <th></th>\n",
       "      <th>product_id</th>\n",
       "      <th>count</th>\n",
       "      <th>sup_product</th>\n",
       "    </tr>\n",
       "  </thead>\n",
       "  <tbody>\n",
       "    <tr>\n",
       "      <th>0</th>\n",
       "      <td>1</td>\n",
       "      <td>1928</td>\n",
       "      <td>0.003922</td>\n",
       "    </tr>\n",
       "    <tr>\n",
       "      <th>1</th>\n",
       "      <td>2</td>\n",
       "      <td>94</td>\n",
       "      <td>0.000189</td>\n",
       "    </tr>\n",
       "    <tr>\n",
       "      <th>2</th>\n",
       "      <td>3</td>\n",
       "      <td>283</td>\n",
       "      <td>0.000574</td>\n",
       "    </tr>\n",
       "    <tr>\n",
       "      <th>3</th>\n",
       "      <td>4</td>\n",
       "      <td>351</td>\n",
       "      <td>0.000712</td>\n",
       "    </tr>\n",
       "    <tr>\n",
       "      <th>4</th>\n",
       "      <td>5</td>\n",
       "      <td>16</td>\n",
       "      <td>0.000031</td>\n",
       "    </tr>\n",
       "  </tbody>\n",
       "</table>\n",
       "</div>"
      ],
      "text/plain": [
       "   product_id  count  sup_product\n",
       "0           1   1928     0.003922\n",
       "1           2     94     0.000189\n",
       "2           3    283     0.000574\n",
       "3           4    351     0.000712\n",
       "4           5     16     0.000031"
      ]
     },
     "execution_count": 16,
     "metadata": {},
     "output_type": "execute_result"
    }
   ],
   "source": [
    "product_order.head()"
   ]
  },
  {
   "cell_type": "markdown",
   "metadata": {},
   "source": [
    "### Drop \"weak\" products\n",
    "----\n",
    "With the now calculated support for each product, we can now evaluate and sort the products. This allows us to remove  weak, rarely purchased products."
   ]
  },
  {
   "cell_type": "code",
   "execution_count": 27,
   "metadata": {},
   "outputs": [],
   "source": [
    "def drop_products(df, rate=0.8):\n",
    "    \"\"\"\n",
    "    Function drops a predefined percentage of products\n",
    "    :param df: pandas dataframe\n",
    "    :param rate: float that definies how many products should be dropped (percentage)\n",
    "    \"\"\"\n",
    "    # sort values:\n",
    "    df.sort_values('sup_product', ascending=False, inplace=True)\n",
    "    \n",
    "    # calculate condition to drop\n",
    "    rows_to_drop = int(len(product_order)*rate)\n",
    "    df = df.drop(df.tail(rows_to_drop).index)\n",
    "    \n",
    "    return df"
   ]
  },
  {
   "cell_type": "code",
   "execution_count": 22,
   "metadata": {},
   "outputs": [],
   "source": [
    "reduced_df = drop_products(product_order);"
   ]
  },
  {
   "cell_type": "code",
   "execution_count": 23,
   "metadata": {},
   "outputs": [
    {
     "name": "stdout",
     "output_type": "stream",
     "text": [
      "<class 'pandas.core.frame.DataFrame'>\n",
      "Int64Index: 9937 entries, 24849 to 6677\n",
      "Data columns (total 3 columns):\n",
      "product_id     9937 non-null int64\n",
      "count          9937 non-null int64\n",
      "sup_product    9937 non-null float64\n",
      "dtypes: float64(1), int64(2)\n",
      "memory usage: 310.5 KB\n"
     ]
    }
   ],
   "source": [
    "reduced_df.info()"
   ]
  },
  {
   "cell_type": "code",
   "execution_count": 44,
   "metadata": {},
   "outputs": [],
   "source": [
    "# list of products to keep:\n",
    "good_products = list(reduced_df.product_id)"
   ]
  }
 ],
 "metadata": {
  "kernelspec": {
   "display_name": "Python 3",
   "language": "python",
   "name": "python3"
  },
  "language_info": {
   "codemirror_mode": {
    "name": "ipython",
    "version": 3
   },
   "file_extension": ".py",
   "mimetype": "text/x-python",
   "name": "python",
   "nbconvert_exporter": "python",
   "pygments_lexer": "ipython3",
   "version": "3.7.3"
  }
 },
 "nbformat": 4,
 "nbformat_minor": 4
}
