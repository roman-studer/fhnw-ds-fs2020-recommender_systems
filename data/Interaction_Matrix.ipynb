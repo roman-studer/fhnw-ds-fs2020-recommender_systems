{
 "cells": [
  {
   "cell_type": "code",
   "execution_count": 64,
   "metadata": {},
   "outputs": [],
   "source": [
    "import pandas as pd\n",
    "import numpy as np\n",
    "import pickle\n",
    "from scipy.sparse.linalg import norm\n",
    "from scipy.sparse import csr_matrix, csc_matrix\n",
    "from pandas.api.types import CategoricalDtype\n",
    "from IPython.display import clear_output\n",
    "import timeit\n",
    "import warnings"
   ]
  },
  {
   "cell_type": "markdown",
   "metadata": {},
   "source": [
    "### Ineraction Matrix\n",
    "----"
   ]
  },
  {
   "cell_type": "code",
   "execution_count": 2,
   "metadata": {},
   "outputs": [],
   "source": [
    "data = np.array([[1,1,2,3,1,2,3,3,3,3],['A','A','B','B','C','D','C','C','C','D']]).T"
   ]
  },
  {
   "cell_type": "code",
   "execution_count": 3,
   "metadata": {},
   "outputs": [
    {
     "data": {
      "text/html": [
       "<div>\n",
       "<style scoped>\n",
       "    .dataframe tbody tr th:only-of-type {\n",
       "        vertical-align: middle;\n",
       "    }\n",
       "\n",
       "    .dataframe tbody tr th {\n",
       "        vertical-align: top;\n",
       "    }\n",
       "\n",
       "    .dataframe thead th {\n",
       "        text-align: right;\n",
       "    }\n",
       "</style>\n",
       "<table border=\"1\" class=\"dataframe\">\n",
       "  <thead>\n",
       "    <tr style=\"text-align: right;\">\n",
       "      <th></th>\n",
       "      <th>user_id</th>\n",
       "      <th>product_name</th>\n",
       "    </tr>\n",
       "  </thead>\n",
       "  <tbody>\n",
       "    <tr>\n",
       "      <th>0</th>\n",
       "      <td>1</td>\n",
       "      <td>A</td>\n",
       "    </tr>\n",
       "    <tr>\n",
       "      <th>1</th>\n",
       "      <td>1</td>\n",
       "      <td>A</td>\n",
       "    </tr>\n",
       "    <tr>\n",
       "      <th>2</th>\n",
       "      <td>2</td>\n",
       "      <td>B</td>\n",
       "    </tr>\n",
       "    <tr>\n",
       "      <th>3</th>\n",
       "      <td>3</td>\n",
       "      <td>B</td>\n",
       "    </tr>\n",
       "    <tr>\n",
       "      <th>4</th>\n",
       "      <td>1</td>\n",
       "      <td>C</td>\n",
       "    </tr>\n",
       "    <tr>\n",
       "      <th>5</th>\n",
       "      <td>2</td>\n",
       "      <td>D</td>\n",
       "    </tr>\n",
       "    <tr>\n",
       "      <th>6</th>\n",
       "      <td>3</td>\n",
       "      <td>C</td>\n",
       "    </tr>\n",
       "    <tr>\n",
       "      <th>7</th>\n",
       "      <td>3</td>\n",
       "      <td>C</td>\n",
       "    </tr>\n",
       "    <tr>\n",
       "      <th>8</th>\n",
       "      <td>3</td>\n",
       "      <td>C</td>\n",
       "    </tr>\n",
       "    <tr>\n",
       "      <th>9</th>\n",
       "      <td>3</td>\n",
       "      <td>D</td>\n",
       "    </tr>\n",
       "  </tbody>\n",
       "</table>\n",
       "</div>"
      ],
      "text/plain": [
       "  user_id product_name\n",
       "0       1            A\n",
       "1       1            A\n",
       "2       2            B\n",
       "3       3            B\n",
       "4       1            C\n",
       "5       2            D\n",
       "6       3            C\n",
       "7       3            C\n",
       "8       3            C\n",
       "9       3            D"
      ]
     },
     "execution_count": 3,
     "metadata": {},
     "output_type": "execute_result"
    }
   ],
   "source": [
    "df = pd.DataFrame(data, columns = ['user_id','product_name'])\n",
    "df"
   ]
  },
  {
   "cell_type": "code",
   "execution_count": 4,
   "metadata": {},
   "outputs": [
    {
     "data": {
      "text/html": [
       "<div>\n",
       "<style scoped>\n",
       "    .dataframe tbody tr th:only-of-type {\n",
       "        vertical-align: middle;\n",
       "    }\n",
       "\n",
       "    .dataframe tbody tr th {\n",
       "        vertical-align: top;\n",
       "    }\n",
       "\n",
       "    .dataframe thead th {\n",
       "        text-align: right;\n",
       "    }\n",
       "</style>\n",
       "<table border=\"1\" class=\"dataframe\">\n",
       "  <thead>\n",
       "    <tr style=\"text-align: right;\">\n",
       "      <th>product_name</th>\n",
       "      <th>A</th>\n",
       "      <th>B</th>\n",
       "      <th>C</th>\n",
       "      <th>D</th>\n",
       "    </tr>\n",
       "    <tr>\n",
       "      <th>user_id</th>\n",
       "      <th></th>\n",
       "      <th></th>\n",
       "      <th></th>\n",
       "      <th></th>\n",
       "    </tr>\n",
       "  </thead>\n",
       "  <tbody>\n",
       "    <tr>\n",
       "      <th>1</th>\n",
       "      <td>2</td>\n",
       "      <td>0</td>\n",
       "      <td>1</td>\n",
       "      <td>0</td>\n",
       "    </tr>\n",
       "    <tr>\n",
       "      <th>2</th>\n",
       "      <td>0</td>\n",
       "      <td>1</td>\n",
       "      <td>0</td>\n",
       "      <td>1</td>\n",
       "    </tr>\n",
       "    <tr>\n",
       "      <th>3</th>\n",
       "      <td>0</td>\n",
       "      <td>1</td>\n",
       "      <td>3</td>\n",
       "      <td>1</td>\n",
       "    </tr>\n",
       "  </tbody>\n",
       "</table>\n",
       "</div>"
      ],
      "text/plain": [
       "product_name  A  B  C  D\n",
       "user_id                 \n",
       "1             2  0  1  0\n",
       "2             0  1  0  1\n",
       "3             0  1  3  1"
      ]
     },
     "execution_count": 4,
     "metadata": {},
     "output_type": "execute_result"
    }
   ],
   "source": [
    "# create interaction matrix\n",
    "interaction_matrix_count = df.pivot_table(index='user_id', columns='product_name', aggfunc=len, fill_value=0)\n",
    "interaction_matrix_count.head()"
   ]
  },
  {
   "cell_type": "code",
   "execution_count": 5,
   "metadata": {},
   "outputs": [],
   "source": [
    "#interaction_matrix_count = df.pivot_table(index='user_id', columns='product_name', values=[1])"
   ]
  },
  {
   "cell_type": "code",
   "execution_count": 6,
   "metadata": {},
   "outputs": [
    {
     "data": {
      "text/html": [
       "<div>\n",
       "<style scoped>\n",
       "    .dataframe tbody tr th:only-of-type {\n",
       "        vertical-align: middle;\n",
       "    }\n",
       "\n",
       "    .dataframe tbody tr th {\n",
       "        vertical-align: top;\n",
       "    }\n",
       "\n",
       "    .dataframe thead th {\n",
       "        text-align: right;\n",
       "    }\n",
       "</style>\n",
       "<table border=\"1\" class=\"dataframe\">\n",
       "  <thead>\n",
       "    <tr style=\"text-align: right;\">\n",
       "      <th>product_name</th>\n",
       "      <th>A</th>\n",
       "      <th>B</th>\n",
       "      <th>C</th>\n",
       "      <th>D</th>\n",
       "    </tr>\n",
       "    <tr>\n",
       "      <th>user_id</th>\n",
       "      <th></th>\n",
       "      <th></th>\n",
       "      <th></th>\n",
       "      <th></th>\n",
       "    </tr>\n",
       "  </thead>\n",
       "  <tbody>\n",
       "    <tr>\n",
       "      <th>1</th>\n",
       "      <td>1</td>\n",
       "      <td>0</td>\n",
       "      <td>1</td>\n",
       "      <td>0</td>\n",
       "    </tr>\n",
       "    <tr>\n",
       "      <th>2</th>\n",
       "      <td>0</td>\n",
       "      <td>1</td>\n",
       "      <td>0</td>\n",
       "      <td>1</td>\n",
       "    </tr>\n",
       "    <tr>\n",
       "      <th>3</th>\n",
       "      <td>0</td>\n",
       "      <td>1</td>\n",
       "      <td>1</td>\n",
       "      <td>1</td>\n",
       "    </tr>\n",
       "  </tbody>\n",
       "</table>\n",
       "</div>"
      ],
      "text/plain": [
       "product_name  A  B  C  D\n",
       "user_id                 \n",
       "1             1  0  1  0\n",
       "2             0  1  0  1\n",
       "3             0  1  1  1"
      ]
     },
     "execution_count": 6,
     "metadata": {},
     "output_type": "execute_result"
    }
   ],
   "source": [
    "interaction_matrix_count.applymap(lambda x: int(x>0))"
   ]
  },
  {
   "cell_type": "markdown",
   "metadata": {},
   "source": [
    "## Interaction Matrix as sparse Matrix\n",
    "----"
   ]
  },
  {
   "cell_type": "code",
   "execution_count": 7,
   "metadata": {},
   "outputs": [],
   "source": [
    "# df = pd.read_csv('freq.csv')"
   ]
  },
  {
   "cell_type": "code",
   "execution_count": 8,
   "metadata": {},
   "outputs": [],
   "source": [
    "def interaction(df, recommender='item'):\n",
    "    user_c = CategoricalDtype(sorted(df.user_id.unique()), ordered=True)\n",
    "    product_name_c = CategoricalDtype(sorted(df.product_name.unique()), ordered=True)\n",
    "    \n",
    "\n",
    "    row = df.user_id.astype(user_c).cat.codes\n",
    "    col = df.product_name.astype(product_name_c).cat.codes\n",
    "    val = [1]*len(col)\n",
    "    if recommender == 'item':     \n",
    "        sparse_matrix = csc_matrix((val,(row, col)), shape=(user_c.categories.size, product_name_c.categories.size))\n",
    "    elif recommender == 'user':     \n",
    "        sparse_matrix = csr_matrix((val,(row, col)), shape=(user_c.categories.size, product_name_c.categories.size))\n",
    "\n",
    "    return sparse_matrix"
   ]
  },
  {
   "cell_type": "code",
   "execution_count": 27,
   "metadata": {},
   "outputs": [
    {
     "data": {
      "text/plain": [
       "matrix([[2, 0, 1, 0],\n",
       "        [0, 1, 0, 1],\n",
       "        [0, 1, 3, 1]], dtype=int32)"
      ]
     },
     "execution_count": 27,
     "metadata": {},
     "output_type": "execute_result"
    }
   ],
   "source": [
    "sparse_matrix = interaction(df, recommender='item')\n",
    "sparse_matrix.todense()"
   ]
  },
  {
   "cell_type": "code",
   "execution_count": 36,
   "metadata": {},
   "outputs": [
    {
     "data": {
      "text/plain": [
       "matrix([[1, 0, 1, 0],\n",
       "        [0, 1, 0, 1],\n",
       "        [0, 1, 1, 1]], dtype=int32)"
      ]
     },
     "execution_count": 36,
     "metadata": {},
     "output_type": "execute_result"
    }
   ],
   "source": [
    "# binary sparse matrix:\n",
    "sparse_binary = sparse_matrix\n",
    "sparse_binary[sparse_binary.nonzero()] = 1\n",
    "sparse_binary.todense()"
   ]
  },
  {
   "cell_type": "code",
   "execution_count": 29,
   "metadata": {},
   "outputs": [],
   "source": [
    "# turn dense matrix to dataframe\n",
    "# dfs = pd.DataFrame.sparse.from_spmatrix(sparse_matrix, index=user_c.categories, columns=product_name_c.categories)"
   ]
  },
  {
   "cell_type": "code",
   "execution_count": 30,
   "metadata": {},
   "outputs": [],
   "source": [
    "# extract of a product and its values for diffrent customers in interaction matrix. \n",
    "# dfs.iloc[:, 401].value_counts()"
   ]
  },
  {
   "cell_type": "markdown",
   "metadata": {},
   "source": [
    "## Similarity Measures\n",
    "----"
   ]
  },
  {
   "cell_type": "markdown",
   "metadata": {},
   "source": [
    "### Cosine Similarity\n",
    "Cosine similarity measures the similarity between two vectors. To achieve this it calculates the angle between the two vectors. With an intermediate angle of $0°$ (the two vectors point in the same direction) the similarity is $1$, ($cos(0) = 1$). For any other angle the value is less than one. In our example we consider products (columns of the interaction matrix) or users (rows of the interaction matrix) as vectors. In our formula are $i$ and $j$ items which each have a vector consisting of all their ratings $r$. Note: This function can be used for UBCF and IBCF.\n",
    "\n",
    "$$\n",
    "s(i,j) = \\frac{r_{i}\\cdot r_{j}}{\\|r_{i}\\|_{2}\\cdot\\|r_{j}\\|_{2}}\n",
    "$$\n",
    "\n",
    "<span style='color:red'>TO DO: Add functionality for UBCF, Build decorator for estimator</span>"
   ]
  },
  {
   "cell_type": "code",
   "execution_count": 39,
   "metadata": {},
   "outputs": [],
   "source": [
    "sparse_matrix = interaction(df, recommender='item')"
   ]
  },
  {
   "cell_type": "code",
   "execution_count": 42,
   "metadata": {},
   "outputs": [],
   "source": [
    "def sim_cosine(df, recommender, time=False):\n",
    "    \"\"\"\n",
    "    Calculates the cosine similarity between two given vectors\n",
    "    :param df: sparse matrix with shape (user,item)\n",
    "    :return s: similarity value between -1 and 1 (1 high correlation, 0 no correlation, -1 high negative correlation)\n",
    "    \"\"\"\n",
    "    start = timeit.default_timer()\n",
    "    \n",
    "    if recommender == 'item':\n",
    "    \n",
    "        # initialize empty diagonal matrix\n",
    "        length = df.shape[1]\n",
    "        similarity_matrix = np.zeros((length,length), dtype=np.float32) # empty similarity matrix\n",
    "\n",
    "        # precalculate normalized vector over whole df\n",
    "        normalized_vectors = norm(df, axis=0)\n",
    "\n",
    "\n",
    "        for i in np.arange(length):\n",
    "            clear_output(wait=True)\n",
    "\n",
    "            # cosine similarity calculation\n",
    "            a = df[:,i]\n",
    "            numerator = df.T.dot(a).todense().T # get the dotproduct for vector a and every other vector\n",
    "            denominator = normalized_vectors*normalized_vectors[i]\n",
    "\n",
    "            s = numerator/denominator\n",
    "            similarity_matrix[i,:] = s\n",
    "\n",
    "            # progress estimator:\n",
    "            if time:\n",
    "                percent_old = 0\n",
    "                percent_new = int(100 * (i / length))\n",
    "\n",
    "                stop = timeit.default_timer()\n",
    "\n",
    "                expected_time = np.round(length* ((stop-start)/i) /60,2)\n",
    "                print(f'Current progress: {percent_new}%')\n",
    "                print(f'Current run tume: {np.round((stop-start)/60,2)} minutes')\n",
    "                print(f'Expected run time: {expected_time} minutes')\n",
    "                percent_old = percent_new\n",
    "                \n",
    "    elif recommender == 'user':\n",
    "        \n",
    "        # initialize empty diagonal matrix\n",
    "        length = df.shape[0]\n",
    "        similarity_matrix = np.zeros((length,length), dtype=np.float32) # empty similarity matrix\n",
    "\n",
    "        # precalculate normalized vector over whole df\n",
    "        normalized_vectors = norm(df, axis=1)\n",
    "\n",
    "\n",
    "        for i in np.arange(length):\n",
    "            clear_output(wait=True)\n",
    "\n",
    "            # cosine similarity calculation\n",
    "            a = df[i,:]\n",
    "            numerator = df.dot(a.T).todense().T # get the dotproduct for vector a and every other vector\n",
    "            denominator = normalized_vectors*normalized_vectors[i]\n",
    "\n",
    "            s = numerator/denominator\n",
    "            similarity_matrix[i,:] = s\n",
    "\n",
    "            # progress estimator:\n",
    "            if time:\n",
    "                percent_old = 0\n",
    "                percent_new = int(100 * (i / length))\n",
    "\n",
    "                stop = timeit.default_timer()\n",
    "\n",
    "                expected_time = np.round(length* ((stop-start)/i) /60,2)\n",
    "                print(f'Current progress: {percent_new}%')\n",
    "                print(f'Current run tume: {np.round((stop-start)/60,2)} minutes')\n",
    "                print(f'Expected run time: {expected_time} minutes')\n",
    "                percent_old = percent_new\n",
    "\n",
    "    return similarity_matrix"
   ]
  },
  {
   "cell_type": "code",
   "execution_count": 41,
   "metadata": {},
   "outputs": [
    {
     "name": "stdout",
     "output_type": "stream",
     "text": [
      "Current progress: 75%\n",
      "Current run tume: 0.0 minutes\n",
      "Expected run time: 0.0 minutes\n"
     ]
    },
    {
     "data": {
      "text/plain": [
       "array([[1.        , 0.        , 0.31622776, 0.        ],\n",
       "       [0.        , 1.        , 0.6708204 , 1.        ],\n",
       "       [0.31622776, 0.6708204 , 1.        , 0.6708204 ],\n",
       "       [0.        , 1.        , 0.6708204 , 1.        ]], dtype=float32)"
      ]
     },
     "execution_count": 41,
     "metadata": {},
     "output_type": "execute_result"
    }
   ],
   "source": [
    "sim_cosine(sparse_matrix, recommender='item', time=True)"
   ]
  },
  {
   "cell_type": "markdown",
   "metadata": {},
   "source": [
    "### Pearson Correlation\n",
    "----\n",
    "Person Correlation measures the statistical correlation between the ratings of two user's (or items). The formula takes as input two users $u$ and $v$ and calculates a similarity $s$ using the ratings $r$ for every product the two users have in common. It is possible to use pearson correlation to measure the similarity between items as well. But it is said that it yields **worse results** as a cosine similarity for example. The pearson correlation also suffers from problems if there are just a few ratings to compare. A threshold of a number of ratings per user could counteract this problem.\n",
    "\n",
    "$$\n",
    "s(u,v) = \\frac{\\sum_{i\\in I_{u}\\cap I_{v}}(r_{u,i}-\\bar r_{u})(r_{v,i}-\\bar r_{v})}{\\sqrt{\\sum_{i\\in I_{u}\\cap I_{v}}(r_{u,i}-\\bar r_{u})^2} \\sqrt{\\sum_{i\\in I_{u}\\cap I_{v}}(r_{v,i}-\\bar r_{v})^2}}\n",
    "$$"
   ]
  },
  {
   "cell_type": "code",
   "execution_count": 17,
   "metadata": {},
   "outputs": [
    {
     "data": {
      "text/plain": [
       "matrix([[2, 0, 1, 0],\n",
       "        [0, 1, 0, 1],\n",
       "        [0, 1, 3, 1]], dtype=int32)"
      ]
     },
     "execution_count": 17,
     "metadata": {},
     "output_type": "execute_result"
    }
   ],
   "source": [
    "sparse_matrix = interaction(df, recommender='user') # 'user' returns a csc-matrix (c=column)\n",
    "sparse_matrix.todense()"
   ]
  },
  {
   "cell_type": "code",
   "execution_count": 129,
   "metadata": {},
   "outputs": [],
   "source": [
    "def sim_pearson(df, recommender, time=False, threshold=False):\n",
    "    \"\"\"\n",
    "    Calculates the pearson similarity between two given users\n",
    "    :param df: sparse matrix shape (user, item)\n",
    "    :param threshold: activate involvement of a threshold \"multiplication\" of the function\n",
    "    :return s: similarity value between -1 and 1 (1 high correlation, 0 no correlation, -1 high negative correlation) or NaN if calculation is not possible\n",
    "    \"\"\"\n",
    "    start = timeit.default_timer()\n",
    "    \n",
    "    if recommender == 'user':\n",
    "        \n",
    "        # initialize empty diagonal matrix\n",
    "        length = df.shape[0] # length of user vector\n",
    "        item_length = df.shape[1] # length of item vector\n",
    "        similarity_matrix = np.zeros((length,length), dtype=np.float32) # empty similarity matrix\n",
    "        \n",
    "        mean_rating = [df[i,:].sum(axis=1)[0,0]/df[i,:].count_nonzero() for i in np.arange(3)] # get sum of all >0 values for every row and divide them by number of nonzero values.\n",
    "        \n",
    "        \n",
    "        for i in np.arange(length):\n",
    "            \n",
    "            # calculate item overlap between user i and every other user (list of lists)\n",
    "            overlap = [[index for index,v,u in zip(np.arange(item_length),df[:,i],df[:,x]) if v > 0 and u > 0 ] for x in np.arange(length)]\n",
    "\n",
    "            numerator = sum([(df[overlap[]])])\n",
    "            print(numerator)\n",
    "            numerator = sum(a*b for a,b in zip([u[i] -  for i in intersection],[v[i] - v_mean_r for i in intersection]))\n",
    "            denominator1 = np.sqrt(sum([(u[i] - u_mean_r)**2 for i in intersection]))\n",
    "            denominator2 = np.sqrt(sum([(v[i] - v_mean_r)**2 for i in intersection]))\n",
    "\n",
    "            s = numerator / (denominator1 * denominator2)\n",
    "            if threshold:\n",
    "                s = s * min(len(interesection)/50,1)\n",
    "\n",
    "\n",
    "            clear_output(wait=True)\n",
    "            # progress estimator:\n",
    "            if time:\n",
    "                percent_old = 0\n",
    "                percent_new = int(100 * (i / length))\n",
    "\n",
    "                stop = timeit.default_timer()\n",
    "\n",
    "                expected_time = np.round(length* ((stop-start)/i) /60,2)\n",
    "                print(f'Current progress: {percent_new}%')\n",
    "                print(f'Current run tume: {np.round((stop-start)/60,2)} minutes')\n",
    "                print(f'Expected run time: {expected_time} minutes')\n",
    "                percent_old = percent_new\n",
    "\n",
    "    if recommender == 'item':\n",
    "        return warnings.warn(\"Similartiy Method 'pearson' does not support IBCF yet. Use parameter recommender='user' for UBCF\")\n",
    "\n",
    "    return s"
   ]
  },
  {
   "cell_type": "code",
   "execution_count": 130,
   "metadata": {},
   "outputs": [
    {
     "name": "stdout",
     "output_type": "stream",
     "text": [
      "[[0], [], [0]]\n"
     ]
    },
    {
     "ename": "ValueError",
     "evalue": "The truth value of an array with more than one element is ambiguous. Use a.any() or a.all()",
     "output_type": "error",
     "traceback": [
      "\u001b[1;31m---------------------------------------------------------------------------\u001b[0m",
      "\u001b[1;31mValueError\u001b[0m                                Traceback (most recent call last)",
      "\u001b[1;32m<timed eval>\u001b[0m in \u001b[0;36m<module>\u001b[1;34m\u001b[0m\n",
      "\u001b[1;32m<ipython-input-129-49938f6b64d9>\u001b[0m in \u001b[0;36msim_pearson\u001b[1;34m(df, recommender, time, threshold)\u001b[0m\n\u001b[0;32m     23\u001b[0m             \u001b[0mprint\u001b[0m\u001b[1;33m(\u001b[0m\u001b[0moverlap\u001b[0m\u001b[1;33m)\u001b[0m\u001b[1;33m\u001b[0m\u001b[1;33m\u001b[0m\u001b[0m\n\u001b[0;32m     24\u001b[0m             \u001b[1;31m# get overlapping items for user i and v inclusive ratings.\u001b[0m\u001b[1;33m\u001b[0m\u001b[1;33m\u001b[0m\u001b[1;33m\u001b[0m\u001b[0m\n\u001b[1;32m---> 25\u001b[1;33m             \u001b[0mintersection\u001b[0m \u001b[1;33m=\u001b[0m \u001b[1;33m[\u001b[0m\u001b[0mk\u001b[0m \u001b[1;32mfor\u001b[0m \u001b[0mk\u001b[0m\u001b[1;33m,\u001b[0m \u001b[0mi\u001b[0m\u001b[1;33m,\u001b[0m \u001b[0mj\u001b[0m \u001b[1;32min\u001b[0m \u001b[0mzip\u001b[0m\u001b[1;33m(\u001b[0m\u001b[0mnp\u001b[0m\u001b[1;33m.\u001b[0m\u001b[0marange\u001b[0m\u001b[1;33m(\u001b[0m\u001b[0mlen\u001b[0m\u001b[1;33m(\u001b[0m\u001b[0mu\u001b[0m\u001b[1;33m)\u001b[0m\u001b[1;33m)\u001b[0m\u001b[1;33m,\u001b[0m\u001b[0mu\u001b[0m\u001b[1;33m,\u001b[0m\u001b[0mv\u001b[0m\u001b[1;33m)\u001b[0m \u001b[1;32mif\u001b[0m \u001b[0mi\u001b[0m \u001b[1;33m>\u001b[0m \u001b[1;36m0\u001b[0m  \u001b[1;32mand\u001b[0m \u001b[0mj\u001b[0m \u001b[1;33m>\u001b[0m \u001b[1;36m0\u001b[0m\u001b[1;33m]\u001b[0m\u001b[1;33m\u001b[0m\u001b[1;33m\u001b[0m\u001b[0m\n\u001b[0m\u001b[0;32m     26\u001b[0m \u001b[1;33m\u001b[0m\u001b[0m\n\u001b[0;32m     27\u001b[0m             \u001b[0mu_mean_r\u001b[0m\u001b[1;33m,\u001b[0m \u001b[0mv_mean_r\u001b[0m \u001b[1;33m=\u001b[0m \u001b[0mnp\u001b[0m\u001b[1;33m.\u001b[0m\u001b[0maverage\u001b[0m\u001b[1;33m(\u001b[0m\u001b[0mu\u001b[0m\u001b[1;33m,\u001b[0m \u001b[0mweights\u001b[0m\u001b[1;33m=\u001b[0m\u001b[1;33m(\u001b[0m\u001b[0mu\u001b[0m \u001b[1;33m>\u001b[0m \u001b[1;36m0\u001b[0m\u001b[1;33m)\u001b[0m\u001b[1;33m)\u001b[0m\u001b[1;33m,\u001b[0m \u001b[0mnp\u001b[0m\u001b[1;33m.\u001b[0m\u001b[0maverage\u001b[0m\u001b[1;33m(\u001b[0m\u001b[0mv\u001b[0m\u001b[1;33m,\u001b[0m \u001b[0mweights\u001b[0m\u001b[1;33m=\u001b[0m\u001b[1;33m(\u001b[0m\u001b[0mv\u001b[0m \u001b[1;33m>\u001b[0m \u001b[1;36m0\u001b[0m\u001b[1;33m)\u001b[0m\u001b[1;33m)\u001b[0m \u001b[1;31m# average rating\u001b[0m\u001b[1;33m\u001b[0m\u001b[1;33m\u001b[0m\u001b[0m\n",
      "\u001b[1;32m<ipython-input-129-49938f6b64d9>\u001b[0m in \u001b[0;36m<listcomp>\u001b[1;34m(.0)\u001b[0m\n\u001b[0;32m     23\u001b[0m             \u001b[0mprint\u001b[0m\u001b[1;33m(\u001b[0m\u001b[0moverlap\u001b[0m\u001b[1;33m)\u001b[0m\u001b[1;33m\u001b[0m\u001b[1;33m\u001b[0m\u001b[0m\n\u001b[0;32m     24\u001b[0m             \u001b[1;31m# get overlapping items for user i and v inclusive ratings.\u001b[0m\u001b[1;33m\u001b[0m\u001b[1;33m\u001b[0m\u001b[1;33m\u001b[0m\u001b[0m\n\u001b[1;32m---> 25\u001b[1;33m             \u001b[0mintersection\u001b[0m \u001b[1;33m=\u001b[0m \u001b[1;33m[\u001b[0m\u001b[0mk\u001b[0m \u001b[1;32mfor\u001b[0m \u001b[0mk\u001b[0m\u001b[1;33m,\u001b[0m \u001b[0mi\u001b[0m\u001b[1;33m,\u001b[0m \u001b[0mj\u001b[0m \u001b[1;32min\u001b[0m \u001b[0mzip\u001b[0m\u001b[1;33m(\u001b[0m\u001b[0mnp\u001b[0m\u001b[1;33m.\u001b[0m\u001b[0marange\u001b[0m\u001b[1;33m(\u001b[0m\u001b[0mlen\u001b[0m\u001b[1;33m(\u001b[0m\u001b[0mu\u001b[0m\u001b[1;33m)\u001b[0m\u001b[1;33m)\u001b[0m\u001b[1;33m,\u001b[0m\u001b[0mu\u001b[0m\u001b[1;33m,\u001b[0m\u001b[0mv\u001b[0m\u001b[1;33m)\u001b[0m \u001b[1;32mif\u001b[0m \u001b[0mi\u001b[0m \u001b[1;33m>\u001b[0m \u001b[1;36m0\u001b[0m  \u001b[1;32mand\u001b[0m \u001b[0mj\u001b[0m \u001b[1;33m>\u001b[0m \u001b[1;36m0\u001b[0m\u001b[1;33m]\u001b[0m\u001b[1;33m\u001b[0m\u001b[1;33m\u001b[0m\u001b[0m\n\u001b[0m\u001b[0;32m     26\u001b[0m \u001b[1;33m\u001b[0m\u001b[0m\n\u001b[0;32m     27\u001b[0m             \u001b[0mu_mean_r\u001b[0m\u001b[1;33m,\u001b[0m \u001b[0mv_mean_r\u001b[0m \u001b[1;33m=\u001b[0m \u001b[0mnp\u001b[0m\u001b[1;33m.\u001b[0m\u001b[0maverage\u001b[0m\u001b[1;33m(\u001b[0m\u001b[0mu\u001b[0m\u001b[1;33m,\u001b[0m \u001b[0mweights\u001b[0m\u001b[1;33m=\u001b[0m\u001b[1;33m(\u001b[0m\u001b[0mu\u001b[0m \u001b[1;33m>\u001b[0m \u001b[1;36m0\u001b[0m\u001b[1;33m)\u001b[0m\u001b[1;33m)\u001b[0m\u001b[1;33m,\u001b[0m \u001b[0mnp\u001b[0m\u001b[1;33m.\u001b[0m\u001b[0maverage\u001b[0m\u001b[1;33m(\u001b[0m\u001b[0mv\u001b[0m\u001b[1;33m,\u001b[0m \u001b[0mweights\u001b[0m\u001b[1;33m=\u001b[0m\u001b[1;33m(\u001b[0m\u001b[0mv\u001b[0m \u001b[1;33m>\u001b[0m \u001b[1;36m0\u001b[0m\u001b[1;33m)\u001b[0m\u001b[1;33m)\u001b[0m \u001b[1;31m# average rating\u001b[0m\u001b[1;33m\u001b[0m\u001b[1;33m\u001b[0m\u001b[0m\n",
      "\u001b[1;31mValueError\u001b[0m: The truth value of an array with more than one element is ambiguous. Use a.any() or a.all()"
     ]
    }
   ],
   "source": [
    "%%time\n",
    "sim_pearson(sparse_matrix, recommender='user', time=True)"
   ]
  },
  {
   "cell_type": "code",
   "execution_count": 81,
   "metadata": {},
   "outputs": [
    {
     "ename": "ValueError",
     "evalue": "The truth value of an array with more than one element is ambiguous. Use a.any() or a.all()",
     "output_type": "error",
     "traceback": [
      "\u001b[1;31m---------------------------------------------------------------------------\u001b[0m",
      "\u001b[1;31mValueError\u001b[0m                                Traceback (most recent call last)",
      "\u001b[1;32m<ipython-input-81-f19a3369f66c>\u001b[0m in \u001b[0;36m<module>\u001b[1;34m\u001b[0m\n\u001b[0;32m      1\u001b[0m \u001b[0mu\u001b[0m \u001b[1;33m=\u001b[0m \u001b[0msparse_matrix\u001b[0m\u001b[1;33m[\u001b[0m\u001b[1;36m0\u001b[0m\u001b[1;33m,\u001b[0m\u001b[1;33m:\u001b[0m\u001b[1;33m]\u001b[0m\u001b[1;33m.\u001b[0m\u001b[0mtodense\u001b[0m\u001b[1;33m(\u001b[0m\u001b[1;33m)\u001b[0m\u001b[1;33m\u001b[0m\u001b[1;33m\u001b[0m\u001b[0m\n\u001b[0;32m      2\u001b[0m \u001b[0mv\u001b[0m \u001b[1;33m=\u001b[0m \u001b[0msparse_matrix\u001b[0m\u001b[1;33m[\u001b[0m\u001b[1;36m1\u001b[0m\u001b[1;33m,\u001b[0m\u001b[1;33m:\u001b[0m\u001b[1;33m]\u001b[0m\u001b[1;33m.\u001b[0m\u001b[0mtodense\u001b[0m\u001b[1;33m(\u001b[0m\u001b[1;33m)\u001b[0m\u001b[1;33m\u001b[0m\u001b[1;33m\u001b[0m\u001b[0m\n\u001b[1;32m----> 3\u001b[1;33m \u001b[0mintersection\u001b[0m \u001b[1;33m=\u001b[0m \u001b[1;33m[\u001b[0m\u001b[0mk\u001b[0m \u001b[1;32mfor\u001b[0m \u001b[0mk\u001b[0m\u001b[1;33m,\u001b[0m \u001b[0mi\u001b[0m\u001b[1;33m,\u001b[0m \u001b[0mj\u001b[0m \u001b[1;32min\u001b[0m \u001b[0mzip\u001b[0m\u001b[1;33m(\u001b[0m\u001b[0mnp\u001b[0m\u001b[1;33m.\u001b[0m\u001b[0marange\u001b[0m\u001b[1;33m(\u001b[0m\u001b[0mlen\u001b[0m\u001b[1;33m(\u001b[0m\u001b[0mu\u001b[0m\u001b[1;33m)\u001b[0m\u001b[1;33m)\u001b[0m\u001b[1;33m,\u001b[0m\u001b[0mu\u001b[0m\u001b[1;33m,\u001b[0m\u001b[0mv\u001b[0m\u001b[1;33m)\u001b[0m \u001b[1;32mif\u001b[0m \u001b[0mi\u001b[0m \u001b[1;33m>\u001b[0m \u001b[1;36m0\u001b[0m  \u001b[1;32mand\u001b[0m \u001b[0mj\u001b[0m \u001b[1;33m>\u001b[0m \u001b[1;36m0\u001b[0m\u001b[1;33m]\u001b[0m\u001b[1;33m\u001b[0m\u001b[1;33m\u001b[0m\u001b[0m\n\u001b[0m",
      "\u001b[1;32m<ipython-input-81-f19a3369f66c>\u001b[0m in \u001b[0;36m<listcomp>\u001b[1;34m(.0)\u001b[0m\n\u001b[0;32m      1\u001b[0m \u001b[0mu\u001b[0m \u001b[1;33m=\u001b[0m \u001b[0msparse_matrix\u001b[0m\u001b[1;33m[\u001b[0m\u001b[1;36m0\u001b[0m\u001b[1;33m,\u001b[0m\u001b[1;33m:\u001b[0m\u001b[1;33m]\u001b[0m\u001b[1;33m.\u001b[0m\u001b[0mtodense\u001b[0m\u001b[1;33m(\u001b[0m\u001b[1;33m)\u001b[0m\u001b[1;33m\u001b[0m\u001b[1;33m\u001b[0m\u001b[0m\n\u001b[0;32m      2\u001b[0m \u001b[0mv\u001b[0m \u001b[1;33m=\u001b[0m \u001b[0msparse_matrix\u001b[0m\u001b[1;33m[\u001b[0m\u001b[1;36m1\u001b[0m\u001b[1;33m,\u001b[0m\u001b[1;33m:\u001b[0m\u001b[1;33m]\u001b[0m\u001b[1;33m.\u001b[0m\u001b[0mtodense\u001b[0m\u001b[1;33m(\u001b[0m\u001b[1;33m)\u001b[0m\u001b[1;33m\u001b[0m\u001b[1;33m\u001b[0m\u001b[0m\n\u001b[1;32m----> 3\u001b[1;33m \u001b[0mintersection\u001b[0m \u001b[1;33m=\u001b[0m \u001b[1;33m[\u001b[0m\u001b[0mk\u001b[0m \u001b[1;32mfor\u001b[0m \u001b[0mk\u001b[0m\u001b[1;33m,\u001b[0m \u001b[0mi\u001b[0m\u001b[1;33m,\u001b[0m \u001b[0mj\u001b[0m \u001b[1;32min\u001b[0m \u001b[0mzip\u001b[0m\u001b[1;33m(\u001b[0m\u001b[0mnp\u001b[0m\u001b[1;33m.\u001b[0m\u001b[0marange\u001b[0m\u001b[1;33m(\u001b[0m\u001b[0mlen\u001b[0m\u001b[1;33m(\u001b[0m\u001b[0mu\u001b[0m\u001b[1;33m)\u001b[0m\u001b[1;33m)\u001b[0m\u001b[1;33m,\u001b[0m\u001b[0mu\u001b[0m\u001b[1;33m,\u001b[0m\u001b[0mv\u001b[0m\u001b[1;33m)\u001b[0m \u001b[1;32mif\u001b[0m \u001b[0mi\u001b[0m \u001b[1;33m>\u001b[0m \u001b[1;36m0\u001b[0m  \u001b[1;32mand\u001b[0m \u001b[0mj\u001b[0m \u001b[1;33m>\u001b[0m \u001b[1;36m0\u001b[0m\u001b[1;33m]\u001b[0m\u001b[1;33m\u001b[0m\u001b[1;33m\u001b[0m\u001b[0m\n\u001b[0m",
      "\u001b[1;31mValueError\u001b[0m: The truth value of an array with more than one element is ambiguous. Use a.any() or a.all()"
     ]
    }
   ],
   "source": [
    "u = sparse_matrix[0,:].todense()\n",
    "v = sparse_matrix[1,:].todense()\n",
    "intersection = [k for k, i, j in zip(np.arange(len(u)),u,v) if i > 0  and j > 0]\n"
   ]
  },
  {
   "cell_type": "markdown",
   "metadata": {},
   "source": [
    "## Similarity Matrix\n",
    "----\n",
    "The function `similarity()` creates a similarity matrix using a similarity function (for example cosine similarity (`sim_cosine`). "
   ]
  },
  {
   "cell_type": "code",
   "execution_count": null,
   "metadata": {},
   "outputs": [],
   "source": [
    "def similarity(df, sim='cosine', recommender='item'):\n",
    "\n",
    "    # precalculate normalized vectors if sim = cosine\n",
    "    if sim == 'cosine':\n",
    "        similarity_matrix = sim_cosine(df, recommender)\n",
    "    elif sim == 'pearson':\n",
    "        similarity_matrix = sim_pearson(df, recommender)\n",
    "    \n",
    "    return similarity_matrix"
   ]
  },
  {
   "cell_type": "code",
   "execution_count": null,
   "metadata": {},
   "outputs": [],
   "source": [
    "%%time\n",
    "similarity_items = similarity(sparse_matrix, recommender = 'item')\n"
   ]
  },
  {
   "cell_type": "markdown",
   "metadata": {},
   "source": [
    "## Recommend\n",
    "----"
   ]
  },
  {
   "cell_type": "code",
   "execution_count": null,
   "metadata": {},
   "outputs": [],
   "source": [
    "def product_names(df):\n",
    "    \"\"\"\n",
    "    returns a list of products contained in the df. The index is the corresponding index number in the similarity matrix.\n",
    "    \"\"\"\n",
    "    product = pd.DataFrame(sorted(df.product_name.unique()))\n",
    "\n",
    "    return product\n",
    "\n",
    "product_names(df)"
   ]
  },
  {
   "cell_type": "code",
   "execution_count": null,
   "metadata": {},
   "outputs": [],
   "source": [
    "def recommend(matrix_name, item_id, nr_of_items):\n",
    "  \n",
    "    matrix = pickle.load(open(matrix_name, 'rb'))\n",
    "    #Sets diagonal to zero (if we dont want to recomend the item the user has just bought)\n",
    "    np.fill_diagonal(matrix, -2)\n",
    "    \n",
    "    #gets two list of item index and item similarity rating\n",
    "    nr_of_rows = matrix.shape[0]\n",
    "    index = np.zeros((nr_of_rows, nr_of_items))\n",
    "    ratings = np.zeros((nr_of_rows, nr_of_items))\n",
    "    for row in range(nr_of_rows):\n",
    "        index[row,:] = matrix[row].argsort()[-nr_of_items:][::-1].tolist()\n",
    "        ratings[row,:] = matrix[row, index[row,:].astype(int)]\n",
    "        \n",
    "    # print results\n",
    "    print(\"Recommendation for {}:\".format(item_id))\n",
    "    for i in range(index.shape[1]):\n",
    "        print(\"{}: {} with a similarity rating of {} \".format((i+1), int(index[item_id, i]), round(ratings[item_id, i], 3)))\n",
    "\n",
    "    return "
   ]
  },
  {
   "cell_type": "code",
   "execution_count": null,
   "metadata": {},
   "outputs": [],
   "source": [
    "# pd.read_csv('data.csv')  \n",
    "item_similarity = recommend(matrix_name = 'rating_count_item_similarity.pkl', item_id = 2, nr_of_items = 15)"
   ]
  },
  {
   "cell_type": "markdown",
   "metadata": {},
   "source": [
    "## User Product Rating\n",
    "----"
   ]
  },
  {
   "cell_type": "markdown",
   "metadata": {},
   "source": [
    "#### Version 1"
   ]
  },
  {
   "cell_type": "markdown",
   "metadata": {},
   "source": [
    "In order to get a user-item rating for the interaction matrix, we had to develop a rating function.\n",
    "\n",
    "The following thoughts were made:\n",
    "- We want to give sufficient weight to the first product purchase\n",
    "    - We decided that the first purchase has a weight $\\displaystyle \\omega = \\frac{1}{3}$\n",
    "- We want to even more weight a reorder of a product (this assumes that the user liked the product)\n",
    "    - To create the gap, we defined the minimum gap of $\\displaystyle 2 \\cdot \\omega$\n",
    "- In addition, we do not want to weight multiple reorders too much that users with e.g. 6 or 10 reorders differs not too much\n",
    "    - To achieve this, we can take the square-root of the number of reorders since $\\sqrt{x}\\,\\, |\\,\\, x \\geq 0\\,\\,$ is concave\n",
    "- The rating should be a number between 0 and 1\n",
    "\n",
    "Therefore the following formula has been developed:\n",
    "\n",
    "$\\displaystyle{ rating(o, o_{tot}) =\n",
    "  \\begin{cases}\n",
    "    0            & \\quad \\text{if } o \\text{ is } 0\\\\\n",
    "    \\omega       & \\quad \\text{if } o \\text{ is }1 \\land o_{tot} > 1\\\\\n",
    "    2 \\cdot \\omega + (1 - 2 \\cdot \\omega) \\cdot \\sqrt{\\frac{o}{o_{tot}}}  & \\quad \\text{if } o \\text{ is } \\geq 1 \\lor \\left( o \\text{ is }1 \\land o_{tot} \\text{ is } 1 \\right)\n",
    "  \\end{cases}}$\n",
    "    \n",
    "- where $o$ is the number of orders of the specified product $p$ of the user and $o_{tot}$ is the number of orders of the user.\n",
    "- $\\omega$ must be well defined $0 < \\omega < 0.5$, optimally somewhere in the middle\n",
    "\n",
    "This approach does strongly weight the first reorder and neither takes the number of orders of a user nor the aisles into account."
   ]
  },
  {
   "cell_type": "code",
   "execution_count": null,
   "metadata": {},
   "outputs": [],
   "source": [
    "omega = 0.35\n",
    "gamma = 10 # number of orders of the user\n",
    "for o in range(gamma + 1):\n",
    "    if o == 0:\n",
    "        x = 0\n",
    "    elif o == 1 and gamma > 1:\n",
    "        x = omega\n",
    "    else:\n",
    "        x = 2*omega + (1-2*omega) * np.sqrt(o/gamma)\n",
    "    print(x)"
   ]
  },
  {
   "cell_type": "markdown",
   "metadata": {},
   "source": [
    "#### Version 2"
   ]
  },
  {
   "cell_type": "markdown",
   "metadata": {},
   "source": [
    "In order to get a user-item rating for the interaction matrix, we had to develop a rating function.\n",
    "\n",
    "The following thoughts were made:\n",
    "- We want to give sufficient weight to the first product purchase\n",
    "    - We decided that the first purchase has a weight $\\displaystyle \\omega = \\frac{1}{3}$\n",
    "    \n",
    "- Our main weight should be the frequency of a product being in an order.\n",
    "    - To achieve this, we can take the square-root of the number of orders containing a product  $o$ divided by the total number of orders by the customer $o_{tot}$: $\\sqrt{\\frac{o}{o_{tot}}}$\n",
    "    \n",
    "- Because there are a lot of customers with a low number of orders and related to that a specific uncertainty, we want to weaken the ratings for these customers.\n",
    "    - To achieve this, we can take the square-root of the total amount of orders for each customer $o_{tot}$ divided by a specific treshold value $m$: $\\sqrt{\\frac{o_{tot}}{m}}\\,\\, |\\,\\, o_{tot} < m\\,\\,$\n",
    "\n",
    "- The rating should be a number between 0 and 1\n",
    "\n",
    "Therefore the following formula has been developed:\n",
    "\n",
    "$\\displaystyle{ rating(o, o_{tot}) =\n",
    "  \\begin{cases}\n",
    "    0            & \\quad \\text{if } o \\text{ is } 0\\\\\n",
    "    \\omega       & \\quad \\text{if } o \\text{ is }1 \\\\\n",
    "    \\omega + (1 - \\omega) \\cdot \\sqrt{\\frac{o}{o_{tot}}}  & \\quad \\text{if } o \\text{ is } > 1 \\land \\left(  o_{tot} \\geq m \\right)\\\\\n",
    "    \\omega + (1 - \\omega) \\cdot \\sqrt{\\frac{o}{o_{tot}}} \\cdot \\sqrt{\\frac{o_{tot}}{m}}  & \\quad \\text{if } o \\text{ is } > 1 \\land \\left(  o_{tot} < m \\right)\\\\\n",
    "  \\end{cases}}$\n",
    "    \n",
    "- where $o$ is the number of orders of the specified product and $o_{tot}$ is the total amount of orders from the corresponding customer $p$.\n",
    "\n",
    "This approach takes the ratio of each product beeing ordered by a customer and weakens the rating, if to little orders are aviable."
   ]
  },
  {
   "cell_type": "code",
   "execution_count": null,
   "metadata": {},
   "outputs": [],
   "source": [
    "theta = 1/3\n",
    "o_tot = 10 # products in o\n",
    "# o total o of customer\n",
    "m = 10 # lowers ratings ir less than m orders\n",
    "\n",
    "for o_tot in range(m+20):\n",
    "    print(\"o_tot =\", o_tot)\n",
    "    for o in range(o_tot + 1):\n",
    "        if o == 0:\n",
    "            x = 0\n",
    "        elif o == 1:\n",
    "            x = theta\n",
    "        else:\n",
    "            if o_tot < m:\n",
    "                w_freq = np.sqrt(o_tot / m)\n",
    "            else:\n",
    "                w_freq = 1\n",
    "\n",
    "            w_prod = np.sqrt(o / o_tot)\n",
    "            \n",
    "            x = theta + (1-theta) * w_prod * w_freq\n",
    "\n",
    "        print(\"x =\", x)"
   ]
  }
 ],
 "metadata": {
  "kernelspec": {
   "display_name": "Python 3",
   "language": "python",
   "name": "python3"
  },
  "language_info": {
   "codemirror_mode": {
    "name": "ipython",
    "version": 3
   },
   "file_extension": ".py",
   "mimetype": "text/x-python",
   "name": "python",
   "nbconvert_exporter": "python",
   "pygments_lexer": "ipython3",
   "version": "3.7.3"
  }
 },
 "nbformat": 4,
 "nbformat_minor": 4
}
