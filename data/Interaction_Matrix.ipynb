{
 "cells": [
  {
   "cell_type": "code",
   "execution_count": 1,
   "metadata": {},
   "outputs": [],
   "source": [
    "import pandas as pd\n",
    "import numpy as np\n",
    "import pickle\n",
    "from scipy.sparse import csr_matrix, csc_matrix\n",
    "from pandas.api.types import CategoricalDtype"
   ]
  },
  {
   "cell_type": "markdown",
   "metadata": {},
   "source": [
    "### Ineraction Matrix\n",
    "----"
   ]
  },
  {
   "cell_type": "code",
   "execution_count": 2,
   "metadata": {},
   "outputs": [],
   "source": [
    "data = np.array([[1,1,2,3,1,2,3,3,3,3],['A','A','B','B','C','C','C','C','C','D']]).T"
   ]
  },
  {
   "cell_type": "code",
   "execution_count": 3,
   "metadata": {},
   "outputs": [
    {
     "data": {
      "text/html": [
       "<div>\n",
       "<style scoped>\n",
       "    .dataframe tbody tr th:only-of-type {\n",
       "        vertical-align: middle;\n",
       "    }\n",
       "\n",
       "    .dataframe tbody tr th {\n",
       "        vertical-align: top;\n",
       "    }\n",
       "\n",
       "    .dataframe thead th {\n",
       "        text-align: right;\n",
       "    }\n",
       "</style>\n",
       "<table border=\"1\" class=\"dataframe\">\n",
       "  <thead>\n",
       "    <tr style=\"text-align: right;\">\n",
       "      <th></th>\n",
       "      <th>user_id</th>\n",
       "      <th>product_name</th>\n",
       "    </tr>\n",
       "  </thead>\n",
       "  <tbody>\n",
       "    <tr>\n",
       "      <th>0</th>\n",
       "      <td>1</td>\n",
       "      <td>A</td>\n",
       "    </tr>\n",
       "    <tr>\n",
       "      <th>1</th>\n",
       "      <td>1</td>\n",
       "      <td>A</td>\n",
       "    </tr>\n",
       "    <tr>\n",
       "      <th>2</th>\n",
       "      <td>2</td>\n",
       "      <td>B</td>\n",
       "    </tr>\n",
       "    <tr>\n",
       "      <th>3</th>\n",
       "      <td>3</td>\n",
       "      <td>B</td>\n",
       "    </tr>\n",
       "    <tr>\n",
       "      <th>4</th>\n",
       "      <td>1</td>\n",
       "      <td>C</td>\n",
       "    </tr>\n",
       "    <tr>\n",
       "      <th>5</th>\n",
       "      <td>2</td>\n",
       "      <td>C</td>\n",
       "    </tr>\n",
       "    <tr>\n",
       "      <th>6</th>\n",
       "      <td>3</td>\n",
       "      <td>C</td>\n",
       "    </tr>\n",
       "    <tr>\n",
       "      <th>7</th>\n",
       "      <td>3</td>\n",
       "      <td>C</td>\n",
       "    </tr>\n",
       "    <tr>\n",
       "      <th>8</th>\n",
       "      <td>3</td>\n",
       "      <td>C</td>\n",
       "    </tr>\n",
       "    <tr>\n",
       "      <th>9</th>\n",
       "      <td>3</td>\n",
       "      <td>D</td>\n",
       "    </tr>\n",
       "  </tbody>\n",
       "</table>\n",
       "</div>"
      ],
      "text/plain": [
       "  user_id product_name\n",
       "0       1            A\n",
       "1       1            A\n",
       "2       2            B\n",
       "3       3            B\n",
       "4       1            C\n",
       "5       2            C\n",
       "6       3            C\n",
       "7       3            C\n",
       "8       3            C\n",
       "9       3            D"
      ]
     },
     "execution_count": 3,
     "metadata": {},
     "output_type": "execute_result"
    }
   ],
   "source": [
    "df = pd.DataFrame(data, columns = ['user_id','product_name'])\n",
    "df"
   ]
  },
  {
   "cell_type": "code",
   "execution_count": 4,
   "metadata": {},
   "outputs": [
    {
     "data": {
      "text/html": [
       "<div>\n",
       "<style scoped>\n",
       "    .dataframe tbody tr th:only-of-type {\n",
       "        vertical-align: middle;\n",
       "    }\n",
       "\n",
       "    .dataframe tbody tr th {\n",
       "        vertical-align: top;\n",
       "    }\n",
       "\n",
       "    .dataframe thead th {\n",
       "        text-align: right;\n",
       "    }\n",
       "</style>\n",
       "<table border=\"1\" class=\"dataframe\">\n",
       "  <thead>\n",
       "    <tr style=\"text-align: right;\">\n",
       "      <th>product_name</th>\n",
       "      <th>A</th>\n",
       "      <th>B</th>\n",
       "      <th>C</th>\n",
       "      <th>D</th>\n",
       "    </tr>\n",
       "    <tr>\n",
       "      <th>user_id</th>\n",
       "      <th></th>\n",
       "      <th></th>\n",
       "      <th></th>\n",
       "      <th></th>\n",
       "    </tr>\n",
       "  </thead>\n",
       "  <tbody>\n",
       "    <tr>\n",
       "      <th>1</th>\n",
       "      <td>2</td>\n",
       "      <td>0</td>\n",
       "      <td>1</td>\n",
       "      <td>0</td>\n",
       "    </tr>\n",
       "    <tr>\n",
       "      <th>2</th>\n",
       "      <td>0</td>\n",
       "      <td>1</td>\n",
       "      <td>1</td>\n",
       "      <td>0</td>\n",
       "    </tr>\n",
       "    <tr>\n",
       "      <th>3</th>\n",
       "      <td>0</td>\n",
       "      <td>1</td>\n",
       "      <td>3</td>\n",
       "      <td>1</td>\n",
       "    </tr>\n",
       "  </tbody>\n",
       "</table>\n",
       "</div>"
      ],
      "text/plain": [
       "product_name  A  B  C  D\n",
       "user_id                 \n",
       "1             2  0  1  0\n",
       "2             0  1  1  0\n",
       "3             0  1  3  1"
      ]
     },
     "execution_count": 4,
     "metadata": {},
     "output_type": "execute_result"
    }
   ],
   "source": [
    "# create interaction matrix\n",
    "interaction_matrix_count = df.pivot_table(index='user_id', columns='product_name', aggfunc=len, fill_value=0)\n",
    "interaction_matrix_count.head()"
   ]
  },
  {
   "cell_type": "code",
   "execution_count": 5,
   "metadata": {},
   "outputs": [],
   "source": [
    "#interaction_matrix_count = df.pivot_table(index='user_id', columns='product_name', values=[1])"
   ]
  },
  {
   "cell_type": "code",
   "execution_count": 6,
   "metadata": {},
   "outputs": [
    {
     "data": {
      "text/html": [
       "<div>\n",
       "<style scoped>\n",
       "    .dataframe tbody tr th:only-of-type {\n",
       "        vertical-align: middle;\n",
       "    }\n",
       "\n",
       "    .dataframe tbody tr th {\n",
       "        vertical-align: top;\n",
       "    }\n",
       "\n",
       "    .dataframe thead th {\n",
       "        text-align: right;\n",
       "    }\n",
       "</style>\n",
       "<table border=\"1\" class=\"dataframe\">\n",
       "  <thead>\n",
       "    <tr style=\"text-align: right;\">\n",
       "      <th>product_name</th>\n",
       "      <th>A</th>\n",
       "      <th>B</th>\n",
       "      <th>C</th>\n",
       "      <th>D</th>\n",
       "    </tr>\n",
       "    <tr>\n",
       "      <th>user_id</th>\n",
       "      <th></th>\n",
       "      <th></th>\n",
       "      <th></th>\n",
       "      <th></th>\n",
       "    </tr>\n",
       "  </thead>\n",
       "  <tbody>\n",
       "    <tr>\n",
       "      <th>1</th>\n",
       "      <td>1</td>\n",
       "      <td>0</td>\n",
       "      <td>1</td>\n",
       "      <td>0</td>\n",
       "    </tr>\n",
       "    <tr>\n",
       "      <th>2</th>\n",
       "      <td>0</td>\n",
       "      <td>1</td>\n",
       "      <td>1</td>\n",
       "      <td>0</td>\n",
       "    </tr>\n",
       "    <tr>\n",
       "      <th>3</th>\n",
       "      <td>0</td>\n",
       "      <td>1</td>\n",
       "      <td>1</td>\n",
       "      <td>1</td>\n",
       "    </tr>\n",
       "  </tbody>\n",
       "</table>\n",
       "</div>"
      ],
      "text/plain": [
       "product_name  A  B  C  D\n",
       "user_id                 \n",
       "1             1  0  1  0\n",
       "2             0  1  1  0\n",
       "3             0  1  1  1"
      ]
     },
     "execution_count": 6,
     "metadata": {},
     "output_type": "execute_result"
    }
   ],
   "source": [
    "interaction_matrix_count.applymap(lambda x: int(x>0))"
   ]
  },
  {
   "cell_type": "markdown",
   "metadata": {},
   "source": [
    "## Interaction Matrix as sparse Matrix\n",
    "----"
   ]
  },
  {
   "cell_type": "code",
   "execution_count": 7,
   "metadata": {},
   "outputs": [],
   "source": [
    "# df = pd.read_csv('Recommender4Retail.csv')"
   ]
  },
  {
   "cell_type": "code",
   "execution_count": 8,
   "metadata": {},
   "outputs": [],
   "source": [
    "def interaction(df, recommender='item'):\n",
    "    user_c = CategoricalDtype(sorted(df.user_id.unique()), ordered=True)\n",
    "    product_name_c = CategoricalDtype(sorted(df.product_name.unique()), ordered=True)\n",
    "\n",
    "    row = df.user_id.astype(user_c).cat.codes\n",
    "    col = df.product_name.astype(product_name_c).cat.codes\n",
    "    val = [1]*len(col)\n",
    "    if recommender == 'item':     \n",
    "        sparse_matrix = csc_matrix((val,(row, col)), shape=(user_c.categories.size, product_name_c.categories.size))\n",
    "    elif recommender == 'user':     \n",
    "        sparse_matrix = csr_matrix((val,(row, col)), shape=(user_c.categories.size, product_name_c.categories.size))\n",
    "    return sparse_matrix"
   ]
  },
  {
   "cell_type": "code",
   "execution_count": 9,
   "metadata": {},
   "outputs": [
    {
     "data": {
      "text/plain": [
       "scipy.sparse.csc.csc_matrix"
      ]
     },
     "execution_count": 9,
     "metadata": {},
     "output_type": "execute_result"
    }
   ],
   "source": [
    "sparse_matrix = interaction(df)\n",
    "type(sparse_matrix)"
   ]
  },
  {
   "cell_type": "code",
   "execution_count": 10,
   "metadata": {},
   "outputs": [
    {
     "data": {
      "text/plain": [
       "matrix([[1, 0, 1, 0],\n",
       "        [0, 1, 1, 0],\n",
       "        [0, 1, 1, 1]], dtype=int32)"
      ]
     },
     "execution_count": 10,
     "metadata": {},
     "output_type": "execute_result"
    }
   ],
   "source": [
    "# binary sparse matrix:\n",
    "sparse_binary = sparse_matrix\n",
    "sparse_binary[sparse_binary.nonzero()] = 1\n",
    "sparse_binary.todense()"
   ]
  },
  {
   "cell_type": "code",
   "execution_count": 11,
   "metadata": {},
   "outputs": [
    {
     "data": {
      "text/plain": [
       "matrix([[1, 0, 1, 0],\n",
       "        [0, 1, 1, 0],\n",
       "        [0, 1, 1, 1]], dtype=int32)"
      ]
     },
     "execution_count": 11,
     "metadata": {},
     "output_type": "execute_result"
    }
   ],
   "source": [
    "# turn to dense matrix if necessary\n",
    "sparse_matrix.todense()"
   ]
  },
  {
   "cell_type": "code",
   "execution_count": 12,
   "metadata": {},
   "outputs": [],
   "source": [
    "# turn dense matrix to dataframe\n",
    "# dfs = pd.DataFrame.sparse.from_spmatrix(sparse_matrix, index=user_c.categories, columns=product_name_c.categories)"
   ]
  },
  {
   "cell_type": "code",
   "execution_count": 13,
   "metadata": {},
   "outputs": [],
   "source": [
    "# extract of a product and its values for diffrent customers in interaction matrix. \n",
    "# dfs.iloc[:, 401].value_counts()"
   ]
  },
  {
   "cell_type": "markdown",
   "metadata": {},
   "source": [
    "## Similarity Measures\n",
    "----"
   ]
  },
  {
   "cell_type": "markdown",
   "metadata": {},
   "source": [
    "### Cosine Similarity\n",
    "Cosine similarity measures the similarity between two vectors. To achieve this it calculates the angle between the two vectors. With an intermediate angle of $0°$ (the two vectors point in the same direction) the similarity is $1$, ($cos(0) = 1$). For any other angle the value is less than one. In our example we consider products (columns of the interaction matrix) or users (rows of the interaction matrix) as vectors. In our formula are $i$ and $j$ items which each have a vector consisting of all their ratings $r$. Note: This function can be used for UBCF and IBCF.\n",
    "\n",
    "$$\n",
    "s(i,j) = \\frac{r_{i}\\cdot r_{j}}{\\|r_{i}\\|_{2}\\cdot\\|r_{j}\\|_{2}}\n",
    "$$"
   ]
  },
  {
   "cell_type": "code",
   "execution_count": 14,
   "metadata": {},
   "outputs": [],
   "source": [
    "def sim_cosine(v1, v2, norm=False):\n",
    "    \"\"\"\n",
    "    Calculates the cosine similarity between two given vectors\n",
    "    :param v1, v2: v1 and v2 are vectors in a numpy array format\n",
    "    :param norm: if norm is set to true the vectors will be normalized to unit vectors before the calculation\n",
    "    :return s: similarity value between -1 and 1 (1 high correlation, 0 no correlation, -1 high negative correlation)\n",
    "    \"\"\"\n",
    "    if isinstance(v1, np.ndarray) is False or isinstance(v2, np.ndarray) is False:\n",
    "        raise TypeError(f'Function only accepts v1 and v2 as type numpy.ndarray')\n",
    "    \n",
    "    # normalize vectors\n",
    "    if norm:\n",
    "        v1 = v1/np.linalg.norm(v1)\n",
    "        v2 = v2/np.linalg.norm(v2)\n",
    "        \n",
    "    # cosine similarity:\n",
    "    s = np.dot(v1,v2)/(np.linalg.norm(v1)*np.linalg.norm(v2))\n",
    "    \n",
    "    # print(f'Cosine Similarity: {round(s,2)}')\n",
    "    return s"
   ]
  },
  {
   "cell_type": "code",
   "execution_count": 15,
   "metadata": {},
   "outputs": [
    {
     "data": {
      "text/plain": [
       "0.8077806958015601"
      ]
     },
     "execution_count": 15,
     "metadata": {},
     "output_type": "execute_result"
    }
   ],
   "source": [
    "r_i = np.array([1,2,3])\n",
    "r_j = np.array([5,0,7])\n",
    "\n",
    "sim_cosine(r_i,r_j, norm=False)"
   ]
  },
  {
   "cell_type": "code",
   "execution_count": 16,
   "metadata": {},
   "outputs": [],
   "source": [
    "a = np.asarray(sparse_matrix[:,0].todense()).T[0]\n",
    "b = np.asarray(sparse_matrix[:,1].todense()).T[0]"
   ]
  },
  {
   "cell_type": "code",
   "execution_count": 17,
   "metadata": {},
   "outputs": [
    {
     "data": {
      "text/plain": [
       "0.0"
      ]
     },
     "execution_count": 17,
     "metadata": {},
     "output_type": "execute_result"
    }
   ],
   "source": [
    "# get similarity for all two products:\n",
    "sim_cosine(a,b) # result 0 means the two vectors are orthogonal"
   ]
  },
  {
   "cell_type": "markdown",
   "metadata": {},
   "source": [
    "### Pearson Correlation\n",
    "----\n",
    "Person Correlation measures the statistical correlation between the ratings of two user's (or items). The formula takes as input two users $u$ and $v$ and calculates a similarity $s$ using the ratings $r$ for every product the two users have in common. It is possible to use pearson correlation to measure the similarity between items as well. But it is said that it yields **worse results** as a cosine similarity for example. The pearson correlation also suffers from problems if there are just a few ratings to compare. A threshold of a number of ratings per user could counteract this problem.\n",
    "\n",
    "$$\n",
    "s(u,v) = \\frac{\\sum_{i\\in I_{u}\\cap I_{v}}(r_{u,i}-\\bar r_{u})(r_{v,i}-\\bar r_{v})}{\\sqrt{\\sum_{i\\in I_{u}\\cap I_{v}}(r_{u,i}-\\bar r_{u})^2} \\sqrt{\\sum_{i\\in I_{u}\\cap I_{v}}(r_{v,i}-\\bar r_{v})^2}}\n",
    "$$"
   ]
  },
  {
   "cell_type": "code",
   "execution_count": 18,
   "metadata": {},
   "outputs": [
    {
     "data": {
      "text/plain": [
       "matrix([[2, 0, 1, 0],\n",
       "        [0, 1, 1, 0],\n",
       "        [0, 1, 3, 1]], dtype=int32)"
      ]
     },
     "execution_count": 18,
     "metadata": {},
     "output_type": "execute_result"
    }
   ],
   "source": [
    "sparse_matrix = interaction(df, recommender='user') # 'user' returns a csc-matrix (c=column)\n",
    "sparse_matrix.todense()"
   ]
  },
  {
   "cell_type": "code",
   "execution_count": 19,
   "metadata": {},
   "outputs": [],
   "source": [
    "def sim_pearson(u, v, threshold=False):\n",
    "    \"\"\"\n",
    "    Calculates the pearson similarity between two given users\n",
    "    :param u and v: u and v are the id of two users\n",
    "    :param threshold: activate involvement of a threshold \"multiplication\" of the function\n",
    "    :return s: similarity value between -1 and 1 (1 high correlation, 0 no correlation, -1 high negative correlation) or NaN if calculation is not possible\n",
    "    \"\"\"\n",
    "    # get overlapping items for user u and v inclusive ratings.\n",
    "    intersection = [k for k, i, j in zip(np.arange(len(u)),u,v) if i > 0  and j > 0]\n",
    "    \n",
    "    u_mean_r, v_mean_r = np.average(u, weights=(u > 0)), np.average(v, weights=(v > 0)) # average rating\n",
    "    \n",
    "    numerator = sum(a*b for a,b in zip([u[i] - u_mean_r for i in intersection],[v[i] - v_mean_r for i in intersection]))\n",
    "    denominator1 = np.sqrt(sum([(u[i] - u_mean_r)**2 for i in intersection]))\n",
    "    denominator2 = np.sqrt(sum([(v[i] - v_mean_r)**2 for i in intersection]))\n",
    "\n",
    "    s = numerator / (denominator1 * denominator2)\n",
    "    if threshold:\n",
    "        s = s * min(len(interesection)/50,1)\n",
    "\n",
    "    return s"
   ]
  },
  {
   "cell_type": "code",
   "execution_count": 55,
   "metadata": {},
   "outputs": [],
   "source": [
    "a = np.asarray(sparse_matrix[0,:].todense())[0] # user 1\n",
    "b = np.asarray(sparse_matrix[2,:].todense())[0] # user 2"
   ]
  },
  {
   "cell_type": "code",
   "execution_count": 21,
   "metadata": {},
   "outputs": [
    {
     "name": "stdout",
     "output_type": "stream",
     "text": [
      "Wall time: 998 µs\n"
     ]
    },
    {
     "data": {
      "text/plain": [
       "-1.0"
      ]
     },
     "execution_count": 21,
     "metadata": {},
     "output_type": "execute_result"
    }
   ],
   "source": [
    "%%time\n",
    "sim_pearson(a,b)"
   ]
  },
  {
   "cell_type": "markdown",
   "metadata": {},
   "source": [
    "## Similarity Matrix\n",
    "----\n",
    "The function `similarity()` creates a similarity matrix using a similarity function (for example cosine similarity (`sim_cosine`). "
   ]
  },
  {
   "cell_type": "code",
   "execution_count": 56,
   "metadata": {},
   "outputs": [],
   "source": [
    "s = pickle.load(open('rating_count_item_interaction.pkl', 'rb'))"
   ]
  },
  {
   "cell_type": "code",
   "execution_count": 23,
   "metadata": {},
   "outputs": [],
   "source": [
    "def similarity(df, sim='cosine', recommender = 'item'):\n",
    "    \n",
    "    # check if matrix already exists here\n",
    "    # load correct df here\n",
    "    \n",
    "    # create empty similarity_matrix(nxn)\n",
    "    if recommender == 'item':\n",
    "        length = df.shape[1]\n",
    "        similarity_matrix = np.zeros((length, length))\n",
    "        count = 0\n",
    "        # get value pairs:\n",
    "\n",
    "        for i in range(length):\n",
    "            a = np.asarray(df[:,i].todense()).T[0]\n",
    "            for j in range(length):\n",
    "                if i == j:\n",
    "                    similarity_matrix[i,i] = 1 # fill diagonal of matrix with similarity \"1\"\n",
    "                elif i > j:\n",
    "                    b = np.asarray(df[:,j].todense()).T[0]\n",
    "                    similarity_matrix[i,j] = sim_cosine(a,b) # fill upper triangular matrix\n",
    "                    similarity_matrix[j,i] = similarity_matrix[i,j] # fill lower triangular matrix\n",
    "                else:\n",
    "                    pass\n",
    "                \n",
    "    elif recommender == 'user':\n",
    "        length = df.shape[0]\n",
    "        similarity_matrix = np.zeros((length, length))\n",
    "    \n",
    "        # get value pairs:\n",
    "        for i in range(length):\n",
    "            a = np.asarray(df[i,:].todense())[0]\n",
    "            for j in range(length):\n",
    "                if i == j:\n",
    "                    simularity_matrix[i,i] = 1 # fill diagonal of matrix with similarity \"1\"\n",
    "                elif i > j:\n",
    "                    b = np.asarray(df[j,:].todense())[0]\n",
    "                    similarity_matrix[i,j] = sim_cosine(a,b) # fill upper triangular matrix\n",
    "                    similarity_matrix[j,i] = similarity_matrix[i,j] # fill lower triangular matrix\n",
    "                else: \n",
    "                    pass\n",
    "    \n",
    "    # save as pickle file \n",
    "    \n",
    "    return similarity_matrix"
   ]
  },
  {
   "cell_type": "code",
   "execution_count": null,
   "metadata": {},
   "outputs": [],
   "source": [
    "%%time\n",
    "similarity_items = similarity(s, recommender = 'item')\n",
    "similarity_items"
   ]
  },
  {
   "cell_type": "markdown",
   "metadata": {},
   "source": [
    "## Recommend\n",
    "----"
   ]
  },
  {
   "cell_type": "code",
   "execution_count": 96,
   "metadata": {},
   "outputs": [],
   "source": [
    "def recommend(matrix_name, item_id, nr_of_items):\n",
    "  \n",
    "    matrix = pickle.load(open(matrix_name, 'rb'))\n",
    "    #Sets diagonal to zero (if we dont want to recomend the item the user has just bought)\n",
    "    np.fill_diagonal(matrix, -2)\n",
    "    \n",
    "    #gets two list of item index and item similarity rating\n",
    "    nr_of_rows = matrix.shape[0]\n",
    "    index = np.zeros((nr_of_rows, nr_of_items))\n",
    "    ratings = np.zeros((nr_of_rows, nr_of_items))\n",
    "    for row in range(nr_of_rows):\n",
    "        index[row,:] = matrix[row].argsort()[-nr_of_items:][::-1].tolist()\n",
    "        ratings[row,:] = matrix[row, index[row,:].astype(int)]\n",
    "        \n",
    "    # print results\n",
    "    print(\"Recommendation for {}:\".format(item_id))\n",
    "    for i in range(index.shape[1]):\n",
    "        print(\"{}: {} with a similarity rating of {} \".format((i+1), int(index[item_id, i]), round(ratings[item_id, i], 3)))\n",
    "\n",
    "    return "
   ]
  },
  {
   "cell_type": "code",
   "execution_count": 103,
   "metadata": {},
   "outputs": [
    {
     "name": "stdout",
     "output_type": "stream",
     "text": [
      "Recommendation for 2:\n",
      "1: 4164 with a similarity rating of 0.565 \n",
      "2: 3982 with a similarity rating of 0.511 \n",
      "3: 4156 with a similarity rating of 0.501 \n",
      "4: 124 with a similarity rating of 0.454 \n",
      "5: 2543 with a similarity rating of 0.413 \n",
      "6: 2278 with a similarity rating of 0.36 \n",
      "7: 5924 with a similarity rating of 0.295 \n",
      "8: 4188 with a similarity rating of 0.269 \n",
      "9: 3208 with a similarity rating of 0.204 \n",
      "10: 5920 with a similarity rating of 0.197 \n",
      "11: 5077 with a similarity rating of 0.192 \n",
      "12: 5289 with a similarity rating of 0.19 \n",
      "13: 5405 with a similarity rating of 0.181 \n",
      "14: 1871 with a similarity rating of 0.179 \n",
      "15: 800 with a similarity rating of 0.172 \n"
     ]
    }
   ],
   "source": [
    "# pd.read_csv('data.csv')  \n",
    "item_similarity = recommend(matrix_name = 'rating_count_item_similarity.pkl', item_id = 2, nr_of_items = 15)"
   ]
  },
  {
   "cell_type": "code",
   "execution_count": 112,
   "metadata": {},
   "outputs": [
    {
     "data": {
      "text/plain": [
       "['1 st',\n",
       " '2 st',\n",
       " '3 st',\n",
       " '4 st',\n",
       " '5 st',\n",
       " '6 st',\n",
       " '7 st',\n",
       " '8 st',\n",
       " '9 st',\n",
       " '10 st',\n",
       " '11 st',\n",
       " '12 st',\n",
       " '13 st',\n",
       " '14 st',\n",
       " '15 st']"
      ]
     },
     "execution_count": 112,
     "metadata": {},
     "output_type": "execute_result"
    }
   ],
   "source": [
    "['{} st'.format(s) for s in np.arange(1, 15+1, 1)]"
   ]
  },
  {
   "cell_type": "markdown",
   "metadata": {},
   "source": [
    "## User Product Rating\n",
    "----"
   ]
  },
  {
   "cell_type": "markdown",
   "metadata": {},
   "source": [
    "#### Version 1"
   ]
  },
  {
   "cell_type": "markdown",
   "metadata": {},
   "source": [
    "In order to get a user-item rating for the interaction matrix, we had to develop a rating function.\n",
    "\n",
    "The following thoughts were made:\n",
    "- We want to give sufficient weight to the first product purchase\n",
    "    - We decided that the first purchase has a weight $\\displaystyle \\omega = \\frac{1}{3}$\n",
    "- We want to even more weight a reorder of a product (this assumes that the user liked the product)\n",
    "    - To create the gap, we defined the minimum gap of $\\displaystyle 2 \\cdot \\omega$\n",
    "- In addition, we do not want to weight multiple reorders too much that users with e.g. 6 or 10 reorders differs not too much\n",
    "    - To achieve this, we can take the square-root of the number of reorders since $\\sqrt{x}\\,\\, |\\,\\, x \\geq 0\\,\\,$ is concave\n",
    "- The rating should be a number between 0 and 1\n",
    "\n",
    "Therefore the following formula has been developed:\n",
    "\n",
    "$\\displaystyle{ rating(o, o_{tot}) =\n",
    "  \\begin{cases}\n",
    "    0            & \\quad \\text{if } o \\text{ is } 0\\\\\n",
    "    \\omega       & \\quad \\text{if } o \\text{ is }1 \\land o_{tot} > 1\\\\\n",
    "    2 \\cdot \\omega + (1 - 2 \\cdot \\omega) \\cdot \\sqrt{\\frac{o}{o_{tot}}}  & \\quad \\text{if } o \\text{ is } \\geq 1 \\lor \\left( o \\text{ is }1 \\land o_{tot} \\text{ is } 1 \\right)\n",
    "  \\end{cases}}$\n",
    "    \n",
    "- where $o$ is the number of orders of the specified product $p$ of the user and $o_{tot}$ is the number of orders of the user.\n",
    "- $\\omega$ must be well defined $0 < \\omega < 0.5$, optimally somewhere in the middle\n",
    "\n",
    "This approach does strongly weight the first reorder and neither takes the number of orders of a user nor the aisles into account."
   ]
  },
  {
   "cell_type": "code",
   "execution_count": null,
   "metadata": {},
   "outputs": [],
   "source": [
    "omega = 0.35\n",
    "gamma = 10 # number of orders of the user\n",
    "for o in range(gamma + 1):\n",
    "    if o == 0:\n",
    "        x = 0\n",
    "    elif o == 1 and gamma > 1:\n",
    "        x = omega\n",
    "    else:\n",
    "        x = 2*omega + (1-2*omega) * np.sqrt(o/gamma)\n",
    "    print(x)"
   ]
  },
  {
   "cell_type": "markdown",
   "metadata": {},
   "source": [
    "#### Version 2"
   ]
  },
  {
   "cell_type": "markdown",
   "metadata": {},
   "source": [
    "In order to get a user-item rating for the interaction matrix, we had to develop a rating function.\n",
    "\n",
    "The following thoughts were made:\n",
    "- We want to give sufficient weight to the first product purchase\n",
    "    - We decided that the first purchase has a weight $\\displaystyle \\omega = \\frac{1}{3}$\n",
    "    \n",
    "- Our main weight should be the frequency of a product being in an order.\n",
    "    - To achieve this, we can take the square-root of the number of orders containing a product  $o$ divided by the total number of orders by the customer $o_{tot}$: $\\sqrt{\\frac{o}{o_{tot}}}$\n",
    "    \n",
    "- Because there are a lot of customers with a low number of orders and related to that a specific uncertainty, we want to weaken the ratings for these customers.\n",
    "    - To achieve this, we can take the square-root of the total amount of orders for each customer $o_{tot}$ divided by a specific treshold value $m$: $\\sqrt{\\frac{o_{tot}}{m}}\\,\\, |\\,\\, o_{tot} < m\\,\\,$\n",
    "\n",
    "- The rating should be a number between 0 and 1\n",
    "\n",
    "Therefore the following formula has been developed:\n",
    "\n",
    "$\\displaystyle{ rating(o, o_{tot}) =\n",
    "  \\begin{cases}\n",
    "    0            & \\quad \\text{if } o \\text{ is } 0\\\\\n",
    "    \\omega       & \\quad \\text{if } o \\text{ is }1 \\\\\n",
    "    \\omega + (1 - \\omega) \\cdot \\sqrt{\\frac{o}{o_{tot}}}  & \\quad \\text{if } o \\text{ is } > 1 \\land \\left(  o_{tot} \\geq m \\right)\\\\\n",
    "    \\omega + (1 - \\omega) \\cdot \\sqrt{\\frac{o}{o_{tot}}} \\cdot \\sqrt{\\frac{o_{tot}}{m}}  & \\quad \\text{if } o \\text{ is } > 1 \\land \\left(  o_{tot} < m \\right)\\\\\n",
    "  \\end{cases}}$\n",
    "    \n",
    "- where $o$ is the number of orders of the specified product and $o_{tot}$ is the total amount of orders from the corresponding customer $p$.\n",
    "\n",
    "This approach takes the ratio of each product beeing ordered by a customer and weakens the rating, if to little orders are aviable."
   ]
  },
  {
   "cell_type": "code",
   "execution_count": null,
   "metadata": {},
   "outputs": [],
   "source": [
    "theta = 1/3\n",
    "o_tot = 10 # products in o\n",
    "# o total o of customer\n",
    "m = 10 # lowers ratings ir less than m orders\n",
    "\n",
    "for o_tot in range(m+20):\n",
    "    print(\"o_tot =\", o_tot)\n",
    "    for o in range(o_tot + 1):\n",
    "        if o == 0:\n",
    "            x = 0\n",
    "        elif o == 1:\n",
    "            x = theta\n",
    "        else:\n",
    "            if o_tot < m:\n",
    "                w_freq = np.sqrt(o_tot / m)\n",
    "            else:\n",
    "                w_freq = 1\n",
    "\n",
    "            w_prod = np.sqrt(o / o_tot)\n",
    "            \n",
    "            x = theta + (1-theta) * w_prod * w_freq\n",
    "\n",
    "        print(\"x =\", x)"
   ]
  }
 ],
 "metadata": {
  "kernelspec": {
   "display_name": "Python 3",
   "language": "python",
   "name": "python3"
  },
  "language_info": {
   "codemirror_mode": {
    "name": "ipython",
    "version": 3
   },
   "file_extension": ".py",
   "mimetype": "text/x-python",
   "name": "python",
   "nbconvert_exporter": "python",
   "pygments_lexer": "ipython3",
   "version": "3.7.3"
  }
 },
 "nbformat": 4,
 "nbformat_minor": 4
}
