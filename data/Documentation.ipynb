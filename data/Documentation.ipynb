{
 "cells": [
  {
   "cell_type": "markdown",
   "metadata": {},
   "source": [
    "# FS20C7 - Recommendations in Retail\n",
    "#### Documentation\n",
    "----\n",
    "Authors: Simon Luder, Lukas Gehrig, Roman Studer"
   ]
  },
  {
   "cell_type": "markdown",
   "metadata": {},
   "source": [
    "## Abstract"
   ]
  },
  {
   "cell_type": "markdown",
   "metadata": {},
   "source": [
    "## Management Summary\n",
    "<span style=\"color:red\">Maximal eine Seite lang!</span>"
   ]
  },
  {
   "cell_type": "markdown",
   "metadata": {},
   "source": [
    "### Initial Situation\n",
    "<span style=\"color:blue\">Short informations about the initial situation </span>"
   ]
  },
  {
   "cell_type": "markdown",
   "metadata": {},
   "source": [
    "### Procedure\n",
    "<span style=\"color:blue\">What was the procedure during the project?</span>"
   ]
  },
  {
   "cell_type": "markdown",
   "metadata": {},
   "source": [
    "### Result\n",
    "<span style=\"color:blue\">What are our deliverables?</span>"
   ]
  },
  {
   "cell_type": "markdown",
   "metadata": {},
   "source": [
    "## Introduction\n",
    "<span style=\"color:blue\">Quesitons to answer: Why was the study undertaken? What was the research question, the tested hypothesis or the purpose of the research?</span>"
   ]
  },
  {
   "cell_type": "markdown",
   "metadata": {},
   "source": [
    "### Task definition\n",
    "<span style=\"color:blue\">Official Task definition out of DS-Spaces</span>"
   ]
  },
  {
   "cell_type": "markdown",
   "metadata": {},
   "source": [
    "### Main goal\n",
    "<span style=\"color:blue\">Explain why we want to build a modular recommender and explore diffrent variants.</span>"
   ]
  },
  {
   "cell_type": "markdown",
   "metadata": {},
   "source": [
    "### Concept\n",
    "<span style=\"color:blue\">Submitted concept</span>"
   ]
  },
  {
   "cell_type": "markdown",
   "metadata": {},
   "source": [
    "## Methods\n",
    "<span style=\"color:blue\">Quesitons to answer: When, where, and how was the study done? What materials were used or who was included in the study groups (patients, etc.)?</span>"
   ]
  },
  {
   "cell_type": "markdown",
   "metadata": {},
   "source": [
    "### Research Team \n",
    "<span style=\"color:blue\">Short introduction of our team and the people involved in the project.\n",
    "</span>"
   ]
  },
  {
   "cell_type": "markdown",
   "metadata": {},
   "source": [
    "### Data reduction\n",
    "<span style=\"color:blue\">According to our task definition, up to 80 percent if all products can be discarded. Here written are the different methodes used to achieve this task.\n",
    "</span>"
   ]
  },
  {
   "cell_type": "markdown",
   "metadata": {},
   "source": [
    "### Interaction matrix\n",
    "<span style=\"color:blue\">The reduced data now needs to be brought into the shape of a interaction matrix. Here documentet is the evaluation and implementation of the different matrix types.\n",
    "</span>"
   ]
  },
  {
   "cell_type": "markdown",
   "metadata": {},
   "source": [
    "### Similarity matrix\n",
    "<span style=\"color:blue\">The similarity is the base of collaborative filtering models. Which similarity measures can be used for this task and what are the differences it these?\n",
    "</span>"
   ]
  },
  {
   "cell_type": "markdown",
   "metadata": {},
   "source": [
    "### Recommender System Algorithms\n",
    "<span style=\"color:blue\">This section deals with the different approaches for recommender systems. E.g collaborative filtering, content based, hybrid approach.\n",
    "</span>"
   ]
  },
  {
   "cell_type": "markdown",
   "metadata": {},
   "source": [
    "### Evaluation options\n",
    "<span style=\"color:blue\">Because we want to compare the efficiency of different recommender systems , we need methods to compare how well they perform, regarding our task. What are suitable methods to evaluate a recommender?</span>"
   ]
  },
  {
   "cell_type": "markdown",
   "metadata": {},
   "source": [
    "### Implementation\n",
    "<span style=\"color:blue\">Description of our code structure. We want to implement our recommender in a modular way so that it is possible to easily swap different methods and approaches for an efficient comparison.</span>"
   ]
  },
  {
   "cell_type": "markdown",
   "metadata": {},
   "source": [
    "## Results\n",
    "----\n",
    "<span style=\"color:blue\">Quesitons to answer: When, where, and how was the study done? What materials were used or who was included?</span>\n",
    "\n",
    "<span style=\"color:blue\">This section will summarize the results of the tested algorithms and methods (including metrics like similarity measures and evaluation methods) and explain them per algorithm. It should also include a description of the comparisons.</span>"
   ]
  },
  {
   "cell_type": "markdown",
   "metadata": {},
   "source": [
    "### Metrics per algorithm\n",
    "<span style=\"color:blue\">Here the results of the methods used are recorded per algorithm. (if possible in a clear, tabular form)</span>\n",
    "\n",
    "<span style=\"color:blue\">\n",
    "Structure:\n",
    "- Model (IBCF, UBCF, SVD etc.)\n",
    "- Way of Product Reduction\n",
    "- Used Similarity Measure (Cosine, Pearson, etc.) \n",
    "- Results of evaluation Method. (MAE, NMAE, RSME, Manual)\n",
    "- Despription (maybe with runtime)</span>"
   ]
  },
  {
   "cell_type": "markdown",
   "metadata": {},
   "source": [
    "### Comparison\n",
    "\n",
    "<span style=\"color:blue\">This section brings together all previously recorded results. This allows you to compare them and classify them by effectiveness etc.</span>\n"
   ]
  },
  {
   "cell_type": "markdown",
   "metadata": {},
   "source": [
    "### Evaluation of Comparison\n",
    "\n",
    "<span style=\"color:blue\">After the presentation of the results, a comprehensive description and evaluation of the results is also included. Here the \"winners\" are announced..</span>"
   ]
  },
  {
   "cell_type": "markdown",
   "metadata": {},
   "source": [
    "## Discussion\n",
    "----\n",
    "<span style=\"color:blue\">Quesitons to answer: What might the answer imply and why does it matter? How does it fit in with what other researchers have found? What are the perspectives for future research?</span>\n"
   ]
  },
  {
   "cell_type": "markdown",
   "metadata": {},
   "source": [
    "### Description of the results\n",
    "\n",
    "<span style=\"color:blue\">Here the results of the project work are discussed and evaluated.</span>"
   ]
  },
  {
   "cell_type": "markdown",
   "metadata": {},
   "source": [
    "### Significance\n",
    "<span style=\"color:blue\">How meaningful are our results? This section is dedicated to this question and also partly answers the question whether our system is suitable for further use.</span>\n"
   ]
  },
  {
   "cell_type": "markdown",
   "metadata": {},
   "source": [
    "### Problems\n",
    "<span style=\"color:blue\">The encountered problems (for expample performance issues) should be documented in this section.</span>"
   ]
  },
  {
   "cell_type": "markdown",
   "metadata": {},
   "source": [
    "### Comparison with other projects\n",
    "<span style=\"color:blue\">There are several projects/libraries that contain a similar project (Modular Recommender). It is interesting to make a comparison here. Example: Surprise Recommender library</span>\n"
   ]
  },
  {
   "cell_type": "markdown",
   "metadata": {},
   "source": [
    "### Next steps\n",
    "<span style=\"color:blue\">What information can we take with us? Is it possible to continue the work and build on it?</span>\n"
   ]
  },
  {
   "cell_type": "markdown",
   "metadata": {},
   "source": [
    "### Summary\n",
    "\n",
    "<span style=\"color:blue\">Finally a review of the project and a short summary of the results.</span>"
   ]
  },
  {
   "cell_type": "markdown",
   "metadata": {},
   "source": [
    "## Sources\n",
    "----"
   ]
  },
  {
   "cell_type": "markdown",
   "metadata": {},
   "source": [
    "## Glossary\n",
    "----"
   ]
  }
 ],
 "metadata": {
  "kernelspec": {
   "display_name": "Python 3",
   "language": "python",
   "name": "python3"
  },
  "language_info": {
   "codemirror_mode": {
    "name": "ipython",
    "version": 3
   },
   "file_extension": ".py",
   "mimetype": "text/x-python",
   "name": "python",
   "nbconvert_exporter": "python",
   "pygments_lexer": "ipython3",
   "version": "3.7.3"
  }
 },
 "nbformat": 4,
 "nbformat_minor": 4
}
