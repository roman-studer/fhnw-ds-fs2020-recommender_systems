{
 "cells": [
  {
   "cell_type": "markdown",
   "metadata": {},
   "source": [
    "# FS20C7 - Recommendations in Retail\n",
    "#### Documentation\n",
    "----\n",
    "Authors: Simon Luder, Roman Studer"
   ]
  },
  {
   "cell_type": "markdown",
   "metadata": {},
   "source": [
    "## Management Summary\n",
    "<span style=\"color:red\">Maximal eine Seite lang!</span>"
   ]
  },
  {
   "cell_type": "markdown",
   "metadata": {},
   "source": [
    "### Initial Situation\n",
    "<span style=\"color:blue\">Short informations about the initial situation </span>"
   ]
  },
  {
   "cell_type": "markdown",
   "metadata": {},
   "source": [
    "### Procedure\n",
    "<span style=\"color:blue\">What was the procedure during the project?</span>"
   ]
  },
  {
   "cell_type": "markdown",
   "metadata": {},
   "source": [
    "### Result\n",
    "<span style=\"color:blue\">What are our deliverables?</span>"
   ]
  },
  {
   "cell_type": "markdown",
   "metadata": {},
   "source": [
    "## 1 Introduction\n",
    "<span style=\"color:blue\">Quesitons to answer: Why was the study undertaken? What was the research question, the tested hypothesis or the purpose of the research?</span>\n",
    "\n",
    "- Initial Situation \n",
    "- Why do we build a plug'n'play recommdender?\n",
    "- Problem description (Aufgabenstellung)\n",
    "\n",
    "<span style=\"color:red\">Task definition: Official Task definition out of DS-Spaces (in Introduction) + Aufbau des Berichts in die Einführung einbinden.</span>"
   ]
  },
  {
   "cell_type": "markdown",
   "metadata": {},
   "source": [
    "## 2 Theoretical Background \n",
    "\n",
    "<span style=\"color:red\">How does a recommender work? What is needed? Explain a recommender system.</span>\n",
    "\n",
    "- Where do we use recommenders, what kind of problems do they solve?\n",
    "- What are the different main approaches for recommendersystems (collaborative, content based)\n",
    "- What is a basic structure of a Recommender\n",
    "- (Similarity, Interaction)"
   ]
  },
  {
   "cell_type": "markdown",
   "metadata": {},
   "source": [
    "### 2.1 Main goal\n",
    "<span style=\"color:blue\">Explain what we want to build. A modular recommender to explore diffrent variants and combinations of recommder systems.</span>"
   ]
  },
  {
   "cell_type": "markdown",
   "metadata": {},
   "source": [
    "### 2.2 Recommender System Algorithms\n",
    "<span style=\"color:blue\">This section deals with the different approaches for recommender systems. E.g collaborative filtering, content based, hybrid approach.\n",
    "</span>"
   ]
  },
  {
   "cell_type": "markdown",
   "metadata": {},
   "source": [
    "### 2.3 Evaluation options\n",
    "<span style=\"color:blue\">Because we want to compare the efficiency of different recommender systems , we need methods to compare how well they perform, regarding our task. What are suitable methods to evaluate a recommender?</span>"
   ]
  },
  {
   "cell_type": "markdown",
   "metadata": {},
   "source": [
    "## 3 Methods\n",
    "<span style=\"color:blue\">Quesitons to answer: When, where, and **how** was the study done? What materials were used or who was included in the study groups (patients, etc.)?</span>"
   ]
  },
  {
   "cell_type": "markdown",
   "metadata": {},
   "source": [
    "### 3.1 Data reduction\n",
    "<span style=\"color:blue\">According to our task definition, up to 80 percent if all products can be discarded. Here written are the different methodes used to achieve this task.\n",
    "</span>"
   ]
  },
  {
   "cell_type": "markdown",
   "metadata": {},
   "source": [
    "### 3.2 Interaction matrix\n",
    "<span style=\"color:blue\">The reduced data now needs to be brought into the shape of a interaction matrix. Here documentet is the evaluation and implementation of the different matrix types.\n",
    "</span>"
   ]
  },
  {
   "cell_type": "markdown",
   "metadata": {},
   "source": [
    "### 3.3 Similarity matrix\n",
    "<span style=\"color:blue\">The similarity is the base of collaborative filtering models. Which similarity measures can be used for this task and what are the differences it these?\n",
    "</span>"
   ]
  },
  {
   "cell_type": "markdown",
   "metadata": {},
   "source": [
    "### 3.4 Implementation\n",
    "<span style=\"color:blue\">Description of our code structure. We want to implement our recommender in a modular way so that it is possible to easily swap different methods and approaches for an efficient comparison.</span>"
   ]
  },
  {
   "cell_type": "markdown",
   "metadata": {},
   "source": [
    "## 4 Results\n",
    "----\n",
    "<span style=\"color:blue\">This section will summarize the results of the tested algorithms and methods (including metrics like similarity measures and evaluation methods) and explain them per algorithm. It should also include a description of the comparisons.</span>"
   ]
  },
  {
   "cell_type": "markdown",
   "metadata": {},
   "source": [
    "### 4.1 Metrics per algorithm\n",
    "<span style=\"color:blue\">Here the results of the methods used are recorded per algorithm. (if possible in a clear, tabular form)</span>\n",
    "\n",
    "<span style=\"color:blue\">\n",
    "Structure:\n",
    "- Model (IBCF, UBCF, SVD etc.)\n",
    "- Way of Product Reduction\n",
    "- Used Similarity Measure (Cosine, Pearson, etc.) \n",
    "- Results of evaluation Method. (MAE, NMAE, RSME, Manual)\n",
    "- Despription (maybe with runtime)</span>"
   ]
  },
  {
   "cell_type": "markdown",
   "metadata": {},
   "source": [
    "### 4.2 Comparison of the results from diffrent combinations of ratings, similarity functions and prediction functions.\n",
    "\n",
    "<span style=\"color:blue\">This section brings together all previously recorded results. This allows you to compare them and classify them by effectiveness etc.</span>\n"
   ]
  },
  {
   "cell_type": "markdown",
   "metadata": {},
   "source": [
    "<span style=\"color:blue\">After the presentation of the results, a comprehensive description of the results is also included. Here the \"winner\" or best working combination is announced..</span>"
   ]
  },
  {
   "cell_type": "markdown",
   "metadata": {},
   "source": [
    "## 5 Discussion\n",
    "----\n",
    "<span style=\"color:blue\">Quesitons to answer: What might the answer imply and why does it matter? How does it fit in with what other researchers have found? What are the perspectives for future research?</span>\n"
   ]
  },
  {
   "cell_type": "markdown",
   "metadata": {},
   "source": [
    "### 5.1 Description of the results\n",
    "\n",
    "<span style=\"color:blue\">Here the results of the project work are discussed and evaluated.</span>"
   ]
  },
  {
   "cell_type": "markdown",
   "metadata": {},
   "source": [
    "<span style=\"color:blue\">How meaningful are our results? This section is dedicated to this question and also partly answers the question whether our system is suitable for further use.</span>\n"
   ]
  },
  {
   "cell_type": "markdown",
   "metadata": {},
   "source": [
    "<span style=\"color:blue\">The encountered problems (for expample performance issues) should be documented in this section.</span>"
   ]
  },
  {
   "cell_type": "markdown",
   "metadata": {},
   "source": [
    "## 6 Conclusion and Outlook"
   ]
  },
  {
   "cell_type": "markdown",
   "metadata": {},
   "source": [
    "<span style='color:red'>Start with short summary and then link to other, similar projects</span>"
   ]
  },
  {
   "cell_type": "markdown",
   "metadata": {},
   "source": [
    "<span style=\"color:blue\">A review of the project and a short summary of the results.</span>"
   ]
  },
  {
   "cell_type": "markdown",
   "metadata": {},
   "source": [
    "<span style=\"color:blue\">There are several projects/libraries that contain a similar project (Modular Recommender). It is interesting to make a comparison here. Example: Surprise Recommender library</span>"
   ]
  },
  {
   "cell_type": "markdown",
   "metadata": {},
   "source": [
    "<span style=\"color:blue\">What information can we take with us? Is it possible to continue the work and build on it?</span>"
   ]
  },
  {
   "cell_type": "markdown",
   "metadata": {},
   "source": [
    "## 7 Sources\n",
    "----"
   ]
  },
  {
   "cell_type": "markdown",
   "metadata": {},
   "source": [
    "## 8 Glossary\n",
    "----"
   ]
  }
 ],
 "metadata": {
  "kernelspec": {
   "display_name": "Python 3",
   "language": "python",
   "name": "python3"
  },
  "language_info": {
   "codemirror_mode": {
    "name": "ipython",
    "version": 3
   },
   "file_extension": ".py",
   "mimetype": "text/x-python",
   "name": "python",
   "nbconvert_exporter": "python",
   "pygments_lexer": "ipython3",
   "version": "3.7.3"
  },
  "toc-autonumbering": false,
  "toc-showcode": false,
  "toc-showmarkdowntxt": false
 },
 "nbformat": 4,
 "nbformat_minor": 4
}
