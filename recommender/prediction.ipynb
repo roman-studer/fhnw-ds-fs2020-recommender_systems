{
 "cells": [
  {
   "cell_type": "code",
   "execution_count": 1,
   "metadata": {},
   "outputs": [],
   "source": [
    "import pandas as pd\n",
    "import numpy as np\n",
    "import pickle\n",
    "from scipy.sparse.linalg import norm\n",
    "from scipy.sparse import csr_matrix, csc_matrix, coo_matrix, issparse, vstack\n",
    "from pandas.api.types import CategoricalDtype\n",
    "from IPython.display import clear_output\n",
    "import timeit, json, warnings\n",
    "from tqdm import notebook"
   ]
  },
  {
   "cell_type": "markdown",
   "metadata": {},
   "source": [
    "# Prediction\n",
    "----"
   ]
  },
  {
   "cell_type": "code",
   "execution_count": 2,
   "metadata": {},
   "outputs": [],
   "source": [
    "def predict(R, mode):\n",
    "    \"\"\"\n",
    "    Generates the predictions for each given user in `R`\n",
    "    \n",
    "    :param R: users to predict recommendations, usually the interaction matrix (user/item), either: pd.DataFrame, np.ndarray, np.matrix or scipy.sparse matrix\n",
    "    :param method: method chosen of how `R` was created. 'rating'/'count' will result in equation 2.8, 'binary' will result in equation 2.10\n",
    "    \n",
    "    :returns: -scipy.sparse coo_matrix if `method` was 'rating' or 'count'\n",
    "              - np.array if `method` was 'binary' (float32)\n",
    "    \"\"\"\n",
    "    predictions = None\n",
    "    \n",
    "    # convert R to sparse column matrix if not already done\n",
    "    if isinstance(R, pd.DataFrame):\n",
    "        R = csc_matrix(R.values)\n",
    "    elif isinstance(R, np.matrix) or isinstance(R, np.ndarray):\n",
    "        R = csc_matrix(R)\n",
    "    elif issparse(R):\n",
    "        pass\n",
    "    \n",
    "    if mode == 'rating' or mode == 'count':\n",
    "        \"\"\"This mode works if the rating is NOT unary AND\n",
    "        when it is NOT possible for similarity scores to be negative when ratings are constrained to be nonnegative.\n",
    "        \n",
    "        Formula: p_{u,i} = (sum_{j∈S}(s(i,j)*r_{u,j})) / (sum_{j∈S}(abs(s(i,j)))) | S is a set of items similar to i\n",
    "        \n",
    "        Equation 2.8 shown in:\n",
    "        Collaborative Filtering Recommender Systems 2010\n",
    "        By Michael D. Ekstrand, John T. Riedl and Joseph A. Konstan\"\"\"\n",
    "        \n",
    "        batchsize = 10000 # tests have shown that this is a good batch size to avoid performance issues\n",
    "        df_s = pd.read_csv('../data/similar_items/freq_rating_item_similar_objects.csv')\n",
    "        sim = pickle.load(open('../data/similarity/freq_rating_item_similarity.pkl', 'rb'))\n",
    "        df_ix = df_s.iloc[:, 2:]\n",
    "        num_items = int(df_ix.shape[1] / 3)\n",
    "        s_ix_np = df_ix.iloc[:, num_items:-num_items].to_numpy()\n",
    "        sim_product = df_s.iloc[:, -num_items:].to_numpy()\n",
    "\n",
    "        # create sparse similarity matrix where for each column the item_i just contains the k nearest similarities\n",
    "        # rest is zero for matrix dot product\n",
    "        col_ix = np.array([s_ix_np.shape[1] * [i] for i in range(s_ix_np.shape[0])]).ravel()\n",
    "        row_ix = s_ix_np.astype(int).ravel()\n",
    "        A = np.zeros(sim.shape)\n",
    "        A[row_ix, col_ix] = 1\n",
    "        S = A * sim # hadamard product to just keep k similarities\n",
    "        S = csr_matrix(S)\n",
    "        \n",
    "        # perform batchwise predictions\n",
    "        i_prev = 0\n",
    "        denominators = 1 / np.sum(np.absolute(sim_product), axis = 1)\n",
    "        \n",
    "        for i in range(batchsize, R.shape[0] + batchsize, batchsize):\n",
    "            # batch prep\n",
    "            i = min(i, R.shape[0])\n",
    "            batch = R[i_prev:i]\n",
    "            \n",
    "            # numerators\n",
    "            batch_predictions = batch.dot(S)\n",
    "\n",
    "            # denominators with hadamard product\n",
    "            D = np.array([[denominator] * batch_predictions.shape[0] for denominator in denominators]).T\n",
    "            batch_predictions = batch_predictions.multiply(D)\n",
    "            \n",
    "            # append batch to predictions\n",
    "            if issparse(predictions):\n",
    "                predictions = vstack([predictions, batch_predictions])\n",
    "            else:\n",
    "                predictions = batch_predictions\n",
    "            \n",
    "            # update slice index\n",
    "            i_prev = i\n",
    "        \n",
    "    elif mode == 'binary':\n",
    "        \"\"\"This mode works only for unary scores.\n",
    "        \n",
    "        Formula: p_{u,i} = sum_{j∈I_u}(s(i,j)) | I_u is the user's purchase history\n",
    "        \n",
    "        Equation 2.10 shown in:\n",
    "        Collaborative Filtering Recommender Systems 2010\n",
    "        By Michael D. Ekstrand, John T. Riedl and Joseph A. Konstan\"\"\"\n",
    "\n",
    "        S = pickle.load(open('../data/similarity/freq_binary_item_similarity.pkl', 'rb'))\n",
    "        # dot product works because summation of similarities which are in I_u is given if rating is unary\n",
    "        # and non bought-items are weighted as zero\n",
    "        I = coo_matrix(R).tocsr()\n",
    "        predictions = np.float32(I.dot(S)) #np.float32 doubles execution time, but reduces memory requirements by half\n",
    "    \n",
    "    return predictions"
   ]
  },
  {
   "cell_type": "code",
   "execution_count": 3,
   "metadata": {},
   "outputs": [
    {
     "data": {
      "text/plain": [
       "<10000x9936 sparse matrix of type '<class 'numpy.float64'>'\n",
       "\twith 39591080 stored elements in COOrdinate format>"
      ]
     },
     "execution_count": 3,
     "metadata": {},
     "output_type": "execute_result"
    }
   ],
   "source": [
    "R = pickle.load(open('../data/interaction/freq_rating_item_interaction.pkl', 'rb'))\n",
    "#predict(R[:10000], 'rating')"
   ]
  },
  {
   "cell_type": "code",
   "execution_count": 4,
   "metadata": {},
   "outputs": [],
   "source": [
    "R = pickle.load(open('../data/interaction/freq_binary_item_interaction.pkl', 'rb'))\n",
    "#p = predict(R, 'binary')\n",
    "#p"
   ]
  }
 ],
 "metadata": {
  "kernelspec": {
   "display_name": "Python 3",
   "language": "python",
   "name": "python3"
  },
  "language_info": {
   "codemirror_mode": {
    "name": "ipython",
    "version": 3
   },
   "file_extension": ".py",
   "mimetype": "text/x-python",
   "name": "python",
   "nbconvert_exporter": "python",
   "pygments_lexer": "ipython3",
   "version": "3.7.6"
  }
 },
 "nbformat": 4,
 "nbformat_minor": 4
}
